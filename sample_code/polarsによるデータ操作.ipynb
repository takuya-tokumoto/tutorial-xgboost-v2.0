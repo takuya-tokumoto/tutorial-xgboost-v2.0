{
 "cells": [
  {
   "cell_type": "markdown",
   "metadata": {
    "id": "vAD2bx2FYbdW"
   },
   "source": [
    "本稿は主に以下を参照してます。\n",
    "- 前処理大全［データ分析のためのSQL/R/Python実践テクニック］本橋 智光 (著)\n",
    "- [polars公式ガイド](https://pola-rs.github.io/polars-book/user-guide/index.html)\n",
    "- [Qiita記事 pandasから移行する人向け polars使用ガイド](https://qiita.com/nkay/items/9cfb2776156dc7e054c8#%E8%A1%8C%E3%83%95%E3%82%A3%E3%83%AB%E3%82%BF%E3%83%AA%E3%83%B3%E3%82%B0filter)\n",
    "- [Qiita記事 超高速…だけじゃない！Pandasに代えてPolarsを使いたい理由](https://qiita.com/_jinta/items/fac13f09e8e8a5769b79#)"
   ]
  },
  {
   "cell_type": "markdown",
   "metadata": {
    "id": "Dpyky7JIYdI-"
   },
   "source": [
    "# polarとは？"
   ]
  },
  {
   "cell_type": "markdown",
   "metadata": {
    "id": "5z9W21wWWqaT"
   },
   "source": [
    "- Polarsは、Apache Arrow Columnar Formatをメモリモデルとして、Rustで実装された超高速DataFramesライブラリです。\n",
    "\n",
    "- Blazingly fast\n",
    "    - Polarsは非常に高速です。実際、利用可能なソリューションの中で最高のパフォーマンスを発揮します。h2oaiのdb-benchmarkで結果をご覧ください。\n",
    "    - TPCHベンチマークでは、polarsはpandas、dask、modin、vaexよりも（IOを含む）フルクエリで数桁速いです。\n",
    "- Lightweight\n",
    "    - Polarsはまた、非常に軽量です。必要な依存関係はゼロで、これはインポート時間にも表れています。\n",
    "            ○ Polars: 70ms\n",
    "            ○ numpy: 104ms\n",
    "            ○ pandas：520ms\n",
    "- Handles larger than RAM data\n",
    "    - メモリに収まらないデータがある場合、polars lazyはストリーミングでクエリ（またはクエリの一部）を処理することができ、必要なメモリを大幅に削減できるため、250GBのデータセットをラップトップで処理できるかもしれません。\n",
    "    - collect(streaming=True) を使ってクエリをストリーミングで実行します。(これは少し遅くなるかもしれませんが、それでも非常に速いです!)\n"
   ]
  },
  {
   "cell_type": "markdown",
   "metadata": {
    "id": "XgeVzRwNO3GL"
   },
   "source": [
    "#所感\n",
    "\n",
    "*   pandasよりもpoloarsの方が基本優秀\n",
    "*   エクスプレションを使うことでさらに処理速度が上がる\n",
    "*   書き方はpandasよりもpysparkに近い印象\n",
    "\n",
    "*   pandasにできることはほぼできるが痒いところに手が届いていない印象\n",
    "    *   csvへの書き出しの際にutf-8以外選択できない\n",
    "    *   `.hist()`などpandasから気軽に使えた描画ツール系は対応していないっぽい\n",
    "    *   pandasにあったindexが存在しないため`.loc`, `.iloc`などの機能が廃止(逆にpandasのindex機能がうざかったので自分的には使いやすい。。)\n",
    "    *   欠損値の取り扱いについて、pandasではNA(pd.NA)、polarsではnull(pl.Null)が割り当てられます。\n",
    "        *   pandasでNAが入ったカラムはobject型になりますが、polarsではnull以外の型がキープされます。例えば、`pl.Series=[1, null, 2]`であればi64型になります。\n",
    "        *   nullまたはNaNに対する数値演算・比較演算ではnullまたはNaNが維持されます。\n",
    "\n"
   ]
  },
  {
   "cell_type": "markdown",
   "metadata": {
    "id": "XNN0mErW_7hl"
   },
   "source": [
    "# pl.Exprについて\n",
    "Polarsの書きやすさの中心にあるのが、polars.Expressionというやつです。これは何かというと、\n",
    "\n",
    "> a mapping from a series to a series\n",
    "\n",
    "と説明されてます[^expl]。つまり、ある列から他の列への加工処理の方法を記述したものです。複数列からのmappingもできます。データフレームに対する主な処理は `select`, `with_columns`, `agg`, `filter` などですが、任意の場所でpl.Exprを使うことが出来ます。どういうことか。\n",
    "\n",
    "[^expl]: https://pola-rs.github.io/polars-book/user-guide/dsl/intro.html\n",
    "\n",
    "たとえば、文字列で入ってる `cost` 列を整数に変換する処理は\n",
    "```\n",
    "pl.col(\"cost\").str.extract(\"\\$(.*)\").cast(pl.Int64)\n",
    "```\n",
    "という pl.Expr で書けます（まず `pl.col` でcost列を指定し、それに対し `str.extract` で `$` に続く部分を抽出する文字列処理を行い、最後に `cast` でInt型に変換しています）。これを色んな所で使いまわせます。\n",
    "\n",
    "```\n",
    "# 整数に変換した列の追加\n",
    "df.with_columns(pl.col(\"cost\").str.extract(\"\\$(.*)\").cast(pl.Int64).alias(\"cost_int\"))\n",
    "\n",
    "# コストが100ドル以上の行を選択\n",
    "df.filter(pl.col(\"cost\").str.extract(\"\\$(.*)\").cast(pl.Int64) > 100)\n",
    "\n",
    "# 店舗ごとのコストの合計を計算\n",
    "df.groupby(\"store\").agg(pl.col(\"cost\").str.extract(\"\\$(.*)\").cast(pl.Int64).sum())\n",
    "```\n",
    "\n",
    "ここで強調したいのは、同じ表現を繰り返し使えることではありません。ポイントは、どんな処理も同じ頭の働かせ方で済むことです。書き方に悩むことがなくなり、統一感も出しやすいです。\n",
    "\n",
    "このようにpl.Expressionを用いると柔軟な記述が実現できるため、公式でもExpression APIを推奨しています。"
   ]
  },
  {
   "cell_type": "markdown",
   "metadata": {
    "id": "3-xT6mgfYadD"
   },
   "source": [
    "# データ型について\n",
    "\n"
   ]
  },
  {
   "cell_type": "markdown",
   "metadata": {
    "id": "KBGUbm2OYVtA"
   },
   "source": [
    "`polars`のシリーズは、`pandas`のそれと同様、データ型（`dtype`）が存在します。以下はデータ型の例です。\n",
    "\n",
    "| polarsの型                  | pandas(Numpy)の類似する型      | 説明             |\n",
    "| :-------------------------- | :----------------------------- | :--------------- |\n",
    "| `pl.Int8` ~ `pl.Int64`      | `np.int8` ~ `np.int64` 等      | 整数             |\n",
    "| `pl.UInt8` ~ `pl.UInt64`    | `np.uint8` ~ `np.uint64` 等    | 整数（符号なし） |\n",
    "| `pl.Float32` / `pl.Float64` | `np.float32` / `np.float64` 等 | 浮動小数         |\n",
    "| `pl.Boolean`                | `np.bool` / `pd.BooleanDtype`  | 真偽値           |\n",
    "| `pl.Utf8`                   | `pd.StringDtype`               | 文字列           |\n",
    "| `pl.Categorical`            | `pd.CategoricalDtype`          | カテゴリー       |\n",
    "| `pl.List`                   | -                              | リスト           |\n",
    "| `pl.Struct`                 | -                              | 構造化配列       |\n",
    "| `pl.Date`                   | -                              | 日付             |\n",
    "| `pl.Time`                   | -                              | 時刻（日付無し） |\n",
    "| `pl.Datetime`               | `np.datetime64`                | 日時             |\n",
    "| `pl.Duration`               | `np.timedelta64`               | 時間（時刻の差） |\n",
    "| `pl.Object`                 | `np.object_`                   | オブジェクト     |\n",
    "\n",
    "- pandasではデフォルトでは文字列をオブジェクトデータ型で扱うようになっています。それに対してpolarsには最初から文字列専用のデータ型が用意されています。\n",
    "- pandasで日付を扱う場合は一般的には時刻を0:00:00にした日時`np.datetime64`で代用しますが、polarsには日付のみを扱う`pl.Date`が存在し、また時刻のみを扱う`pl.Time`、日付＋時刻を扱う`pl.Datetime`もそれぞれ存在します。\n",
    "- 型変換メソッド、つまりpandasの`.astype()`は、polarsでは`.cast()`です。"
   ]
  },
  {
   "cell_type": "markdown",
   "metadata": {
    "id": "TMgIJZkxugUU"
   },
   "source": [
    "# Import "
   ]
  },
  {
   "cell_type": "markdown",
   "metadata": {
    "id": "UKdIclgm_Ulh"
   },
   "source": [
    "- condaパッケージ(conda install polars)もありますが、Polarsのインストールはpipが好ましい。\n",
    "- 依存関係を考慮した上でPolarsがインストールされる。"
   ]
  },
  {
   "cell_type": "code",
   "execution_count": 1,
   "metadata": {
    "colab": {
     "base_uri": "https://localhost:8080/"
    },
    "id": "sjreTBritgWm",
    "outputId": "efd6f6a7-ef32-4128-a170-5a12178159e7",
    "tags": []
   },
   "outputs": [
    {
     "name": "stdout",
     "output_type": "stream",
     "text": [
      "polars version:  0.19.3\n"
     ]
    }
   ],
   "source": [
    "import polars as pl\n",
    "import pandas as pd\n",
    "\n",
    "# to enrich the examples in this quickstart with dates\n",
    "from datetime import datetime, timedelta \n",
    "# to generate data for the examples\n",
    "import numpy as np \n",
    "\n",
    "print('polars version: ',pl.__version__)"
   ]
  },
  {
   "cell_type": "markdown",
   "metadata": {
    "id": "Rg9tXynsBzTc"
   },
   "source": [
    "# データフレーム作成"
   ]
  },
  {
   "cell_type": "markdown",
   "metadata": {
    "id": "8X8uL9O7Ggg_"
   },
   "source": [
    "　- polarとpandasで書き方変化なし"
   ]
  },
  {
   "cell_type": "markdown",
   "metadata": {
    "id": "cxsl5C2bDOSp"
   },
   "source": [
    "## polars"
   ]
  },
  {
   "cell_type": "code",
   "execution_count": 2,
   "metadata": {
    "id": "MKfxUNcHCscT",
    "tags": []
   },
   "outputs": [],
   "source": [
    "# rng = np.random.default_rng(0)\n",
    "pldf_a = pl.DataFrame({\"integer\": [1, 2, 3], \n",
    "                          \"date\": [\n",
    "                              (datetime(2022, 1, 1)), \n",
    "                              (datetime(2022, 1, 2)), \n",
    "                              (datetime(2022, 1, 3))\n",
    "                          ], \n",
    "                          \"float\":[4.0, 5.0, 6.0]})\n",
    "\n",
    "pldf_b = pl.Series(\"a\", [1, 2, 3, 4, 5])"
   ]
  },
  {
   "cell_type": "code",
   "execution_count": 3,
   "metadata": {
    "colab": {
     "base_uri": "https://localhost:8080/",
     "height": 149
    },
    "id": "FV6tGk1iDIlB",
    "outputId": "7241066e-86c4-469f-ecc4-eeb5cad55714",
    "tags": []
   },
   "outputs": [
    {
     "data": {
      "text/html": [
       "<div><style>\n",
       ".dataframe > thead > tr > th,\n",
       ".dataframe > tbody > tr > td {\n",
       "  text-align: right;\n",
       "  white-space: pre-wrap;\n",
       "}\n",
       "</style>\n",
       "<small>shape: (3, 3)</small><table border=\"1\" class=\"dataframe\"><thead><tr><th>integer</th><th>date</th><th>float</th></tr><tr><td>i64</td><td>datetime[μs]</td><td>f64</td></tr></thead><tbody><tr><td>1</td><td>2022-01-01 00:00:00</td><td>4.0</td></tr><tr><td>2</td><td>2022-01-02 00:00:00</td><td>5.0</td></tr><tr><td>3</td><td>2022-01-03 00:00:00</td><td>6.0</td></tr></tbody></table></div>"
      ],
      "text/plain": [
       "shape: (3, 3)\n",
       "┌─────────┬─────────────────────┬───────┐\n",
       "│ integer ┆ date                ┆ float │\n",
       "│ ---     ┆ ---                 ┆ ---   │\n",
       "│ i64     ┆ datetime[μs]        ┆ f64   │\n",
       "╞═════════╪═════════════════════╪═══════╡\n",
       "│ 1       ┆ 2022-01-01 00:00:00 ┆ 4.0   │\n",
       "│ 2       ┆ 2022-01-02 00:00:00 ┆ 5.0   │\n",
       "│ 3       ┆ 2022-01-03 00:00:00 ┆ 6.0   │\n",
       "└─────────┴─────────────────────┴───────┘"
      ]
     },
     "execution_count": 3,
     "metadata": {},
     "output_type": "execute_result"
    }
   ],
   "source": [
    "pldf_a"
   ]
  },
  {
   "cell_type": "code",
   "execution_count": 4,
   "metadata": {
    "colab": {
     "base_uri": "https://localhost:8080/",
     "height": 193
    },
    "id": "6_JAOm6PDRKP",
    "outputId": "79ebd6ab-9b1c-481e-9fd8-58fd4e4afecb",
    "tags": []
   },
   "outputs": [
    {
     "data": {
      "text/html": [
       "<div><style>\n",
       ".dataframe > thead > tr > th,\n",
       ".dataframe > tbody > tr > td {\n",
       "  text-align: right;\n",
       "  white-space: pre-wrap;\n",
       "}\n",
       "</style>\n",
       "<small>shape: (5,)</small><table border=\"1\" class=\"dataframe\"><thead><tr><th>a</th></tr><tr><td>i64</td></tr></thead><tbody><tr><td>1</td></tr><tr><td>2</td></tr><tr><td>3</td></tr><tr><td>4</td></tr><tr><td>5</td></tr></tbody></table></div>"
      ],
      "text/plain": [
       "shape: (5,)\n",
       "Series: 'a' [i64]\n",
       "[\n",
       "\t1\n",
       "\t2\n",
       "\t3\n",
       "\t4\n",
       "\t5\n",
       "]"
      ]
     },
     "execution_count": 4,
     "metadata": {},
     "output_type": "execute_result"
    }
   ],
   "source": [
    "pldf_b"
   ]
  },
  {
   "cell_type": "markdown",
   "metadata": {
    "id": "iAx4EJ2PDowl"
   },
   "source": [
    "## pandas"
   ]
  },
  {
   "cell_type": "code",
   "execution_count": 5,
   "metadata": {
    "id": "IqXNCE3PDodw",
    "tags": []
   },
   "outputs": [],
   "source": [
    "pdf_a = pd.DataFrame({\"integer\": [1, 2, 3], \n",
    "                          \"date\": [\n",
    "                              (datetime(2022, 1, 1)), \n",
    "                              (datetime(2022, 1, 2)), \n",
    "                              (datetime(2022, 1, 3))\n",
    "                          ], \n",
    "                          \"float\":[4.0, 5.0, 6.0]})\n",
    "\n",
    "pdf_b = pd.Series(\"a\",[1, 2, 3, 4, 5])"
   ]
  },
  {
   "cell_type": "code",
   "execution_count": 6,
   "metadata": {
    "colab": {
     "base_uri": "https://localhost:8080/",
     "height": 143
    },
    "id": "BO2wBuwIEfHs",
    "outputId": "0dce0d61-b9f4-46bf-8ada-1f05d58ee05b",
    "tags": []
   },
   "outputs": [
    {
     "data": {
      "text/html": [
       "<div>\n",
       "<style scoped>\n",
       "    .dataframe tbody tr th:only-of-type {\n",
       "        vertical-align: middle;\n",
       "    }\n",
       "\n",
       "    .dataframe tbody tr th {\n",
       "        vertical-align: top;\n",
       "    }\n",
       "\n",
       "    .dataframe thead th {\n",
       "        text-align: right;\n",
       "    }\n",
       "</style>\n",
       "<table border=\"1\" class=\"dataframe\">\n",
       "  <thead>\n",
       "    <tr style=\"text-align: right;\">\n",
       "      <th></th>\n",
       "      <th>integer</th>\n",
       "      <th>date</th>\n",
       "      <th>float</th>\n",
       "    </tr>\n",
       "  </thead>\n",
       "  <tbody>\n",
       "    <tr>\n",
       "      <th>0</th>\n",
       "      <td>1</td>\n",
       "      <td>2022-01-01</td>\n",
       "      <td>4.0</td>\n",
       "    </tr>\n",
       "    <tr>\n",
       "      <th>1</th>\n",
       "      <td>2</td>\n",
       "      <td>2022-01-02</td>\n",
       "      <td>5.0</td>\n",
       "    </tr>\n",
       "    <tr>\n",
       "      <th>2</th>\n",
       "      <td>3</td>\n",
       "      <td>2022-01-03</td>\n",
       "      <td>6.0</td>\n",
       "    </tr>\n",
       "  </tbody>\n",
       "</table>\n",
       "</div>"
      ],
      "text/plain": [
       "   integer       date  float\n",
       "0        1 2022-01-01    4.0\n",
       "1        2 2022-01-02    5.0\n",
       "2        3 2022-01-03    6.0"
      ]
     },
     "execution_count": 6,
     "metadata": {},
     "output_type": "execute_result"
    }
   ],
   "source": [
    "pdf_a"
   ]
  },
  {
   "cell_type": "code",
   "execution_count": 7,
   "metadata": {
    "colab": {
     "base_uri": "https://localhost:8080/"
    },
    "id": "q9TordgYEqQv",
    "outputId": "9aeb54d8-6e79-4b9b-a541-a8e4252b71a6",
    "tags": []
   },
   "outputs": [
    {
     "data": {
      "text/plain": [
       "1    a\n",
       "2    a\n",
       "3    a\n",
       "4    a\n",
       "5    a\n",
       "dtype: object"
      ]
     },
     "execution_count": 7,
     "metadata": {},
     "output_type": "execute_result"
    }
   ],
   "source": [
    "pdf_b"
   ]
  },
  {
   "cell_type": "markdown",
   "metadata": {
    "id": "9iduCf9CAUv1"
   },
   "source": [
    "# ファイルの読み書き"
   ]
  },
  {
   "cell_type": "markdown",
   "metadata": {
    "id": "Msj-Gy4oE1vS"
   },
   "source": [
    "## polars"
   ]
  },
  {
   "cell_type": "markdown",
   "metadata": {
    "id": "S4pe46X_O5GT"
   },
   "source": [
    "- polarsのCSVファイル出力関数はエンコードを指定できない（UTF8が強制される）。"
   ]
  },
  {
   "cell_type": "code",
   "execution_count": 8,
   "metadata": {
    "colab": {
     "base_uri": "https://localhost:8080/"
    },
    "id": "i2O4YU1bODLb",
    "outputId": "36032c10-9e70-4bcf-c75e-7e5639a0a25e",
    "tags": []
   },
   "outputs": [
    {
     "name": "stdout",
     "output_type": "stream",
     "text": [
      "CPU times: user 225 ms, sys: 8.35 ms, total: 234 ms\n",
      "Wall time: 1.17 s\n"
     ]
    }
   ],
   "source": [
    "%%time\n",
    "\n",
    "base_dir = 'https://raw.githubusercontent.com/ghmagazine/awesomebook/master/data/'\n",
    "\n",
    "pl_reserve_tb = pl.read_csv(base_dir+'reserve.csv', encoding='UTF-8')\n",
    "pl_hotel_tb = pl.read_csv(base_dir+'hotel.csv', encoding='UTF-8')\n",
    "pl_customer_tb = pl.read_csv(base_dir+'customer.csv', encoding='UTF-8')\n",
    "\n",
    "pl_reserve_tb.write_csv('tmp_reserve.csv')"
   ]
  },
  {
   "cell_type": "markdown",
   "metadata": {
    "id": "_5Wx--y0E5hi"
   },
   "source": [
    "## pandas"
   ]
  },
  {
   "cell_type": "code",
   "execution_count": 9,
   "metadata": {
    "colab": {
     "base_uri": "https://localhost:8080/"
    },
    "id": "9UupSwOINkxK",
    "outputId": "0f629e9e-baf0-416f-9982-f11be1bbc76e",
    "tags": []
   },
   "outputs": [
    {
     "name": "stdout",
     "output_type": "stream",
     "text": [
      "CPU times: user 126 ms, sys: 9.96 ms, total: 136 ms\n",
      "Wall time: 367 ms\n"
     ]
    }
   ],
   "source": [
    "%%time\n",
    "\n",
    "pd_reserve_tb = pd.read_csv(base_dir+'reserve.csv', encoding='UTF-8')\n",
    "pd_hotel_tb = pd.read_csv(base_dir+'hotel.csv', encoding='UTF-8') \n",
    "pd_customer_tb = pd.read_csv(base_dir+'customer.csv', encoding='UTF-8')\n",
    "\n",
    "pd_reserve_tb.to_csv('tmp_reserve.csv')"
   ]
  },
  {
   "cell_type": "markdown",
   "metadata": {
    "id": "rasmNlh1A4O4"
   },
   "source": [
    "# 可視化"
   ]
  },
  {
   "cell_type": "markdown",
   "metadata": {
    "id": "VzmaE0ovFUBs"
   },
   "source": [
    "## polars"
   ]
  },
  {
   "cell_type": "markdown",
   "metadata": {
    "id": "MNwnOTm1PrcC"
   },
   "source": [
    ".head() .tail()"
   ]
  },
  {
   "cell_type": "code",
   "execution_count": 10,
   "metadata": {
    "colab": {
     "base_uri": "https://localhost:8080/",
     "height": 149
    },
    "id": "dhetKvANPPKj",
    "outputId": "13c6b252-b97c-41f0-9b26-62e4b5dd1890",
    "tags": []
   },
   "outputs": [
    {
     "data": {
      "text/html": [
       "<div><style>\n",
       ".dataframe > thead > tr > th,\n",
       ".dataframe > tbody > tr > td {\n",
       "  text-align: right;\n",
       "  white-space: pre-wrap;\n",
       "}\n",
       "</style>\n",
       "<small>shape: (3, 9)</small><table border=\"1\" class=\"dataframe\"><thead><tr><th>reserve_id</th><th>hotel_id</th><th>customer_id</th><th>reserve_datetime</th><th>checkin_date</th><th>checkin_time</th><th>checkout_date</th><th>people_num</th><th>total_price</th></tr><tr><td>str</td><td>str</td><td>str</td><td>str</td><td>str</td><td>str</td><td>str</td><td>i64</td><td>i64</td></tr></thead><tbody><tr><td>&quot;r1&quot;</td><td>&quot;h_75&quot;</td><td>&quot;c_1&quot;</td><td>&quot;2016-03-06 13:…</td><td>&quot;2016-03-26&quot;</td><td>&quot;10:00:00&quot;</td><td>&quot;2016-03-29&quot;</td><td>4</td><td>97200</td></tr><tr><td>&quot;r2&quot;</td><td>&quot;h_219&quot;</td><td>&quot;c_1&quot;</td><td>&quot;2016-07-16 23:…</td><td>&quot;2016-07-20&quot;</td><td>&quot;11:30:00&quot;</td><td>&quot;2016-07-21&quot;</td><td>2</td><td>20600</td></tr><tr><td>&quot;r3&quot;</td><td>&quot;h_179&quot;</td><td>&quot;c_1&quot;</td><td>&quot;2016-09-24 10:…</td><td>&quot;2016-10-19&quot;</td><td>&quot;09:00:00&quot;</td><td>&quot;2016-10-22&quot;</td><td>2</td><td>33600</td></tr></tbody></table></div>"
      ],
      "text/plain": [
       "shape: (3, 9)\n",
       "┌───────────┬──────────┬───────────┬───────────┬───┬───────────┬───────────┬───────────┬───────────┐\n",
       "│ reserve_i ┆ hotel_id ┆ customer_ ┆ reserve_d ┆ … ┆ checkin_t ┆ checkout_ ┆ people_nu ┆ total_pri │\n",
       "│ d         ┆ ---      ┆ id        ┆ atetime   ┆   ┆ ime       ┆ date      ┆ m         ┆ ce        │\n",
       "│ ---       ┆ str      ┆ ---       ┆ ---       ┆   ┆ ---       ┆ ---       ┆ ---       ┆ ---       │\n",
       "│ str       ┆          ┆ str       ┆ str       ┆   ┆ str       ┆ str       ┆ i64       ┆ i64       │\n",
       "╞═══════════╪══════════╪═══════════╪═══════════╪═══╪═══════════╪═══════════╪═══════════╪═══════════╡\n",
       "│ r1        ┆ h_75     ┆ c_1       ┆ 2016-03-0 ┆ … ┆ 10:00:00  ┆ 2016-03-2 ┆ 4         ┆ 97200     │\n",
       "│           ┆          ┆           ┆ 6         ┆   ┆           ┆ 9         ┆           ┆           │\n",
       "│           ┆          ┆           ┆ 13:09:42  ┆   ┆           ┆           ┆           ┆           │\n",
       "│ r2        ┆ h_219    ┆ c_1       ┆ 2016-07-1 ┆ … ┆ 11:30:00  ┆ 2016-07-2 ┆ 2         ┆ 20600     │\n",
       "│           ┆          ┆           ┆ 6         ┆   ┆           ┆ 1         ┆           ┆           │\n",
       "│           ┆          ┆           ┆ 23:39:55  ┆   ┆           ┆           ┆           ┆           │\n",
       "│ r3        ┆ h_179    ┆ c_1       ┆ 2016-09-2 ┆ … ┆ 09:00:00  ┆ 2016-10-2 ┆ 2         ┆ 33600     │\n",
       "│           ┆          ┆           ┆ 4         ┆   ┆           ┆ 2         ┆           ┆           │\n",
       "│           ┆          ┆           ┆ 10:03:17  ┆   ┆           ┆           ┆           ┆           │\n",
       "└───────────┴──────────┴───────────┴───────────┴───┴───────────┴───────────┴───────────┴───────────┘"
      ]
     },
     "execution_count": 10,
     "metadata": {},
     "output_type": "execute_result"
    }
   ],
   "source": [
    "pl_reserve_tb.head(3)"
   ]
  },
  {
   "cell_type": "code",
   "execution_count": 11,
   "metadata": {
    "colab": {
     "base_uri": "https://localhost:8080/",
     "height": 149
    },
    "id": "BCHCemRaPoNl",
    "outputId": "33f79cb3-9707-4e4c-dc7d-c583e1f707d7",
    "tags": []
   },
   "outputs": [
    {
     "data": {
      "text/html": [
       "<div><style>\n",
       ".dataframe > thead > tr > th,\n",
       ".dataframe > tbody > tr > td {\n",
       "  text-align: right;\n",
       "  white-space: pre-wrap;\n",
       "}\n",
       "</style>\n",
       "<small>shape: (3, 9)</small><table border=\"1\" class=\"dataframe\"><thead><tr><th>reserve_id</th><th>hotel_id</th><th>customer_id</th><th>reserve_datetime</th><th>checkin_date</th><th>checkin_time</th><th>checkout_date</th><th>people_num</th><th>total_price</th></tr><tr><td>str</td><td>str</td><td>str</td><td>str</td><td>str</td><td>str</td><td>str</td><td>i64</td><td>i64</td></tr></thead><tbody><tr><td>&quot;r4028&quot;</td><td>&quot;h_27&quot;</td><td>&quot;c_999&quot;</td><td>&quot;2018-03-14 05:…</td><td>&quot;2018-04-02&quot;</td><td>&quot;11:30:00&quot;</td><td>&quot;2018-04-04&quot;</td><td>2</td><td>74800</td></tr><tr><td>&quot;r4029&quot;</td><td>&quot;h_48&quot;</td><td>&quot;c_1000&quot;</td><td>&quot;2016-04-16 15:…</td><td>&quot;2016-05-10&quot;</td><td>&quot;09:30:00&quot;</td><td>&quot;2016-05-13&quot;</td><td>4</td><td>540000</td></tr><tr><td>&quot;r4030&quot;</td><td>&quot;h_117&quot;</td><td>&quot;c_1000&quot;</td><td>&quot;2016-06-06 08:…</td><td>&quot;2016-07-06&quot;</td><td>&quot;09:00:00&quot;</td><td>&quot;2016-07-09&quot;</td><td>1</td><td>44100</td></tr></tbody></table></div>"
      ],
      "text/plain": [
       "shape: (3, 9)\n",
       "┌───────────┬──────────┬───────────┬───────────┬───┬───────────┬───────────┬───────────┬───────────┐\n",
       "│ reserve_i ┆ hotel_id ┆ customer_ ┆ reserve_d ┆ … ┆ checkin_t ┆ checkout_ ┆ people_nu ┆ total_pri │\n",
       "│ d         ┆ ---      ┆ id        ┆ atetime   ┆   ┆ ime       ┆ date      ┆ m         ┆ ce        │\n",
       "│ ---       ┆ str      ┆ ---       ┆ ---       ┆   ┆ ---       ┆ ---       ┆ ---       ┆ ---       │\n",
       "│ str       ┆          ┆ str       ┆ str       ┆   ┆ str       ┆ str       ┆ i64       ┆ i64       │\n",
       "╞═══════════╪══════════╪═══════════╪═══════════╪═══╪═══════════╪═══════════╪═══════════╪═══════════╡\n",
       "│ r4028     ┆ h_27     ┆ c_999     ┆ 2018-03-1 ┆ … ┆ 11:30:00  ┆ 2018-04-0 ┆ 2         ┆ 74800     │\n",
       "│           ┆          ┆           ┆ 4         ┆   ┆           ┆ 4         ┆           ┆           │\n",
       "│           ┆          ┆           ┆ 05:01:45  ┆   ┆           ┆           ┆           ┆           │\n",
       "│ r4029     ┆ h_48     ┆ c_1000    ┆ 2016-04-1 ┆ … ┆ 09:30:00  ┆ 2016-05-1 ┆ 4         ┆ 540000    │\n",
       "│           ┆          ┆           ┆ 6         ┆   ┆           ┆ 3         ┆           ┆           │\n",
       "│           ┆          ┆           ┆ 15:20:17  ┆   ┆           ┆           ┆           ┆           │\n",
       "│ r4030     ┆ h_117    ┆ c_1000    ┆ 2016-06-0 ┆ … ┆ 09:00:00  ┆ 2016-07-0 ┆ 1         ┆ 44100     │\n",
       "│           ┆          ┆           ┆ 6         ┆   ┆           ┆ 9         ┆           ┆           │\n",
       "│           ┆          ┆           ┆ 08:16:51  ┆   ┆           ┆           ┆           ┆           │\n",
       "└───────────┴──────────┴───────────┴───────────┴───┴───────────┴───────────┴───────────┴───────────┘"
      ]
     },
     "execution_count": 11,
     "metadata": {},
     "output_type": "execute_result"
    }
   ],
   "source": [
    "pl_reserve_tb.tail(3)"
   ]
  },
  {
   "cell_type": "markdown",
   "metadata": {
    "id": "vC4ojiKVPzyg"
   },
   "source": [
    ".glimpse()  \n",
    "\n",
    "\n",
    "*   文字列として、各列の先頭の要素10個が表示されます。\n",
    "*   列数が多い場合、print()よりもこちらのほうが見やすいとされています。\n",
    "\n"
   ]
  },
  {
   "cell_type": "code",
   "execution_count": 12,
   "metadata": {
    "colab": {
     "base_uri": "https://localhost:8080/"
    },
    "id": "wwFKMk33Pqeo",
    "outputId": "128b2a6d-9c38-49a8-f6e3-f3634fb1e529",
    "tags": []
   },
   "outputs": [
    {
     "name": "stdout",
     "output_type": "stream",
     "text": [
      "Rows: 4030\n",
      "Columns: 9\n",
      "$ reserve_id       <str> 'r1', 'r2', 'r3', 'r4', 'r5', 'r6', 'r7', 'r8', 'r9', 'r10'\n",
      "$ hotel_id         <str> 'h_75', 'h_219', 'h_179', 'h_214', 'h_16', 'h_241', 'h_256', 'h_241', 'h_217', 'h_240'\n",
      "$ customer_id      <str> 'c_1', 'c_1', 'c_1', 'c_1', 'c_1', 'c_1', 'c_1', 'c_1', 'c_2', 'c_2'\n",
      "$ reserve_datetime <str> '2016-03-06 13:09:42', '2016-07-16 23:39:55', '2016-09-24 10:03:17', '2017-03-08 03:20:10', '2017-09-05 19:50:37', '2017-11-27 18:47:05', '2017-12-29 10:38:36', '2018-05-26 08:42:51', '2016-03-05 13:31:06', '2016-06-25 09:12:22'\n",
      "$ checkin_date     <str> '2016-03-26', '2016-07-20', '2016-10-19', '2017-03-29', '2017-09-22', '2017-12-04', '2018-01-25', '2018-06-08', '2016-03-25', '2016-07-14'\n",
      "$ checkin_time     <str> '10:00:00', '11:30:00', '09:00:00', '11:00:00', '10:30:00', '12:00:00', '10:30:00', '10:00:00', '09:30:00', '11:00:00'\n",
      "$ checkout_date    <str> '2016-03-29', '2016-07-21', '2016-10-22', '2017-03-30', '2017-09-23', '2017-12-06', '2018-01-28', '2018-06-09', '2016-03-27', '2016-07-17'\n",
      "$ people_num       <i64> 4, 2, 2, 4, 3, 3, 1, 1, 3, 4\n",
      "$ total_price      <i64> 97200, 20600, 33600, 194400, 68100, 36000, 103500, 6000, 68400, 320400\n",
      "\n",
      "None\n"
     ]
    }
   ],
   "source": [
    "print(pl_reserve_tb.glimpse())"
   ]
  },
  {
   "cell_type": "markdown",
   "metadata": {
    "id": "RieT9yO3QYsk"
   },
   "source": [
    ".describe()"
   ]
  },
  {
   "cell_type": "markdown",
   "metadata": {
    "id": "wNDn8PkrUzGZ"
   },
   "source": [
    "\n",
    "*   polarではint,float列以外もdescribeの結果が表示される\n"
   ]
  },
  {
   "cell_type": "code",
   "execution_count": 13,
   "metadata": {
    "colab": {
     "base_uri": "https://localhost:8080/",
     "height": 238
    },
    "id": "1n2znVwSQapP",
    "outputId": "bb369a78-f48a-4943-c4db-14743c52ee9f",
    "tags": []
   },
   "outputs": [
    {
     "data": {
      "text/html": [
       "<div><style>\n",
       ".dataframe > thead > tr > th,\n",
       ".dataframe > tbody > tr > td {\n",
       "  text-align: right;\n",
       "  white-space: pre-wrap;\n",
       "}\n",
       "</style>\n",
       "<small>shape: (9, 10)</small><table border=\"1\" class=\"dataframe\"><thead><tr><th>describe</th><th>reserve_id</th><th>hotel_id</th><th>customer_id</th><th>reserve_datetime</th><th>checkin_date</th><th>checkin_time</th><th>checkout_date</th><th>people_num</th><th>total_price</th></tr><tr><td>str</td><td>str</td><td>str</td><td>str</td><td>str</td><td>str</td><td>str</td><td>str</td><td>f64</td><td>f64</td></tr></thead><tbody><tr><td>&quot;count&quot;</td><td>&quot;4030&quot;</td><td>&quot;4030&quot;</td><td>&quot;4030&quot;</td><td>&quot;4030&quot;</td><td>&quot;4030&quot;</td><td>&quot;4030&quot;</td><td>&quot;4030&quot;</td><td>4030.0</td><td>4030.0</td></tr><tr><td>&quot;null_count&quot;</td><td>&quot;0&quot;</td><td>&quot;0&quot;</td><td>&quot;0&quot;</td><td>&quot;0&quot;</td><td>&quot;0&quot;</td><td>&quot;0&quot;</td><td>&quot;0&quot;</td><td>0.0</td><td>0.0</td></tr><tr><td>&quot;mean&quot;</td><td>null</td><td>null</td><td>null</td><td>null</td><td>null</td><td>null</td><td>null</td><td>2.542184</td><td>103065.955335</td></tr><tr><td>&quot;std&quot;</td><td>null</td><td>null</td><td>null</td><td>null</td><td>null</td><td>null</td><td>null</td><td>1.120925</td><td>110288.484355</td></tr><tr><td>&quot;min&quot;</td><td>&quot;r1&quot;</td><td>&quot;h_1&quot;</td><td>&quot;c_1&quot;</td><td>&quot;2016-01-01 08:…</td><td>&quot;2016-01-02&quot;</td><td>&quot;09:00:00&quot;</td><td>&quot;2016-01-04&quot;</td><td>1.0</td><td>3500.0</td></tr><tr><td>&quot;25%&quot;</td><td>null</td><td>null</td><td>null</td><td>null</td><td>null</td><td>null</td><td>null</td><td>2.0</td><td>32400.0</td></tr><tr><td>&quot;50%&quot;</td><td>null</td><td>null</td><td>null</td><td>null</td><td>null</td><td>null</td><td>null</td><td>3.0</td><td>64800.0</td></tr><tr><td>&quot;75%&quot;</td><td>null</td><td>null</td><td>null</td><td>null</td><td>null</td><td>null</td><td>null</td><td>4.0</td><td>129600.0</td></tr><tr><td>&quot;max&quot;</td><td>&quot;r999&quot;</td><td>&quot;h_99&quot;</td><td>&quot;c_999&quot;</td><td>&quot;2019-02-25 03:…</td><td>&quot;2019-03-13&quot;</td><td>&quot;12:30:00&quot;</td><td>&quot;2019-03-15&quot;</td><td>4.0</td><td>897600.0</td></tr></tbody></table></div>"
      ],
      "text/plain": [
       "shape: (9, 10)\n",
       "┌───────────┬───────────┬──────────┬───────────┬───┬───────────┬───────────┬───────────┬───────────┐\n",
       "│ describe  ┆ reserve_i ┆ hotel_id ┆ customer_ ┆ … ┆ checkin_t ┆ checkout_ ┆ people_nu ┆ total_pri │\n",
       "│ ---       ┆ d         ┆ ---      ┆ id        ┆   ┆ ime       ┆ date      ┆ m         ┆ ce        │\n",
       "│ str       ┆ ---       ┆ str      ┆ ---       ┆   ┆ ---       ┆ ---       ┆ ---       ┆ ---       │\n",
       "│           ┆ str       ┆          ┆ str       ┆   ┆ str       ┆ str       ┆ f64       ┆ f64       │\n",
       "╞═══════════╪═══════════╪══════════╪═══════════╪═══╪═══════════╪═══════════╪═══════════╪═══════════╡\n",
       "│ count     ┆ 4030      ┆ 4030     ┆ 4030      ┆ … ┆ 4030      ┆ 4030      ┆ 4030.0    ┆ 4030.0    │\n",
       "│ null_coun ┆ 0         ┆ 0        ┆ 0         ┆ … ┆ 0         ┆ 0         ┆ 0.0       ┆ 0.0       │\n",
       "│ t         ┆           ┆          ┆           ┆   ┆           ┆           ┆           ┆           │\n",
       "│ mean      ┆ null      ┆ null     ┆ null      ┆ … ┆ null      ┆ null      ┆ 2.542184  ┆ 103065.95 │\n",
       "│           ┆           ┆          ┆           ┆   ┆           ┆           ┆           ┆ 5335      │\n",
       "│ std       ┆ null      ┆ null     ┆ null      ┆ … ┆ null      ┆ null      ┆ 1.120925  ┆ 110288.48 │\n",
       "│           ┆           ┆          ┆           ┆   ┆           ┆           ┆           ┆ 4355      │\n",
       "│ min       ┆ r1        ┆ h_1      ┆ c_1       ┆ … ┆ 09:00:00  ┆ 2016-01-0 ┆ 1.0       ┆ 3500.0    │\n",
       "│           ┆           ┆          ┆           ┆   ┆           ┆ 4         ┆           ┆           │\n",
       "│ 25%       ┆ null      ┆ null     ┆ null      ┆ … ┆ null      ┆ null      ┆ 2.0       ┆ 32400.0   │\n",
       "│ 50%       ┆ null      ┆ null     ┆ null      ┆ … ┆ null      ┆ null      ┆ 3.0       ┆ 64800.0   │\n",
       "│ 75%       ┆ null      ┆ null     ┆ null      ┆ … ┆ null      ┆ null      ┆ 4.0       ┆ 129600.0  │\n",
       "│ max       ┆ r999      ┆ h_99     ┆ c_999     ┆ … ┆ 12:30:00  ┆ 2019-03-1 ┆ 4.0       ┆ 897600.0  │\n",
       "│           ┆           ┆          ┆           ┆   ┆           ┆ 5         ┆           ┆           │\n",
       "└───────────┴───────────┴──────────┴───────────┴───┴───────────┴───────────┴───────────┴───────────┘"
      ]
     },
     "execution_count": 13,
     "metadata": {},
     "output_type": "execute_result"
    }
   ],
   "source": [
    "pl_reserve_tb.describe()"
   ]
  },
  {
   "cell_type": "markdown",
   "metadata": {
    "id": "g4VNkL_lFUBt"
   },
   "source": [
    "## pandas"
   ]
  },
  {
   "cell_type": "markdown",
   "metadata": {
    "id": "4rMRK7HvQqFq"
   },
   "source": [
    ".head() .tail()"
   ]
  },
  {
   "cell_type": "code",
   "execution_count": 14,
   "metadata": {
    "colab": {
     "base_uri": "https://localhost:8080/",
     "height": 206
    },
    "id": "p_sJBah9QuXc",
    "outputId": "70cbf7a3-91d2-40c2-dd90-f669f295a5bd",
    "tags": []
   },
   "outputs": [
    {
     "data": {
      "text/html": [
       "<div>\n",
       "<style scoped>\n",
       "    .dataframe tbody tr th:only-of-type {\n",
       "        vertical-align: middle;\n",
       "    }\n",
       "\n",
       "    .dataframe tbody tr th {\n",
       "        vertical-align: top;\n",
       "    }\n",
       "\n",
       "    .dataframe thead th {\n",
       "        text-align: right;\n",
       "    }\n",
       "</style>\n",
       "<table border=\"1\" class=\"dataframe\">\n",
       "  <thead>\n",
       "    <tr style=\"text-align: right;\">\n",
       "      <th></th>\n",
       "      <th>reserve_id</th>\n",
       "      <th>hotel_id</th>\n",
       "      <th>customer_id</th>\n",
       "      <th>reserve_datetime</th>\n",
       "      <th>checkin_date</th>\n",
       "      <th>checkin_time</th>\n",
       "      <th>checkout_date</th>\n",
       "      <th>people_num</th>\n",
       "      <th>total_price</th>\n",
       "    </tr>\n",
       "  </thead>\n",
       "  <tbody>\n",
       "    <tr>\n",
       "      <th>0</th>\n",
       "      <td>r1</td>\n",
       "      <td>h_75</td>\n",
       "      <td>c_1</td>\n",
       "      <td>2016-03-06 13:09:42</td>\n",
       "      <td>2016-03-26</td>\n",
       "      <td>10:00:00</td>\n",
       "      <td>2016-03-29</td>\n",
       "      <td>4</td>\n",
       "      <td>97200</td>\n",
       "    </tr>\n",
       "    <tr>\n",
       "      <th>1</th>\n",
       "      <td>r2</td>\n",
       "      <td>h_219</td>\n",
       "      <td>c_1</td>\n",
       "      <td>2016-07-16 23:39:55</td>\n",
       "      <td>2016-07-20</td>\n",
       "      <td>11:30:00</td>\n",
       "      <td>2016-07-21</td>\n",
       "      <td>2</td>\n",
       "      <td>20600</td>\n",
       "    </tr>\n",
       "    <tr>\n",
       "      <th>2</th>\n",
       "      <td>r3</td>\n",
       "      <td>h_179</td>\n",
       "      <td>c_1</td>\n",
       "      <td>2016-09-24 10:03:17</td>\n",
       "      <td>2016-10-19</td>\n",
       "      <td>09:00:00</td>\n",
       "      <td>2016-10-22</td>\n",
       "      <td>2</td>\n",
       "      <td>33600</td>\n",
       "    </tr>\n",
       "    <tr>\n",
       "      <th>3</th>\n",
       "      <td>r4</td>\n",
       "      <td>h_214</td>\n",
       "      <td>c_1</td>\n",
       "      <td>2017-03-08 03:20:10</td>\n",
       "      <td>2017-03-29</td>\n",
       "      <td>11:00:00</td>\n",
       "      <td>2017-03-30</td>\n",
       "      <td>4</td>\n",
       "      <td>194400</td>\n",
       "    </tr>\n",
       "    <tr>\n",
       "      <th>4</th>\n",
       "      <td>r5</td>\n",
       "      <td>h_16</td>\n",
       "      <td>c_1</td>\n",
       "      <td>2017-09-05 19:50:37</td>\n",
       "      <td>2017-09-22</td>\n",
       "      <td>10:30:00</td>\n",
       "      <td>2017-09-23</td>\n",
       "      <td>3</td>\n",
       "      <td>68100</td>\n",
       "    </tr>\n",
       "  </tbody>\n",
       "</table>\n",
       "</div>"
      ],
      "text/plain": [
       "  reserve_id hotel_id customer_id     reserve_datetime checkin_date  \\\n",
       "0         r1     h_75         c_1  2016-03-06 13:09:42   2016-03-26   \n",
       "1         r2    h_219         c_1  2016-07-16 23:39:55   2016-07-20   \n",
       "2         r3    h_179         c_1  2016-09-24 10:03:17   2016-10-19   \n",
       "3         r4    h_214         c_1  2017-03-08 03:20:10   2017-03-29   \n",
       "4         r5     h_16         c_1  2017-09-05 19:50:37   2017-09-22   \n",
       "\n",
       "  checkin_time checkout_date  people_num  total_price  \n",
       "0     10:00:00    2016-03-29           4        97200  \n",
       "1     11:30:00    2016-07-21           2        20600  \n",
       "2     09:00:00    2016-10-22           2        33600  \n",
       "3     11:00:00    2017-03-30           4       194400  \n",
       "4     10:30:00    2017-09-23           3        68100  "
      ]
     },
     "execution_count": 14,
     "metadata": {},
     "output_type": "execute_result"
    }
   ],
   "source": [
    "pd_reserve_tb.head()"
   ]
  },
  {
   "cell_type": "code",
   "execution_count": 15,
   "metadata": {
    "colab": {
     "base_uri": "https://localhost:8080/",
     "height": 206
    },
    "id": "TIv5SGEhQuXd",
    "outputId": "5cfe25f9-f6ed-4e5b-f553-84bf7e3eb481",
    "tags": []
   },
   "outputs": [
    {
     "data": {
      "text/html": [
       "<div>\n",
       "<style scoped>\n",
       "    .dataframe tbody tr th:only-of-type {\n",
       "        vertical-align: middle;\n",
       "    }\n",
       "\n",
       "    .dataframe tbody tr th {\n",
       "        vertical-align: top;\n",
       "    }\n",
       "\n",
       "    .dataframe thead th {\n",
       "        text-align: right;\n",
       "    }\n",
       "</style>\n",
       "<table border=\"1\" class=\"dataframe\">\n",
       "  <thead>\n",
       "    <tr style=\"text-align: right;\">\n",
       "      <th></th>\n",
       "      <th>reserve_id</th>\n",
       "      <th>hotel_id</th>\n",
       "      <th>customer_id</th>\n",
       "      <th>reserve_datetime</th>\n",
       "      <th>checkin_date</th>\n",
       "      <th>checkin_time</th>\n",
       "      <th>checkout_date</th>\n",
       "      <th>people_num</th>\n",
       "      <th>total_price</th>\n",
       "    </tr>\n",
       "  </thead>\n",
       "  <tbody>\n",
       "    <tr>\n",
       "      <th>4025</th>\n",
       "      <td>r4026</td>\n",
       "      <td>h_129</td>\n",
       "      <td>c_999</td>\n",
       "      <td>2017-06-27 23:00:02</td>\n",
       "      <td>2017-07-10</td>\n",
       "      <td>09:30:00</td>\n",
       "      <td>2017-07-11</td>\n",
       "      <td>2</td>\n",
       "      <td>16000</td>\n",
       "    </tr>\n",
       "    <tr>\n",
       "      <th>4026</th>\n",
       "      <td>r4027</td>\n",
       "      <td>h_97</td>\n",
       "      <td>c_999</td>\n",
       "      <td>2017-09-29 05:24:57</td>\n",
       "      <td>2017-10-09</td>\n",
       "      <td>10:30:00</td>\n",
       "      <td>2017-10-10</td>\n",
       "      <td>2</td>\n",
       "      <td>41800</td>\n",
       "    </tr>\n",
       "    <tr>\n",
       "      <th>4027</th>\n",
       "      <td>r4028</td>\n",
       "      <td>h_27</td>\n",
       "      <td>c_999</td>\n",
       "      <td>2018-03-14 05:01:45</td>\n",
       "      <td>2018-04-02</td>\n",
       "      <td>11:30:00</td>\n",
       "      <td>2018-04-04</td>\n",
       "      <td>2</td>\n",
       "      <td>74800</td>\n",
       "    </tr>\n",
       "    <tr>\n",
       "      <th>4028</th>\n",
       "      <td>r4029</td>\n",
       "      <td>h_48</td>\n",
       "      <td>c_1000</td>\n",
       "      <td>2016-04-16 15:20:17</td>\n",
       "      <td>2016-05-10</td>\n",
       "      <td>09:30:00</td>\n",
       "      <td>2016-05-13</td>\n",
       "      <td>4</td>\n",
       "      <td>540000</td>\n",
       "    </tr>\n",
       "    <tr>\n",
       "      <th>4029</th>\n",
       "      <td>r4030</td>\n",
       "      <td>h_117</td>\n",
       "      <td>c_1000</td>\n",
       "      <td>2016-06-06 08:16:51</td>\n",
       "      <td>2016-07-06</td>\n",
       "      <td>09:00:00</td>\n",
       "      <td>2016-07-09</td>\n",
       "      <td>1</td>\n",
       "      <td>44100</td>\n",
       "    </tr>\n",
       "  </tbody>\n",
       "</table>\n",
       "</div>"
      ],
      "text/plain": [
       "     reserve_id hotel_id customer_id     reserve_datetime checkin_date  \\\n",
       "4025      r4026    h_129       c_999  2017-06-27 23:00:02   2017-07-10   \n",
       "4026      r4027     h_97       c_999  2017-09-29 05:24:57   2017-10-09   \n",
       "4027      r4028     h_27       c_999  2018-03-14 05:01:45   2018-04-02   \n",
       "4028      r4029     h_48      c_1000  2016-04-16 15:20:17   2016-05-10   \n",
       "4029      r4030    h_117      c_1000  2016-06-06 08:16:51   2016-07-06   \n",
       "\n",
       "     checkin_time checkout_date  people_num  total_price  \n",
       "4025     09:30:00    2017-07-11           2        16000  \n",
       "4026     10:30:00    2017-10-10           2        41800  \n",
       "4027     11:30:00    2018-04-04           2        74800  \n",
       "4028     09:30:00    2016-05-13           4       540000  \n",
       "4029     09:00:00    2016-07-09           1        44100  "
      ]
     },
     "execution_count": 15,
     "metadata": {},
     "output_type": "execute_result"
    }
   ],
   "source": [
    "pd_reserve_tb.tail()"
   ]
  },
  {
   "cell_type": "markdown",
   "metadata": {
    "id": "5QJIYL1bQuXd"
   },
   "source": [
    ".glimpse()  \n",
    "\n",
    "\n",
    "*   対応するpandas methodはなさそう\n",
    "\n"
   ]
  },
  {
   "cell_type": "markdown",
   "metadata": {
    "id": "hUMPsPFLQuXe"
   },
   "source": [
    ".describe()"
   ]
  },
  {
   "cell_type": "code",
   "execution_count": 16,
   "metadata": {
    "colab": {
     "base_uri": "https://localhost:8080/",
     "height": 300
    },
    "id": "hDE5f6KeQmxq",
    "outputId": "0fe0dd71-0ef5-4cd2-e8fb-db611bad7cf3",
    "tags": []
   },
   "outputs": [
    {
     "data": {
      "text/html": [
       "<div>\n",
       "<style scoped>\n",
       "    .dataframe tbody tr th:only-of-type {\n",
       "        vertical-align: middle;\n",
       "    }\n",
       "\n",
       "    .dataframe tbody tr th {\n",
       "        vertical-align: top;\n",
       "    }\n",
       "\n",
       "    .dataframe thead th {\n",
       "        text-align: right;\n",
       "    }\n",
       "</style>\n",
       "<table border=\"1\" class=\"dataframe\">\n",
       "  <thead>\n",
       "    <tr style=\"text-align: right;\">\n",
       "      <th></th>\n",
       "      <th>people_num</th>\n",
       "      <th>total_price</th>\n",
       "    </tr>\n",
       "  </thead>\n",
       "  <tbody>\n",
       "    <tr>\n",
       "      <th>count</th>\n",
       "      <td>4030.000000</td>\n",
       "      <td>4030.000000</td>\n",
       "    </tr>\n",
       "    <tr>\n",
       "      <th>mean</th>\n",
       "      <td>2.542184</td>\n",
       "      <td>103065.955335</td>\n",
       "    </tr>\n",
       "    <tr>\n",
       "      <th>std</th>\n",
       "      <td>1.120925</td>\n",
       "      <td>110288.484355</td>\n",
       "    </tr>\n",
       "    <tr>\n",
       "      <th>min</th>\n",
       "      <td>1.000000</td>\n",
       "      <td>3500.000000</td>\n",
       "    </tr>\n",
       "    <tr>\n",
       "      <th>25%</th>\n",
       "      <td>2.000000</td>\n",
       "      <td>32400.000000</td>\n",
       "    </tr>\n",
       "    <tr>\n",
       "      <th>50%</th>\n",
       "      <td>3.000000</td>\n",
       "      <td>64800.000000</td>\n",
       "    </tr>\n",
       "    <tr>\n",
       "      <th>75%</th>\n",
       "      <td>4.000000</td>\n",
       "      <td>129600.000000</td>\n",
       "    </tr>\n",
       "    <tr>\n",
       "      <th>max</th>\n",
       "      <td>4.000000</td>\n",
       "      <td>897600.000000</td>\n",
       "    </tr>\n",
       "  </tbody>\n",
       "</table>\n",
       "</div>"
      ],
      "text/plain": [
       "        people_num    total_price\n",
       "count  4030.000000    4030.000000\n",
       "mean      2.542184  103065.955335\n",
       "std       1.120925  110288.484355\n",
       "min       1.000000    3500.000000\n",
       "25%       2.000000   32400.000000\n",
       "50%       3.000000   64800.000000\n",
       "75%       4.000000  129600.000000\n",
       "max       4.000000  897600.000000"
      ]
     },
     "execution_count": 16,
     "metadata": {},
     "output_type": "execute_result"
    }
   ],
   "source": [
    "pd_reserve_tb.describe()"
   ]
  },
  {
   "cell_type": "markdown",
   "metadata": {
    "id": "_WYUsCshpTdd"
   },
   "source": [
    "# データ型別にカラム名をカテゴリー化"
   ]
  },
  {
   "cell_type": "markdown",
   "metadata": {
    "id": "veoTpF7YpWVW"
   },
   "source": [
    "## polars"
   ]
  },
  {
   "cell_type": "code",
   "execution_count": 17,
   "metadata": {
    "colab": {
     "base_uri": "https://localhost:8080/"
    },
    "id": "v4vaHzuypZnD",
    "outputId": "c5fb12ce-e269-4be7-a527-cfb30dfd5382",
    "tags": []
   },
   "outputs": [
    {
     "name": "stdout",
     "output_type": "stream",
     "text": [
      "['people_num', 'total_price']\n",
      "['reserve_id', 'hotel_id', 'customer_id', 'reserve_datetime', 'checkin_date', 'checkin_time', 'checkout_date']\n"
     ]
    }
   ],
   "source": [
    "num_col = [col for col in pl_reserve_tb.columns if str(pl_reserve_tb[col].dtype) in ['Int64']]\n",
    "print(num_col)\n",
    "\n",
    "cat_col = [col for col in pl_reserve_tb.columns if str(pl_reserve_tb[col].dtype) in ['Utf8']] # str型はUtf8で表現される\n",
    "print(cat_col)"
   ]
  },
  {
   "cell_type": "code",
   "execution_count": 18,
   "metadata": {
    "colab": {
     "base_uri": "https://localhost:8080/",
     "height": 238
    },
    "id": "wEJkKV1xqMtj",
    "outputId": "703c4481-8312-4229-c133-1913a7eaaf89",
    "tags": []
   },
   "outputs": [
    {
     "data": {
      "text/html": [
       "<div><style>\n",
       ".dataframe > thead > tr > th,\n",
       ".dataframe > tbody > tr > td {\n",
       "  text-align: right;\n",
       "  white-space: pre-wrap;\n",
       "}\n",
       "</style>\n",
       "<small>shape: (9, 3)</small><table border=\"1\" class=\"dataframe\"><thead><tr><th>describe</th><th>people_num</th><th>total_price</th></tr><tr><td>str</td><td>f64</td><td>f64</td></tr></thead><tbody><tr><td>&quot;count&quot;</td><td>4030.0</td><td>4030.0</td></tr><tr><td>&quot;null_count&quot;</td><td>0.0</td><td>0.0</td></tr><tr><td>&quot;mean&quot;</td><td>2.542184</td><td>103065.955335</td></tr><tr><td>&quot;std&quot;</td><td>1.120925</td><td>110288.484355</td></tr><tr><td>&quot;min&quot;</td><td>1.0</td><td>3500.0</td></tr><tr><td>&quot;25%&quot;</td><td>2.0</td><td>32400.0</td></tr><tr><td>&quot;50%&quot;</td><td>3.0</td><td>64800.0</td></tr><tr><td>&quot;75%&quot;</td><td>4.0</td><td>129600.0</td></tr><tr><td>&quot;max&quot;</td><td>4.0</td><td>897600.0</td></tr></tbody></table></div>"
      ],
      "text/plain": [
       "shape: (9, 3)\n",
       "┌────────────┬────────────┬───────────────┐\n",
       "│ describe   ┆ people_num ┆ total_price   │\n",
       "│ ---        ┆ ---        ┆ ---           │\n",
       "│ str        ┆ f64        ┆ f64           │\n",
       "╞════════════╪════════════╪═══════════════╡\n",
       "│ count      ┆ 4030.0     ┆ 4030.0        │\n",
       "│ null_count ┆ 0.0        ┆ 0.0           │\n",
       "│ mean       ┆ 2.542184   ┆ 103065.955335 │\n",
       "│ std        ┆ 1.120925   ┆ 110288.484355 │\n",
       "│ min        ┆ 1.0        ┆ 3500.0        │\n",
       "│ 25%        ┆ 2.0        ┆ 32400.0       │\n",
       "│ 50%        ┆ 3.0        ┆ 64800.0       │\n",
       "│ 75%        ┆ 4.0        ┆ 129600.0      │\n",
       "│ max        ┆ 4.0        ┆ 897600.0      │\n",
       "└────────────┴────────────┴───────────────┘"
      ]
     },
     "execution_count": 18,
     "metadata": {},
     "output_type": "execute_result"
    }
   ],
   "source": [
    "pl_reserve_tb.select(num_col).describe()"
   ]
  },
  {
   "cell_type": "code",
   "execution_count": 19,
   "metadata": {
    "colab": {
     "base_uri": "https://localhost:8080/",
     "height": 238
    },
    "id": "9qY1_kxwqUZn",
    "outputId": "c36b7be5-f909-4ef7-ba0e-3a97e242ed7f",
    "tags": []
   },
   "outputs": [
    {
     "data": {
      "text/html": [
       "<div><style>\n",
       ".dataframe > thead > tr > th,\n",
       ".dataframe > tbody > tr > td {\n",
       "  text-align: right;\n",
       "  white-space: pre-wrap;\n",
       "}\n",
       "</style>\n",
       "<small>shape: (9, 8)</small><table border=\"1\" class=\"dataframe\"><thead><tr><th>describe</th><th>reserve_id</th><th>hotel_id</th><th>customer_id</th><th>reserve_datetime</th><th>checkin_date</th><th>checkin_time</th><th>checkout_date</th></tr><tr><td>str</td><td>str</td><td>str</td><td>str</td><td>str</td><td>str</td><td>str</td><td>str</td></tr></thead><tbody><tr><td>&quot;count&quot;</td><td>&quot;4030&quot;</td><td>&quot;4030&quot;</td><td>&quot;4030&quot;</td><td>&quot;4030&quot;</td><td>&quot;4030&quot;</td><td>&quot;4030&quot;</td><td>&quot;4030&quot;</td></tr><tr><td>&quot;null_count&quot;</td><td>&quot;0&quot;</td><td>&quot;0&quot;</td><td>&quot;0&quot;</td><td>&quot;0&quot;</td><td>&quot;0&quot;</td><td>&quot;0&quot;</td><td>&quot;0&quot;</td></tr><tr><td>&quot;mean&quot;</td><td>null</td><td>null</td><td>null</td><td>null</td><td>null</td><td>null</td><td>null</td></tr><tr><td>&quot;std&quot;</td><td>null</td><td>null</td><td>null</td><td>null</td><td>null</td><td>null</td><td>null</td></tr><tr><td>&quot;min&quot;</td><td>&quot;r1&quot;</td><td>&quot;h_1&quot;</td><td>&quot;c_1&quot;</td><td>&quot;2016-01-01 08:…</td><td>&quot;2016-01-02&quot;</td><td>&quot;09:00:00&quot;</td><td>&quot;2016-01-04&quot;</td></tr><tr><td>&quot;25%&quot;</td><td>null</td><td>null</td><td>null</td><td>null</td><td>null</td><td>null</td><td>null</td></tr><tr><td>&quot;50%&quot;</td><td>null</td><td>null</td><td>null</td><td>null</td><td>null</td><td>null</td><td>null</td></tr><tr><td>&quot;75%&quot;</td><td>null</td><td>null</td><td>null</td><td>null</td><td>null</td><td>null</td><td>null</td></tr><tr><td>&quot;max&quot;</td><td>&quot;r999&quot;</td><td>&quot;h_99&quot;</td><td>&quot;c_999&quot;</td><td>&quot;2019-02-25 03:…</td><td>&quot;2019-03-13&quot;</td><td>&quot;12:30:00&quot;</td><td>&quot;2019-03-15&quot;</td></tr></tbody></table></div>"
      ],
      "text/plain": [
       "shape: (9, 8)\n",
       "┌────────────┬────────────┬──────────┬────────────┬────────────┬───────────┬───────────┬───────────┐\n",
       "│ describe   ┆ reserve_id ┆ hotel_id ┆ customer_i ┆ reserve_da ┆ checkin_d ┆ checkin_t ┆ checkout_ │\n",
       "│ ---        ┆ ---        ┆ ---      ┆ d          ┆ tetime     ┆ ate       ┆ ime       ┆ date      │\n",
       "│ str        ┆ str        ┆ str      ┆ ---        ┆ ---        ┆ ---       ┆ ---       ┆ ---       │\n",
       "│            ┆            ┆          ┆ str        ┆ str        ┆ str       ┆ str       ┆ str       │\n",
       "╞════════════╪════════════╪══════════╪════════════╪════════════╪═══════════╪═══════════╪═══════════╡\n",
       "│ count      ┆ 4030       ┆ 4030     ┆ 4030       ┆ 4030       ┆ 4030      ┆ 4030      ┆ 4030      │\n",
       "│ null_count ┆ 0          ┆ 0        ┆ 0          ┆ 0          ┆ 0         ┆ 0         ┆ 0         │\n",
       "│ mean       ┆ null       ┆ null     ┆ null       ┆ null       ┆ null      ┆ null      ┆ null      │\n",
       "│ std        ┆ null       ┆ null     ┆ null       ┆ null       ┆ null      ┆ null      ┆ null      │\n",
       "│ min        ┆ r1         ┆ h_1      ┆ c_1        ┆ 2016-01-01 ┆ 2016-01-0 ┆ 09:00:00  ┆ 2016-01-0 │\n",
       "│            ┆            ┆          ┆            ┆ 08:56:43   ┆ 2         ┆           ┆ 4         │\n",
       "│ 25%        ┆ null       ┆ null     ┆ null       ┆ null       ┆ null      ┆ null      ┆ null      │\n",
       "│ 50%        ┆ null       ┆ null     ┆ null       ┆ null       ┆ null      ┆ null      ┆ null      │\n",
       "│ 75%        ┆ null       ┆ null     ┆ null       ┆ null       ┆ null      ┆ null      ┆ null      │\n",
       "│ max        ┆ r999       ┆ h_99     ┆ c_999      ┆ 2019-02-25 ┆ 2019-03-1 ┆ 12:30:00  ┆ 2019-03-1 │\n",
       "│            ┆            ┆          ┆            ┆ 03:10:39   ┆ 3         ┆           ┆ 5         │\n",
       "└────────────┴────────────┴──────────┴────────────┴────────────┴───────────┴───────────┴───────────┘"
      ]
     },
     "execution_count": 19,
     "metadata": {},
     "output_type": "execute_result"
    }
   ],
   "source": [
    "pl_reserve_tb.select(cat_col).describe()"
   ]
  },
  {
   "cell_type": "markdown",
   "metadata": {
    "id": "3jCx2mJEpWSj"
   },
   "source": [
    "## pandas"
   ]
  },
  {
   "cell_type": "code",
   "execution_count": 20,
   "metadata": {
    "colab": {
     "base_uri": "https://localhost:8080/"
    },
    "id": "DRQtZVHppVbz",
    "outputId": "01fe4341-0fab-4d83-83ee-25a96eda0c6c",
    "tags": []
   },
   "outputs": [
    {
     "name": "stdout",
     "output_type": "stream",
     "text": [
      "['people_num', 'total_price']\n",
      "['reserve_id', 'hotel_id', 'customer_id', 'reserve_datetime', 'checkin_date', 'checkin_time', 'checkout_date']\n"
     ]
    }
   ],
   "source": [
    "num_col = [col for col in pd_reserve_tb.columns if pd_reserve_tb[col].dtype in ['int64', 'float64']]\n",
    "print(num_col)\n",
    "\n",
    "cat_col = [col for col in pd_reserve_tb.columns if pd_reserve_tb[col].dtype in ['O']]\n",
    "print(cat_col)"
   ]
  },
  {
   "cell_type": "code",
   "execution_count": 21,
   "metadata": {
    "colab": {
     "base_uri": "https://localhost:8080/",
     "height": 300
    },
    "id": "s95UkcMdpVZH",
    "outputId": "a7341ca8-48b7-4161-f6f1-4fc880b19ea0",
    "tags": []
   },
   "outputs": [
    {
     "data": {
      "text/html": [
       "<div>\n",
       "<style scoped>\n",
       "    .dataframe tbody tr th:only-of-type {\n",
       "        vertical-align: middle;\n",
       "    }\n",
       "\n",
       "    .dataframe tbody tr th {\n",
       "        vertical-align: top;\n",
       "    }\n",
       "\n",
       "    .dataframe thead th {\n",
       "        text-align: right;\n",
       "    }\n",
       "</style>\n",
       "<table border=\"1\" class=\"dataframe\">\n",
       "  <thead>\n",
       "    <tr style=\"text-align: right;\">\n",
       "      <th></th>\n",
       "      <th>people_num</th>\n",
       "      <th>total_price</th>\n",
       "    </tr>\n",
       "  </thead>\n",
       "  <tbody>\n",
       "    <tr>\n",
       "      <th>count</th>\n",
       "      <td>4030.000000</td>\n",
       "      <td>4030.000000</td>\n",
       "    </tr>\n",
       "    <tr>\n",
       "      <th>mean</th>\n",
       "      <td>2.542184</td>\n",
       "      <td>103065.955335</td>\n",
       "    </tr>\n",
       "    <tr>\n",
       "      <th>std</th>\n",
       "      <td>1.120925</td>\n",
       "      <td>110288.484355</td>\n",
       "    </tr>\n",
       "    <tr>\n",
       "      <th>min</th>\n",
       "      <td>1.000000</td>\n",
       "      <td>3500.000000</td>\n",
       "    </tr>\n",
       "    <tr>\n",
       "      <th>25%</th>\n",
       "      <td>2.000000</td>\n",
       "      <td>32400.000000</td>\n",
       "    </tr>\n",
       "    <tr>\n",
       "      <th>50%</th>\n",
       "      <td>3.000000</td>\n",
       "      <td>64800.000000</td>\n",
       "    </tr>\n",
       "    <tr>\n",
       "      <th>75%</th>\n",
       "      <td>4.000000</td>\n",
       "      <td>129600.000000</td>\n",
       "    </tr>\n",
       "    <tr>\n",
       "      <th>max</th>\n",
       "      <td>4.000000</td>\n",
       "      <td>897600.000000</td>\n",
       "    </tr>\n",
       "  </tbody>\n",
       "</table>\n",
       "</div>"
      ],
      "text/plain": [
       "        people_num    total_price\n",
       "count  4030.000000    4030.000000\n",
       "mean      2.542184  103065.955335\n",
       "std       1.120925  110288.484355\n",
       "min       1.000000    3500.000000\n",
       "25%       2.000000   32400.000000\n",
       "50%       3.000000   64800.000000\n",
       "75%       4.000000  129600.000000\n",
       "max       4.000000  897600.000000"
      ]
     },
     "execution_count": 21,
     "metadata": {},
     "output_type": "execute_result"
    }
   ],
   "source": [
    "pd_reserve_tb[num_col].describe()"
   ]
  },
  {
   "cell_type": "code",
   "execution_count": 22,
   "metadata": {
    "colab": {
     "base_uri": "https://localhost:8080/",
     "height": 174
    },
    "id": "gIzxAMdNqu8m",
    "outputId": "2ca4fb01-7c17-46cc-82c5-333d11769d5c",
    "tags": []
   },
   "outputs": [
    {
     "data": {
      "text/html": [
       "<div>\n",
       "<style scoped>\n",
       "    .dataframe tbody tr th:only-of-type {\n",
       "        vertical-align: middle;\n",
       "    }\n",
       "\n",
       "    .dataframe tbody tr th {\n",
       "        vertical-align: top;\n",
       "    }\n",
       "\n",
       "    .dataframe thead th {\n",
       "        text-align: right;\n",
       "    }\n",
       "</style>\n",
       "<table border=\"1\" class=\"dataframe\">\n",
       "  <thead>\n",
       "    <tr style=\"text-align: right;\">\n",
       "      <th></th>\n",
       "      <th>reserve_id</th>\n",
       "      <th>hotel_id</th>\n",
       "      <th>customer_id</th>\n",
       "      <th>reserve_datetime</th>\n",
       "      <th>checkin_date</th>\n",
       "      <th>checkin_time</th>\n",
       "      <th>checkout_date</th>\n",
       "    </tr>\n",
       "  </thead>\n",
       "  <tbody>\n",
       "    <tr>\n",
       "      <th>count</th>\n",
       "      <td>4030</td>\n",
       "      <td>4030</td>\n",
       "      <td>4030</td>\n",
       "      <td>4030</td>\n",
       "      <td>4030</td>\n",
       "      <td>4030</td>\n",
       "      <td>4030</td>\n",
       "    </tr>\n",
       "    <tr>\n",
       "      <th>unique</th>\n",
       "      <td>4030</td>\n",
       "      <td>300</td>\n",
       "      <td>888</td>\n",
       "      <td>4030</td>\n",
       "      <td>924</td>\n",
       "      <td>8</td>\n",
       "      <td>917</td>\n",
       "    </tr>\n",
       "    <tr>\n",
       "      <th>top</th>\n",
       "      <td>r1</td>\n",
       "      <td>h_241</td>\n",
       "      <td>c_1</td>\n",
       "      <td>2016-03-06 13:09:42</td>\n",
       "      <td>2016-07-14</td>\n",
       "      <td>09:30:00</td>\n",
       "      <td>2016-06-30</td>\n",
       "    </tr>\n",
       "    <tr>\n",
       "      <th>freq</th>\n",
       "      <td>1</td>\n",
       "      <td>27</td>\n",
       "      <td>8</td>\n",
       "      <td>1</td>\n",
       "      <td>16</td>\n",
       "      <td>548</td>\n",
       "      <td>15</td>\n",
       "    </tr>\n",
       "  </tbody>\n",
       "</table>\n",
       "</div>"
      ],
      "text/plain": [
       "       reserve_id hotel_id customer_id     reserve_datetime checkin_date  \\\n",
       "count        4030     4030        4030                 4030         4030   \n",
       "unique       4030      300         888                 4030          924   \n",
       "top            r1    h_241         c_1  2016-03-06 13:09:42   2016-07-14   \n",
       "freq            1       27           8                    1           16   \n",
       "\n",
       "       checkin_time checkout_date  \n",
       "count          4030          4030  \n",
       "unique            8           917  \n",
       "top        09:30:00    2016-06-30  \n",
       "freq            548            15  "
      ]
     },
     "execution_count": 22,
     "metadata": {},
     "output_type": "execute_result"
    }
   ],
   "source": [
    "pd_reserve_tb[cat_col].describe()"
   ]
  },
  {
   "cell_type": "markdown",
   "metadata": {
    "id": "p080GVjwBDgM"
   },
   "source": [
    "# 条件指定による抽出"
   ]
  },
  {
   "cell_type": "markdown",
   "metadata": {
    "id": "4LFax3YoFU7x"
   },
   "source": [
    "## polars"
   ]
  },
  {
   "cell_type": "markdown",
   "metadata": {
    "id": "fF8uQGbBWCYK"
   },
   "source": [
    "`[]`を使った行の選択"
   ]
  },
  {
   "cell_type": "markdown",
   "metadata": {
    "id": "egrXCJRLtzBH"
   },
   "source": [
    "*   行選択はdf[]の[]に整数を渡すことで行います（Python標準のリストと同様）。\n",
    "*   polarsにはインデックス列が存在しないため、pandasと違い.locや.ilocは存在しません。\n"
   ]
  },
  {
   "cell_type": "code",
   "execution_count": 23,
   "metadata": {
    "colab": {
     "base_uri": "https://localhost:8080/",
     "height": 126
    },
    "id": "4GAfmM-uvjQf",
    "outputId": "e2cde803-306c-44a2-9645-2c9a10be9dae",
    "tags": []
   },
   "outputs": [
    {
     "data": {
      "text/html": [
       "<div><style>\n",
       ".dataframe > thead > tr > th,\n",
       ".dataframe > tbody > tr > td {\n",
       "  text-align: right;\n",
       "  white-space: pre-wrap;\n",
       "}\n",
       "</style>\n",
       "<small>shape: (2, 9)</small><table border=\"1\" class=\"dataframe\"><thead><tr><th>reserve_id</th><th>hotel_id</th><th>customer_id</th><th>reserve_datetime</th><th>checkin_date</th><th>checkin_time</th><th>checkout_date</th><th>people_num</th><th>total_price</th></tr><tr><td>str</td><td>str</td><td>str</td><td>str</td><td>str</td><td>str</td><td>str</td><td>i64</td><td>i64</td></tr></thead><tbody><tr><td>&quot;r2&quot;</td><td>&quot;h_219&quot;</td><td>&quot;c_1&quot;</td><td>&quot;2016-07-16 23:…</td><td>&quot;2016-07-20&quot;</td><td>&quot;11:30:00&quot;</td><td>&quot;2016-07-21&quot;</td><td>2</td><td>20600</td></tr><tr><td>&quot;r3&quot;</td><td>&quot;h_179&quot;</td><td>&quot;c_1&quot;</td><td>&quot;2016-09-24 10:…</td><td>&quot;2016-10-19&quot;</td><td>&quot;09:00:00&quot;</td><td>&quot;2016-10-22&quot;</td><td>2</td><td>33600</td></tr></tbody></table></div>"
      ],
      "text/plain": [
       "shape: (2, 9)\n",
       "┌───────────┬──────────┬───────────┬───────────┬───┬───────────┬───────────┬───────────┬───────────┐\n",
       "│ reserve_i ┆ hotel_id ┆ customer_ ┆ reserve_d ┆ … ┆ checkin_t ┆ checkout_ ┆ people_nu ┆ total_pri │\n",
       "│ d         ┆ ---      ┆ id        ┆ atetime   ┆   ┆ ime       ┆ date      ┆ m         ┆ ce        │\n",
       "│ ---       ┆ str      ┆ ---       ┆ ---       ┆   ┆ ---       ┆ ---       ┆ ---       ┆ ---       │\n",
       "│ str       ┆          ┆ str       ┆ str       ┆   ┆ str       ┆ str       ┆ i64       ┆ i64       │\n",
       "╞═══════════╪══════════╪═══════════╪═══════════╪═══╪═══════════╪═══════════╪═══════════╪═══════════╡\n",
       "│ r2        ┆ h_219    ┆ c_1       ┆ 2016-07-1 ┆ … ┆ 11:30:00  ┆ 2016-07-2 ┆ 2         ┆ 20600     │\n",
       "│           ┆          ┆           ┆ 6         ┆   ┆           ┆ 1         ┆           ┆           │\n",
       "│           ┆          ┆           ┆ 23:39:55  ┆   ┆           ┆           ┆           ┆           │\n",
       "│ r3        ┆ h_179    ┆ c_1       ┆ 2016-09-2 ┆ … ┆ 09:00:00  ┆ 2016-10-2 ┆ 2         ┆ 33600     │\n",
       "│           ┆          ┆           ┆ 4         ┆   ┆           ┆ 2         ┆           ┆           │\n",
       "│           ┆          ┆           ┆ 10:03:17  ┆   ┆           ┆           ┆           ┆           │\n",
       "└───────────┴──────────┴───────────┴───────────┴───┴───────────┴───────────┴───────────┴───────────┘"
      ]
     },
     "execution_count": 23,
     "metadata": {},
     "output_type": "execute_result"
    }
   ],
   "source": [
    "pl_reserve_tb[1:3,:]"
   ]
  },
  {
   "cell_type": "markdown",
   "metadata": {
    "id": "VZ3AUGRKWJTo"
   },
   "source": [
    ".filter()"
   ]
  },
  {
   "cell_type": "markdown",
   "metadata": {
    "id": "TR2L4yCXxBgC"
   },
   "source": [
    "\n",
    "\n",
    "*   条件にもとづいて特定の行を抽出する場合は.filter()メソッドを用います。\n",
    "*   pandasの`df[df[\"column\"] > 3]`のような書き方はできません。\n",
    "*   .filter()メソッドでは通常、エクスプレッション`（pl.Expr()）`を渡すことでフィルタリングします。\n",
    "\n"
   ]
  },
  {
   "cell_type": "code",
   "execution_count": 24,
   "metadata": {
    "colab": {
     "base_uri": "https://localhost:8080/",
     "height": 149
    },
    "id": "9ge23xfezA8j",
    "outputId": "b0119e5e-56cf-4865-9547-c7569c91f923",
    "tags": []
   },
   "outputs": [
    {
     "data": {
      "text/html": [
       "<div><style>\n",
       ".dataframe > thead > tr > th,\n",
       ".dataframe > tbody > tr > td {\n",
       "  text-align: right;\n",
       "  white-space: pre-wrap;\n",
       "}\n",
       "</style>\n",
       "<small>shape: (3, 9)</small><table border=\"1\" class=\"dataframe\"><thead><tr><th>reserve_id</th><th>hotel_id</th><th>customer_id</th><th>reserve_datetime</th><th>checkin_date</th><th>checkin_time</th><th>checkout_date</th><th>people_num</th><th>total_price</th></tr><tr><td>str</td><td>str</td><td>str</td><td>str</td><td>str</td><td>str</td><td>str</td><td>i64</td><td>i64</td></tr></thead><tbody><tr><td>&quot;r285&quot;</td><td>&quot;h_121&quot;</td><td>&quot;c_67&quot;</td><td>&quot;2016-09-27 06:…</td><td>&quot;2016-10-12&quot;</td><td>&quot;12:00:00&quot;</td><td>&quot;2016-10-14&quot;</td><td>4</td><td>184000</td></tr><tr><td>&quot;r514&quot;</td><td>&quot;h_74&quot;</td><td>&quot;c_120&quot;</td><td>&quot;2016-10-06 03:…</td><td>&quot;2016-10-11&quot;</td><td>&quot;12:30:00&quot;</td><td>&quot;2016-10-14&quot;</td><td>2</td><td>28800</td></tr><tr><td>&quot;r1066&quot;</td><td>&quot;h_205&quot;</td><td>&quot;c_261&quot;</td><td>&quot;2016-09-14 02:…</td><td>&quot;2016-10-11&quot;</td><td>&quot;10:00:00&quot;</td><td>&quot;2016-10-14&quot;</td><td>4</td><td>85200</td></tr></tbody></table></div>"
      ],
      "text/plain": [
       "shape: (3, 9)\n",
       "┌───────────┬──────────┬───────────┬───────────┬───┬───────────┬───────────┬───────────┬───────────┐\n",
       "│ reserve_i ┆ hotel_id ┆ customer_ ┆ reserve_d ┆ … ┆ checkin_t ┆ checkout_ ┆ people_nu ┆ total_pri │\n",
       "│ d         ┆ ---      ┆ id        ┆ atetime   ┆   ┆ ime       ┆ date      ┆ m         ┆ ce        │\n",
       "│ ---       ┆ str      ┆ ---       ┆ ---       ┆   ┆ ---       ┆ ---       ┆ ---       ┆ ---       │\n",
       "│ str       ┆          ┆ str       ┆ str       ┆   ┆ str       ┆ str       ┆ i64       ┆ i64       │\n",
       "╞═══════════╪══════════╪═══════════╪═══════════╪═══╪═══════════╪═══════════╪═══════════╪═══════════╡\n",
       "│ r285      ┆ h_121    ┆ c_67      ┆ 2016-09-2 ┆ … ┆ 12:00:00  ┆ 2016-10-1 ┆ 4         ┆ 184000    │\n",
       "│           ┆          ┆           ┆ 7         ┆   ┆           ┆ 4         ┆           ┆           │\n",
       "│           ┆          ┆           ┆ 06:13:19  ┆   ┆           ┆           ┆           ┆           │\n",
       "│ r514      ┆ h_74     ┆ c_120     ┆ 2016-10-0 ┆ … ┆ 12:30:00  ┆ 2016-10-1 ┆ 2         ┆ 28800     │\n",
       "│           ┆          ┆           ┆ 6         ┆   ┆           ┆ 4         ┆           ┆           │\n",
       "│           ┆          ┆           ┆ 03:12:04  ┆   ┆           ┆           ┆           ┆           │\n",
       "│ r1066     ┆ h_205    ┆ c_261     ┆ 2016-09-1 ┆ … ┆ 10:00:00  ┆ 2016-10-1 ┆ 4         ┆ 85200     │\n",
       "│           ┆          ┆           ┆ 4         ┆   ┆           ┆ 4         ┆           ┆           │\n",
       "│           ┆          ┆           ┆ 02:57:59  ┆   ┆           ┆           ┆           ┆           │\n",
       "└───────────┴──────────┴───────────┴───────────┴───┴───────────┴───────────┴───────────┴───────────┘"
      ]
     },
     "execution_count": 24,
     "metadata": {},
     "output_type": "execute_result"
    }
   ],
   "source": [
    "tmp = pl_reserve_tb.filter((pl.col(\"checkout_date\") >= '2016-10-13') & (pl.col(\"checkout_date\") <= '2016-10-14'))\n",
    "\n",
    "tmp.head(3)"
   ]
  },
  {
   "cell_type": "markdown",
   "metadata": {
    "id": "mtsxHGuYWbtC"
   },
   "source": [
    ".is_in()：リストに含まれるかどうかを判定"
   ]
  },
  {
   "cell_type": "markdown",
   "metadata": {
    "id": "r_DM6jec0lyl"
   },
   "source": [
    "\n",
    "\n",
    "*   なおpandasの`.isin`と違い、polarsの`.is_in()`メソッドにはセットやndarrayを渡すことはできないようです。\n",
    "\n"
   ]
  },
  {
   "cell_type": "code",
   "execution_count": 25,
   "metadata": {
    "colab": {
     "base_uri": "https://localhost:8080/",
     "height": 149
    },
    "id": "4vLRa1M1Vr6H",
    "outputId": "2d45d93b-4b58-4b81-e5ba-3775b05d30e1",
    "tags": []
   },
   "outputs": [
    {
     "data": {
      "text/html": [
       "<div><style>\n",
       ".dataframe > thead > tr > th,\n",
       ".dataframe > tbody > tr > td {\n",
       "  text-align: right;\n",
       "  white-space: pre-wrap;\n",
       "}\n",
       "</style>\n",
       "<small>shape: (3, 9)</small><table border=\"1\" class=\"dataframe\"><thead><tr><th>reserve_id</th><th>hotel_id</th><th>customer_id</th><th>reserve_datetime</th><th>checkin_date</th><th>checkin_time</th><th>checkout_date</th><th>people_num</th><th>total_price</th></tr><tr><td>str</td><td>str</td><td>str</td><td>str</td><td>str</td><td>str</td><td>str</td><td>i64</td><td>i64</td></tr></thead><tbody><tr><td>&quot;r1&quot;</td><td>&quot;h_75&quot;</td><td>&quot;c_1&quot;</td><td>&quot;2016-03-06 13:…</td><td>&quot;2016-03-26&quot;</td><td>&quot;10:00:00&quot;</td><td>&quot;2016-03-29&quot;</td><td>4</td><td>97200</td></tr><tr><td>&quot;r4&quot;</td><td>&quot;h_214&quot;</td><td>&quot;c_1&quot;</td><td>&quot;2017-03-08 03:…</td><td>&quot;2017-03-29&quot;</td><td>&quot;11:00:00&quot;</td><td>&quot;2017-03-30&quot;</td><td>4</td><td>194400</td></tr><tr><td>&quot;r5&quot;</td><td>&quot;h_16&quot;</td><td>&quot;c_1&quot;</td><td>&quot;2017-09-05 19:…</td><td>&quot;2017-09-22&quot;</td><td>&quot;10:30:00&quot;</td><td>&quot;2017-09-23&quot;</td><td>3</td><td>68100</td></tr></tbody></table></div>"
      ],
      "text/plain": [
       "shape: (3, 9)\n",
       "┌───────────┬──────────┬───────────┬───────────┬───┬───────────┬───────────┬───────────┬───────────┐\n",
       "│ reserve_i ┆ hotel_id ┆ customer_ ┆ reserve_d ┆ … ┆ checkin_t ┆ checkout_ ┆ people_nu ┆ total_pri │\n",
       "│ d         ┆ ---      ┆ id        ┆ atetime   ┆   ┆ ime       ┆ date      ┆ m         ┆ ce        │\n",
       "│ ---       ┆ str      ┆ ---       ┆ ---       ┆   ┆ ---       ┆ ---       ┆ ---       ┆ ---       │\n",
       "│ str       ┆          ┆ str       ┆ str       ┆   ┆ str       ┆ str       ┆ i64       ┆ i64       │\n",
       "╞═══════════╪══════════╪═══════════╪═══════════╪═══╪═══════════╪═══════════╪═══════════╪═══════════╡\n",
       "│ r1        ┆ h_75     ┆ c_1       ┆ 2016-03-0 ┆ … ┆ 10:00:00  ┆ 2016-03-2 ┆ 4         ┆ 97200     │\n",
       "│           ┆          ┆           ┆ 6         ┆   ┆           ┆ 9         ┆           ┆           │\n",
       "│           ┆          ┆           ┆ 13:09:42  ┆   ┆           ┆           ┆           ┆           │\n",
       "│ r4        ┆ h_214    ┆ c_1       ┆ 2017-03-0 ┆ … ┆ 11:00:00  ┆ 2017-03-3 ┆ 4         ┆ 194400    │\n",
       "│           ┆          ┆           ┆ 8         ┆   ┆           ┆ 0         ┆           ┆           │\n",
       "│           ┆          ┆           ┆ 03:20:10  ┆   ┆           ┆           ┆           ┆           │\n",
       "│ r5        ┆ h_16     ┆ c_1       ┆ 2017-09-0 ┆ … ┆ 10:30:00  ┆ 2017-09-2 ┆ 3         ┆ 68100     │\n",
       "│           ┆          ┆           ┆ 5         ┆   ┆           ┆ 3         ┆           ┆           │\n",
       "│           ┆          ┆           ┆ 19:50:37  ┆   ┆           ┆           ┆           ┆           │\n",
       "└───────────┴──────────┴───────────┴───────────┴───┴───────────┴───────────┴───────────┴───────────┘"
      ]
     },
     "execution_count": 25,
     "metadata": {},
     "output_type": "execute_result"
    }
   ],
   "source": [
    "tmp = pl_reserve_tb.filter(pl.col('people_num').is_in([3,4]))\n",
    "\n",
    "tmp.head(3)"
   ]
  },
  {
   "cell_type": "markdown",
   "metadata": {
    "id": "NVKTFvIMFU7x"
   },
   "source": [
    "## pandas"
   ]
  },
  {
   "cell_type": "markdown",
   "metadata": {
    "id": "yHf00LE_uHee"
   },
   "source": [
    "`[]`を使った行の選択"
   ]
  },
  {
   "cell_type": "code",
   "execution_count": 26,
   "metadata": {
    "colab": {
     "base_uri": "https://localhost:8080/",
     "height": 112
    },
    "id": "g3gAo05FvXbi",
    "outputId": "b650919a-a303-4da2-9893-43b2c098ffb7",
    "tags": []
   },
   "outputs": [
    {
     "data": {
      "text/html": [
       "<div>\n",
       "<style scoped>\n",
       "    .dataframe tbody tr th:only-of-type {\n",
       "        vertical-align: middle;\n",
       "    }\n",
       "\n",
       "    .dataframe tbody tr th {\n",
       "        vertical-align: top;\n",
       "    }\n",
       "\n",
       "    .dataframe thead th {\n",
       "        text-align: right;\n",
       "    }\n",
       "</style>\n",
       "<table border=\"1\" class=\"dataframe\">\n",
       "  <thead>\n",
       "    <tr style=\"text-align: right;\">\n",
       "      <th></th>\n",
       "      <th>reserve_id</th>\n",
       "      <th>hotel_id</th>\n",
       "      <th>customer_id</th>\n",
       "      <th>reserve_datetime</th>\n",
       "      <th>checkin_date</th>\n",
       "      <th>checkin_time</th>\n",
       "      <th>checkout_date</th>\n",
       "      <th>people_num</th>\n",
       "      <th>total_price</th>\n",
       "    </tr>\n",
       "  </thead>\n",
       "  <tbody>\n",
       "    <tr>\n",
       "      <th>1</th>\n",
       "      <td>r2</td>\n",
       "      <td>h_219</td>\n",
       "      <td>c_1</td>\n",
       "      <td>2016-07-16 23:39:55</td>\n",
       "      <td>2016-07-20</td>\n",
       "      <td>11:30:00</td>\n",
       "      <td>2016-07-21</td>\n",
       "      <td>2</td>\n",
       "      <td>20600</td>\n",
       "    </tr>\n",
       "    <tr>\n",
       "      <th>2</th>\n",
       "      <td>r3</td>\n",
       "      <td>h_179</td>\n",
       "      <td>c_1</td>\n",
       "      <td>2016-09-24 10:03:17</td>\n",
       "      <td>2016-10-19</td>\n",
       "      <td>09:00:00</td>\n",
       "      <td>2016-10-22</td>\n",
       "      <td>2</td>\n",
       "      <td>33600</td>\n",
       "    </tr>\n",
       "  </tbody>\n",
       "</table>\n",
       "</div>"
      ],
      "text/plain": [
       "  reserve_id hotel_id customer_id     reserve_datetime checkin_date  \\\n",
       "1         r2    h_219         c_1  2016-07-16 23:39:55   2016-07-20   \n",
       "2         r3    h_179         c_1  2016-09-24 10:03:17   2016-10-19   \n",
       "\n",
       "  checkin_time checkout_date  people_num  total_price  \n",
       "1     11:30:00    2016-07-21           2        20600  \n",
       "2     09:00:00    2016-10-22           2        33600  "
      ]
     },
     "execution_count": 26,
     "metadata": {},
     "output_type": "execute_result"
    }
   ],
   "source": [
    "pd_reserve_tb.iloc[1:3,:]"
   ]
  },
  {
   "cell_type": "markdown",
   "metadata": {
    "id": "N3GRAs-7uHee"
   },
   "source": [
    "条件文による抽出"
   ]
  },
  {
   "cell_type": "code",
   "execution_count": 27,
   "metadata": {
    "colab": {
     "base_uri": "https://localhost:8080/",
     "height": 143
    },
    "id": "KAruM3hDxQEU",
    "outputId": "6de40dbc-6fbd-4bc6-a128-90517f958c78",
    "tags": []
   },
   "outputs": [
    {
     "data": {
      "text/html": [
       "<div>\n",
       "<style scoped>\n",
       "    .dataframe tbody tr th:only-of-type {\n",
       "        vertical-align: middle;\n",
       "    }\n",
       "\n",
       "    .dataframe tbody tr th {\n",
       "        vertical-align: top;\n",
       "    }\n",
       "\n",
       "    .dataframe thead th {\n",
       "        text-align: right;\n",
       "    }\n",
       "</style>\n",
       "<table border=\"1\" class=\"dataframe\">\n",
       "  <thead>\n",
       "    <tr style=\"text-align: right;\">\n",
       "      <th></th>\n",
       "      <th>reserve_id</th>\n",
       "      <th>hotel_id</th>\n",
       "      <th>customer_id</th>\n",
       "      <th>reserve_datetime</th>\n",
       "      <th>checkin_date</th>\n",
       "      <th>checkin_time</th>\n",
       "      <th>checkout_date</th>\n",
       "      <th>people_num</th>\n",
       "      <th>total_price</th>\n",
       "    </tr>\n",
       "  </thead>\n",
       "  <tbody>\n",
       "    <tr>\n",
       "      <th>284</th>\n",
       "      <td>r285</td>\n",
       "      <td>h_121</td>\n",
       "      <td>c_67</td>\n",
       "      <td>2016-09-27 06:13:19</td>\n",
       "      <td>2016-10-12</td>\n",
       "      <td>12:00:00</td>\n",
       "      <td>2016-10-14</td>\n",
       "      <td>4</td>\n",
       "      <td>184000</td>\n",
       "    </tr>\n",
       "    <tr>\n",
       "      <th>513</th>\n",
       "      <td>r514</td>\n",
       "      <td>h_74</td>\n",
       "      <td>c_120</td>\n",
       "      <td>2016-10-06 03:12:04</td>\n",
       "      <td>2016-10-11</td>\n",
       "      <td>12:30:00</td>\n",
       "      <td>2016-10-14</td>\n",
       "      <td>2</td>\n",
       "      <td>28800</td>\n",
       "    </tr>\n",
       "    <tr>\n",
       "      <th>1065</th>\n",
       "      <td>r1066</td>\n",
       "      <td>h_205</td>\n",
       "      <td>c_261</td>\n",
       "      <td>2016-09-14 02:57:59</td>\n",
       "      <td>2016-10-11</td>\n",
       "      <td>10:00:00</td>\n",
       "      <td>2016-10-14</td>\n",
       "      <td>4</td>\n",
       "      <td>85200</td>\n",
       "    </tr>\n",
       "  </tbody>\n",
       "</table>\n",
       "</div>"
      ],
      "text/plain": [
       "     reserve_id hotel_id customer_id     reserve_datetime checkin_date  \\\n",
       "284        r285    h_121        c_67  2016-09-27 06:13:19   2016-10-12   \n",
       "513        r514     h_74       c_120  2016-10-06 03:12:04   2016-10-11   \n",
       "1065      r1066    h_205       c_261  2016-09-14 02:57:59   2016-10-11   \n",
       "\n",
       "     checkin_time checkout_date  people_num  total_price  \n",
       "284      12:00:00    2016-10-14           4       184000  \n",
       "513      12:30:00    2016-10-14           2        28800  \n",
       "1065     10:00:00    2016-10-14           4        85200  "
      ]
     },
     "execution_count": 27,
     "metadata": {},
     "output_type": "execute_result"
    }
   ],
   "source": [
    "tmp = pd_reserve_tb[(pd_reserve_tb['checkout_date'] >= '2016-10-13') &\n",
    "                    (pd_reserve_tb['checkout_date'] <= '2016-10-14')]\n",
    "\n",
    "tmp.head(3)"
   ]
  },
  {
   "cell_type": "markdown",
   "metadata": {
    "id": "VuutB58fuHee"
   },
   "source": [
    ".isin()：リストに含まれるかどうかを判定"
   ]
  },
  {
   "cell_type": "code",
   "execution_count": 28,
   "metadata": {
    "colab": {
     "base_uri": "https://localhost:8080/",
     "height": 143
    },
    "id": "GuCQQe3VthYa",
    "outputId": "3b88365b-eca9-405b-f01a-83e668414378",
    "tags": []
   },
   "outputs": [
    {
     "data": {
      "text/html": [
       "<div>\n",
       "<style scoped>\n",
       "    .dataframe tbody tr th:only-of-type {\n",
       "        vertical-align: middle;\n",
       "    }\n",
       "\n",
       "    .dataframe tbody tr th {\n",
       "        vertical-align: top;\n",
       "    }\n",
       "\n",
       "    .dataframe thead th {\n",
       "        text-align: right;\n",
       "    }\n",
       "</style>\n",
       "<table border=\"1\" class=\"dataframe\">\n",
       "  <thead>\n",
       "    <tr style=\"text-align: right;\">\n",
       "      <th></th>\n",
       "      <th>reserve_id</th>\n",
       "      <th>hotel_id</th>\n",
       "      <th>customer_id</th>\n",
       "      <th>reserve_datetime</th>\n",
       "      <th>checkin_date</th>\n",
       "      <th>checkin_time</th>\n",
       "      <th>checkout_date</th>\n",
       "      <th>people_num</th>\n",
       "      <th>total_price</th>\n",
       "    </tr>\n",
       "  </thead>\n",
       "  <tbody>\n",
       "    <tr>\n",
       "      <th>0</th>\n",
       "      <td>r1</td>\n",
       "      <td>h_75</td>\n",
       "      <td>c_1</td>\n",
       "      <td>2016-03-06 13:09:42</td>\n",
       "      <td>2016-03-26</td>\n",
       "      <td>10:00:00</td>\n",
       "      <td>2016-03-29</td>\n",
       "      <td>4</td>\n",
       "      <td>97200</td>\n",
       "    </tr>\n",
       "    <tr>\n",
       "      <th>3</th>\n",
       "      <td>r4</td>\n",
       "      <td>h_214</td>\n",
       "      <td>c_1</td>\n",
       "      <td>2017-03-08 03:20:10</td>\n",
       "      <td>2017-03-29</td>\n",
       "      <td>11:00:00</td>\n",
       "      <td>2017-03-30</td>\n",
       "      <td>4</td>\n",
       "      <td>194400</td>\n",
       "    </tr>\n",
       "    <tr>\n",
       "      <th>4</th>\n",
       "      <td>r5</td>\n",
       "      <td>h_16</td>\n",
       "      <td>c_1</td>\n",
       "      <td>2017-09-05 19:50:37</td>\n",
       "      <td>2017-09-22</td>\n",
       "      <td>10:30:00</td>\n",
       "      <td>2017-09-23</td>\n",
       "      <td>3</td>\n",
       "      <td>68100</td>\n",
       "    </tr>\n",
       "  </tbody>\n",
       "</table>\n",
       "</div>"
      ],
      "text/plain": [
       "  reserve_id hotel_id customer_id     reserve_datetime checkin_date  \\\n",
       "0         r1     h_75         c_1  2016-03-06 13:09:42   2016-03-26   \n",
       "3         r4    h_214         c_1  2017-03-08 03:20:10   2017-03-29   \n",
       "4         r5     h_16         c_1  2017-09-05 19:50:37   2017-09-22   \n",
       "\n",
       "  checkin_time checkout_date  people_num  total_price  \n",
       "0     10:00:00    2016-03-29           4        97200  \n",
       "3     11:00:00    2017-03-30           4       194400  \n",
       "4     10:30:00    2017-09-23           3        68100  "
      ]
     },
     "execution_count": 28,
     "metadata": {},
     "output_type": "execute_result"
    }
   ],
   "source": [
    "tmp = pd_reserve_tb[pd_reserve_tb['people_num'].isin([3,4])]\n",
    "\n",
    "tmp.head(3)"
   ]
  },
  {
   "cell_type": "markdown",
   "metadata": {
    "id": "LSLLFmNS1---"
   },
   "source": [
    "# ユニーク行・重複行"
   ]
  },
  {
   "cell_type": "markdown",
   "metadata": {
    "id": "akrnaed71-_F"
   },
   "source": [
    "## polars"
   ]
  },
  {
   "cell_type": "markdown",
   "metadata": {
    "id": "bDxj4PDL2L-Z"
   },
   "source": [
    "*    unique()は、pandasの.drop_duplicates()に相当し、重複データを削除することができます。\n",
    "\n",
    "*    subset=引数：識別する列を指定します。デフォルトでは、全ての列の値が一致している行のみが削除されます。\n",
    "*    keep=引数：デフォルトのkeep=\"first\"では、重複行のうち最初に出現する行は残されます。keep=\"last\"を指定すると下の方にある行が残ります。\n",
    "*    keep=\"none\"を指定すると重複行をすべて削除します。"
   ]
  },
  {
   "cell_type": "code",
   "execution_count": 29,
   "metadata": {
    "id": "JUDYxjg__TXH",
    "tags": []
   },
   "outputs": [],
   "source": [
    "def dup_counts_pl(df, target_col):\n",
    "    # tmp = df[target_col].is_duplicated().value_counts() #.shape[0] True以外もカウントしてしまうため×\n",
    "    tmp = df.select([(pl.col(target_col).count() - pl.col(target_col).n_unique())]).get_columns()[0][0]\n",
    "\n",
    "    print(f'{target_col} 重複件数: ', tmp)"
   ]
  },
  {
   "cell_type": "code",
   "execution_count": 30,
   "metadata": {
    "colab": {
     "base_uri": "https://localhost:8080/"
    },
    "id": "tqbBbAb-_2SX",
    "outputId": "7070e454-72ad-411f-ccc1-aad025316343",
    "tags": []
   },
   "outputs": [
    {
     "name": "stdout",
     "output_type": "stream",
     "text": [
      "hotel_id 重複件数:  3730\n",
      "hotel_id 重複件数:  0\n"
     ]
    }
   ],
   "source": [
    "dup_counts_pl(pl_reserve_tb, 'hotel_id')\n",
    "\n",
    "hotel_id_uu = pl_reserve_tb.unique(subset=['hotel_id'])\n",
    "\n",
    "dup_counts_pl(hotel_id_uu, 'hotel_id')"
   ]
  },
  {
   "cell_type": "markdown",
   "metadata": {
    "id": "oYZLezhR1-_F"
   },
   "source": [
    "## pandas"
   ]
  },
  {
   "cell_type": "code",
   "execution_count": 31,
   "metadata": {
    "id": "xmEAmUzQ7NkR",
    "tags": []
   },
   "outputs": [],
   "source": [
    "def dup_counts_pd(pdf, target_col):\n",
    "    tmp = pdf[target_col][pdf[target_col].duplicated()].count()\n",
    "\n",
    "    print(f'{target_col} 重複件数: ', tmp)"
   ]
  },
  {
   "cell_type": "code",
   "execution_count": 32,
   "metadata": {
    "colab": {
     "base_uri": "https://localhost:8080/"
    },
    "id": "tsRaxW3q896E",
    "outputId": "7b1f3ea3-3147-4ec0-877e-2d4fba1d3d6a",
    "tags": []
   },
   "outputs": [
    {
     "name": "stdout",
     "output_type": "stream",
     "text": [
      "hotel_id 重複件数:  3730\n",
      "hotel_id 重複件数:  0\n"
     ]
    }
   ],
   "source": [
    "dup_counts_pd(pd_reserve_tb, 'hotel_id')\n",
    "\n",
    "hotel_id_uu = pd_reserve_tb.drop_duplicates(subset=['hotel_id'])\n",
    "\n",
    "dup_counts_pd(hotel_id_uu, 'hotel_id')"
   ]
  },
  {
   "cell_type": "markdown",
   "metadata": {
    "id": "PtyBqzgDBGpE"
   },
   "source": [
    "# 列の選択"
   ]
  },
  {
   "cell_type": "markdown",
   "metadata": {
    "id": "Cid3WS0EFVZF"
   },
   "source": [
    "## polars"
   ]
  },
  {
   "cell_type": "markdown",
   "metadata": {
    "id": "VqkJF1WQgTN2"
   },
   "source": [
    "\n",
    "\n",
    "*   データフレーム内の特定のシリーズ（1列）を選択する場合は、.get_column()メソッドに列名を渡します。\n",
    "\n"
   ]
  },
  {
   "cell_type": "code",
   "execution_count": 33,
   "metadata": {
    "colab": {
     "base_uri": "https://localhost:8080/"
    },
    "id": "Kn0WgSKWe08K",
    "outputId": "d1d9186e-4820-40dd-f4f0-fc9a6e3db4c1",
    "tags": []
   },
   "outputs": [
    {
     "data": {
      "text/plain": [
       "[shape: (4_030,)\n",
       " Series: 'reserve_id' [str]\n",
       " [\n",
       " \t\"r1\"\n",
       " \t\"r2\"\n",
       " \t\"r3\"\n",
       " \t\"r4\"\n",
       " \t\"r5\"\n",
       " \t\"r6\"\n",
       " \t\"r7\"\n",
       " \t\"r8\"\n",
       " \t\"r9\"\n",
       " \t\"r10\"\n",
       " \t\"r11\"\n",
       " \t\"r12\"\n",
       " \t…\n",
       " \t\"r4018\"\n",
       " \t\"r4019\"\n",
       " \t\"r4020\"\n",
       " \t\"r4021\"\n",
       " \t\"r4022\"\n",
       " \t\"r4023\"\n",
       " \t\"r4024\"\n",
       " \t\"r4025\"\n",
       " \t\"r4026\"\n",
       " \t\"r4027\"\n",
       " \t\"r4028\"\n",
       " \t\"r4029\"\n",
       " \t\"r4030\"\n",
       " ],\n",
       " shape: (4_030,)\n",
       " Series: 'hotel_id' [str]\n",
       " [\n",
       " \t\"h_75\"\n",
       " \t\"h_219\"\n",
       " \t\"h_179\"\n",
       " \t\"h_214\"\n",
       " \t\"h_16\"\n",
       " \t\"h_241\"\n",
       " \t\"h_256\"\n",
       " \t\"h_241\"\n",
       " \t\"h_217\"\n",
       " \t\"h_240\"\n",
       " \t\"h_183\"\n",
       " \t\"h_268\"\n",
       " \t…\n",
       " \t\"h_204\"\n",
       " \t\"h_224\"\n",
       " \t\"h_243\"\n",
       " \t\"h_159\"\n",
       " \t\"h_172\"\n",
       " \t\"h_4\"\n",
       " \t\"h_244\"\n",
       " \t\"h_160\"\n",
       " \t\"h_129\"\n",
       " \t\"h_97\"\n",
       " \t\"h_27\"\n",
       " \t\"h_48\"\n",
       " \t\"h_117\"\n",
       " ],\n",
       " shape: (4_030,)\n",
       " Series: 'customer_id' [str]\n",
       " [\n",
       " \t\"c_1\"\n",
       " \t\"c_1\"\n",
       " \t\"c_1\"\n",
       " \t\"c_1\"\n",
       " \t\"c_1\"\n",
       " \t\"c_1\"\n",
       " \t\"c_1\"\n",
       " \t\"c_1\"\n",
       " \t\"c_2\"\n",
       " \t\"c_2\"\n",
       " \t\"c_2\"\n",
       " \t\"c_2\"\n",
       " \t…\n",
       " \t\"c_996\"\n",
       " \t\"c_996\"\n",
       " \t\"c_996\"\n",
       " \t\"c_997\"\n",
       " \t\"c_997\"\n",
       " \t\"c_999\"\n",
       " \t\"c_999\"\n",
       " \t\"c_999\"\n",
       " \t\"c_999\"\n",
       " \t\"c_999\"\n",
       " \t\"c_999\"\n",
       " \t\"c_1000\"\n",
       " \t\"c_1000\"\n",
       " ],\n",
       " shape: (4_030,)\n",
       " Series: 'reserve_datetime' [str]\n",
       " [\n",
       " \t\"2016-03-06 13:…\n",
       " \t\"2016-07-16 23:…\n",
       " \t\"2016-09-24 10:…\n",
       " \t\"2017-03-08 03:…\n",
       " \t\"2017-09-05 19:…\n",
       " \t\"2017-11-27 18:…\n",
       " \t\"2017-12-29 10:…\n",
       " \t\"2018-05-26 08:…\n",
       " \t\"2016-03-05 13:…\n",
       " \t\"2016-06-25 09:…\n",
       " \t\"2016-11-19 12:…\n",
       " \t\"2017-05-24 10:…\n",
       " \t…\n",
       " \t\"2017-08-20 17:…\n",
       " \t\"2017-12-10 19:…\n",
       " \t\"2018-04-22 20:…\n",
       " \t\"2016-01-08 20:…\n",
       " \t\"2016-05-13 09:…\n",
       " \t\"2016-04-21 21:…\n",
       " \t\"2016-10-06 18:…\n",
       " \t\"2017-03-11 11:…\n",
       " \t\"2017-06-27 23:…\n",
       " \t\"2017-09-29 05:…\n",
       " \t\"2018-03-14 05:…\n",
       " \t\"2016-04-16 15:…\n",
       " \t\"2016-06-06 08:…\n",
       " ],\n",
       " shape: (4_030,)\n",
       " Series: 'checkin_date' [str]\n",
       " [\n",
       " \t\"2016-03-26\"\n",
       " \t\"2016-07-20\"\n",
       " \t\"2016-10-19\"\n",
       " \t\"2017-03-29\"\n",
       " \t\"2017-09-22\"\n",
       " \t\"2017-12-04\"\n",
       " \t\"2018-01-25\"\n",
       " \t\"2018-06-08\"\n",
       " \t\"2016-03-25\"\n",
       " \t\"2016-07-14\"\n",
       " \t\"2016-12-08\"\n",
       " \t\"2017-06-20\"\n",
       " \t…\n",
       " \t\"2017-09-06\"\n",
       " \t\"2017-12-20\"\n",
       " \t\"2018-05-21\"\n",
       " \t\"2016-01-09\"\n",
       " \t\"2016-06-06\"\n",
       " \t\"2016-04-22\"\n",
       " \t\"2016-10-07\"\n",
       " \t\"2017-03-27\"\n",
       " \t\"2017-07-10\"\n",
       " \t\"2017-10-09\"\n",
       " \t\"2018-04-02\"\n",
       " \t\"2016-05-10\"\n",
       " \t\"2016-07-06\"\n",
       " ],\n",
       " shape: (4_030,)\n",
       " Series: 'checkin_time' [str]\n",
       " [\n",
       " \t\"10:00:00\"\n",
       " \t\"11:30:00\"\n",
       " \t\"09:00:00\"\n",
       " \t\"11:00:00\"\n",
       " \t\"10:30:00\"\n",
       " \t\"12:00:00\"\n",
       " \t\"10:30:00\"\n",
       " \t\"10:00:00\"\n",
       " \t\"09:30:00\"\n",
       " \t\"11:00:00\"\n",
       " \t\"11:00:00\"\n",
       " \t\"09:00:00\"\n",
       " \t…\n",
       " \t\"12:30:00\"\n",
       " \t\"11:30:00\"\n",
       " \t\"12:00:00\"\n",
       " \t\"12:00:00\"\n",
       " \t\"09:30:00\"\n",
       " \t\"12:00:00\"\n",
       " \t\"11:30:00\"\n",
       " \t\"10:00:00\"\n",
       " \t\"09:30:00\"\n",
       " \t\"10:30:00\"\n",
       " \t\"11:30:00\"\n",
       " \t\"09:30:00\"\n",
       " \t\"09:00:00\"\n",
       " ],\n",
       " shape: (4_030,)\n",
       " Series: 'checkout_date' [str]\n",
       " [\n",
       " \t\"2016-03-29\"\n",
       " \t\"2016-07-21\"\n",
       " \t\"2016-10-22\"\n",
       " \t\"2017-03-30\"\n",
       " \t\"2017-09-23\"\n",
       " \t\"2017-12-06\"\n",
       " \t\"2018-01-28\"\n",
       " \t\"2018-06-09\"\n",
       " \t\"2016-03-27\"\n",
       " \t\"2016-07-17\"\n",
       " \t\"2016-12-11\"\n",
       " \t\"2017-06-21\"\n",
       " \t…\n",
       " \t\"2017-09-07\"\n",
       " \t\"2017-12-23\"\n",
       " \t\"2018-05-22\"\n",
       " \t\"2016-01-11\"\n",
       " \t\"2016-06-08\"\n",
       " \t\"2016-04-25\"\n",
       " \t\"2016-10-09\"\n",
       " \t\"2017-03-30\"\n",
       " \t\"2017-07-11\"\n",
       " \t\"2017-10-10\"\n",
       " \t\"2018-04-04\"\n",
       " \t\"2016-05-13\"\n",
       " \t\"2016-07-09\"\n",
       " ],\n",
       " shape: (4_030,)\n",
       " Series: 'people_num' [i64]\n",
       " [\n",
       " \t4\n",
       " \t2\n",
       " \t2\n",
       " \t4\n",
       " \t3\n",
       " \t3\n",
       " \t1\n",
       " \t1\n",
       " \t3\n",
       " \t4\n",
       " \t1\n",
       " \t4\n",
       " \t…\n",
       " \t2\n",
       " \t3\n",
       " \t2\n",
       " \t2\n",
       " \t3\n",
       " \t4\n",
       " \t3\n",
       " \t1\n",
       " \t2\n",
       " \t2\n",
       " \t2\n",
       " \t4\n",
       " \t1\n",
       " ],\n",
       " shape: (4_030,)\n",
       " Series: 'total_price' [i64]\n",
       " [\n",
       " \t97200\n",
       " \t20600\n",
       " \t33600\n",
       " \t194400\n",
       " \t68100\n",
       " \t36000\n",
       " \t103500\n",
       " \t6000\n",
       " \t68400\n",
       " \t320400\n",
       " \t29700\n",
       " \t81600\n",
       " \t…\n",
       " \t24200\n",
       " \t36000\n",
       " \t55400\n",
       " \t258800\n",
       " \t96000\n",
       " \t62400\n",
       " \t59400\n",
       " \t37200\n",
       " \t16000\n",
       " \t41800\n",
       " \t74800\n",
       " \t540000\n",
       " \t44100\n",
       " ]]"
      ]
     },
     "execution_count": 33,
     "metadata": {},
     "output_type": "execute_result"
    }
   ],
   "source": [
    "# データフレーム内の特定のシリーズ（1列）を選択する場合は、.get_column()メソッドに列名を渡します。\n",
    "pl_reserve_tb.get_column('hotel_id')\n",
    "\n",
    "# .get_columns()を使うことでdartaframeの列を分解し、シリーズのリストに変換する\n",
    "pl_reserve_tb.get_columns()"
   ]
  },
  {
   "cell_type": "code",
   "execution_count": 34,
   "metadata": {
    "colab": {
     "base_uri": "https://localhost:8080/",
     "height": 149
    },
    "id": "DoppUo0dgv7R",
    "outputId": "59f885de-5df0-45cf-a799-a4bbe4db9546",
    "tags": []
   },
   "outputs": [
    {
     "data": {
      "text/html": [
       "<div><style>\n",
       ".dataframe > thead > tr > th,\n",
       ".dataframe > tbody > tr > td {\n",
       "  text-align: right;\n",
       "  white-space: pre-wrap;\n",
       "}\n",
       "</style>\n",
       "<small>shape: (3,)</small><table border=\"1\" class=\"dataframe\"><thead><tr><th>hotel_id</th></tr><tr><td>str</td></tr></thead><tbody><tr><td>&quot;h_75&quot;</td></tr><tr><td>&quot;h_219&quot;</td></tr><tr><td>&quot;h_179&quot;</td></tr></tbody></table></div>"
      ],
      "text/plain": [
       "shape: (3,)\n",
       "Series: 'hotel_id' [str]\n",
       "[\n",
       "\t\"h_75\"\n",
       "\t\"h_219\"\n",
       "\t\"h_179\"\n",
       "]"
      ]
     },
     "execution_count": 34,
     "metadata": {},
     "output_type": "execute_result"
    }
   ],
   "source": [
    "# .get_columns()を使うことでdartaframeの列を分解し、シリーズのリストに変換する\n",
    "tmp = pl_reserve_tb.get_columns()[1]\n",
    "\n",
    "tmp.head(3)"
   ]
  },
  {
   "cell_type": "code",
   "execution_count": 35,
   "metadata": {
    "colab": {
     "base_uri": "https://localhost:8080/"
    },
    "id": "oxSuasVhhKEH",
    "outputId": "92ca0407-10e9-427d-a500-7b5b523f1926",
    "tags": []
   },
   "outputs": [
    {
     "data": {
      "text/plain": [
       "['reserve_id',\n",
       " 'hotel_id',\n",
       " 'customer_id',\n",
       " 'reserve_datetime',\n",
       " 'checkin_date',\n",
       " 'checkin_time',\n",
       " 'checkout_date',\n",
       " 'people_num',\n",
       " 'total_price']"
      ]
     },
     "execution_count": 35,
     "metadata": {},
     "output_type": "execute_result"
    }
   ],
   "source": [
    "pl_reserve_tb.columns"
   ]
  },
  {
   "cell_type": "code",
   "execution_count": 36,
   "metadata": {
    "colab": {
     "base_uri": "https://localhost:8080/",
     "height": 149
    },
    "id": "GVinN0WcbiXv",
    "outputId": "fcb63e85-96b7-458a-baeb-67a5a73f52bf",
    "tags": []
   },
   "outputs": [
    {
     "data": {
      "text/html": [
       "<div><style>\n",
       ".dataframe > thead > tr > th,\n",
       ".dataframe > tbody > tr > td {\n",
       "  text-align: right;\n",
       "  white-space: pre-wrap;\n",
       "}\n",
       "</style>\n",
       "<small>shape: (3, 3)</small><table border=\"1\" class=\"dataframe\"><thead><tr><th>reserve_id</th><th>hotel_id</th><th>customer_id</th></tr><tr><td>str</td><td>str</td><td>str</td></tr></thead><tbody><tr><td>&quot;r1&quot;</td><td>&quot;h_75&quot;</td><td>&quot;c_1&quot;</td></tr><tr><td>&quot;r2&quot;</td><td>&quot;h_219&quot;</td><td>&quot;c_1&quot;</td></tr><tr><td>&quot;r3&quot;</td><td>&quot;h_179&quot;</td><td>&quot;c_1&quot;</td></tr></tbody></table></div>"
      ],
      "text/plain": [
       "shape: (3, 3)\n",
       "┌────────────┬──────────┬─────────────┐\n",
       "│ reserve_id ┆ hotel_id ┆ customer_id │\n",
       "│ ---        ┆ ---      ┆ ---         │\n",
       "│ str        ┆ str      ┆ str         │\n",
       "╞════════════╪══════════╪═════════════╡\n",
       "│ r1         ┆ h_75     ┆ c_1         │\n",
       "│ r2         ┆ h_219    ┆ c_1         │\n",
       "│ r3         ┆ h_179    ┆ c_1         │\n",
       "└────────────┴──────────┴─────────────┘"
      ]
     },
     "execution_count": 36,
     "metadata": {},
     "output_type": "execute_result"
    }
   ],
   "source": [
    "# .selectを使った場合はget_columnsと異なりdataframeを返す\n",
    "# 記法の互換性のため、pandasのdf[\"column\"]のような操作も実装されていますが、推奨されていません。\n",
    "\n",
    "tmp = pl_reserve_tb.select(['reserve_id','hotel_id','customer_id'])\n",
    "\n",
    "tmp.head(3)"
   ]
  },
  {
   "cell_type": "markdown",
   "metadata": {
    "id": "CArR3bDtFVZG"
   },
   "source": [
    "## pandas"
   ]
  },
  {
   "cell_type": "code",
   "execution_count": 37,
   "metadata": {
    "colab": {
     "base_uri": "https://localhost:8080/",
     "height": 143
    },
    "id": "MnfXXZWFhYb1",
    "outputId": "ea9eebb6-675b-4330-b00b-8fbb4914df45",
    "tags": []
   },
   "outputs": [
    {
     "data": {
      "text/html": [
       "<div>\n",
       "<style scoped>\n",
       "    .dataframe tbody tr th:only-of-type {\n",
       "        vertical-align: middle;\n",
       "    }\n",
       "\n",
       "    .dataframe tbody tr th {\n",
       "        vertical-align: top;\n",
       "    }\n",
       "\n",
       "    .dataframe thead th {\n",
       "        text-align: right;\n",
       "    }\n",
       "</style>\n",
       "<table border=\"1\" class=\"dataframe\">\n",
       "  <thead>\n",
       "    <tr style=\"text-align: right;\">\n",
       "      <th></th>\n",
       "      <th>reserve_id</th>\n",
       "      <th>hotel_id</th>\n",
       "      <th>customer_id</th>\n",
       "    </tr>\n",
       "  </thead>\n",
       "  <tbody>\n",
       "    <tr>\n",
       "      <th>0</th>\n",
       "      <td>r1</td>\n",
       "      <td>h_75</td>\n",
       "      <td>c_1</td>\n",
       "    </tr>\n",
       "    <tr>\n",
       "      <th>1</th>\n",
       "      <td>r2</td>\n",
       "      <td>h_219</td>\n",
       "      <td>c_1</td>\n",
       "    </tr>\n",
       "    <tr>\n",
       "      <th>2</th>\n",
       "      <td>r3</td>\n",
       "      <td>h_179</td>\n",
       "      <td>c_1</td>\n",
       "    </tr>\n",
       "  </tbody>\n",
       "</table>\n",
       "</div>"
      ],
      "text/plain": [
       "  reserve_id hotel_id customer_id\n",
       "0         r1     h_75         c_1\n",
       "1         r2    h_219         c_1\n",
       "2         r3    h_179         c_1"
      ]
     },
     "execution_count": 37,
     "metadata": {},
     "output_type": "execute_result"
    }
   ],
   "source": [
    "# selectはない\n",
    "tmp = pd_reserve_tb[['reserve_id','hotel_id','customer_id']]\n",
    "\n",
    "tmp.head(3)"
   ]
  },
  {
   "cell_type": "markdown",
   "metadata": {
    "id": "YvotqqSmhvan"
   },
   "source": [
    "# 列の追加"
   ]
  },
  {
   "cell_type": "markdown",
   "metadata": {
    "id": "-l5V9av6hznd"
   },
   "source": [
    "## polars"
   ]
  },
  {
   "cell_type": "code",
   "execution_count": 38,
   "metadata": {
    "colab": {
     "base_uri": "https://localhost:8080/",
     "height": 149
    },
    "id": "tHjFRDxzjQxP",
    "outputId": "d3fa401c-c2f8-4782-e63d-7310253bad64",
    "tags": []
   },
   "outputs": [
    {
     "data": {
      "text/html": [
       "<div><style>\n",
       ".dataframe > thead > tr > th,\n",
       ".dataframe > tbody > tr > td {\n",
       "  text-align: right;\n",
       "  white-space: pre-wrap;\n",
       "}\n",
       "</style>\n",
       "<small>shape: (3, 9)</small><table border=\"1\" class=\"dataframe\"><thead><tr><th>reserve_id</th><th>hotel_id</th><th>customer_id</th><th>reserve_datetime</th><th>checkin_date</th><th>checkin_time</th><th>checkout_date</th><th>people_num</th><th>total_price</th></tr><tr><td>str</td><td>str</td><td>str</td><td>str</td><td>str</td><td>str</td><td>str</td><td>i64</td><td>i64</td></tr></thead><tbody><tr><td>&quot;r1&quot;</td><td>&quot;h_75&quot;</td><td>&quot;c_1&quot;</td><td>&quot;2016-03-06 13:…</td><td>&quot;2016-03-26&quot;</td><td>&quot;10:00:00&quot;</td><td>&quot;2016-03-29&quot;</td><td>4</td><td>97200</td></tr><tr><td>&quot;r2&quot;</td><td>&quot;h_219&quot;</td><td>&quot;c_1&quot;</td><td>&quot;2016-07-16 23:…</td><td>&quot;2016-07-20&quot;</td><td>&quot;11:30:00&quot;</td><td>&quot;2016-07-21&quot;</td><td>2</td><td>20600</td></tr><tr><td>&quot;r3&quot;</td><td>&quot;h_179&quot;</td><td>&quot;c_1&quot;</td><td>&quot;2016-09-24 10:…</td><td>&quot;2016-10-19&quot;</td><td>&quot;09:00:00&quot;</td><td>&quot;2016-10-22&quot;</td><td>2</td><td>33600</td></tr></tbody></table></div>"
      ],
      "text/plain": [
       "shape: (3, 9)\n",
       "┌───────────┬──────────┬───────────┬───────────┬───┬───────────┬───────────┬───────────┬───────────┐\n",
       "│ reserve_i ┆ hotel_id ┆ customer_ ┆ reserve_d ┆ … ┆ checkin_t ┆ checkout_ ┆ people_nu ┆ total_pri │\n",
       "│ d         ┆ ---      ┆ id        ┆ atetime   ┆   ┆ ime       ┆ date      ┆ m         ┆ ce        │\n",
       "│ ---       ┆ str      ┆ ---       ┆ ---       ┆   ┆ ---       ┆ ---       ┆ ---       ┆ ---       │\n",
       "│ str       ┆          ┆ str       ┆ str       ┆   ┆ str       ┆ str       ┆ i64       ┆ i64       │\n",
       "╞═══════════╪══════════╪═══════════╪═══════════╪═══╪═══════════╪═══════════╪═══════════╪═══════════╡\n",
       "│ r1        ┆ h_75     ┆ c_1       ┆ 2016-03-0 ┆ … ┆ 10:00:00  ┆ 2016-03-2 ┆ 4         ┆ 97200     │\n",
       "│           ┆          ┆           ┆ 6         ┆   ┆           ┆ 9         ┆           ┆           │\n",
       "│           ┆          ┆           ┆ 13:09:42  ┆   ┆           ┆           ┆           ┆           │\n",
       "│ r2        ┆ h_219    ┆ c_1       ┆ 2016-07-1 ┆ … ┆ 11:30:00  ┆ 2016-07-2 ┆ 2         ┆ 20600     │\n",
       "│           ┆          ┆           ┆ 6         ┆   ┆           ┆ 1         ┆           ┆           │\n",
       "│           ┆          ┆           ┆ 23:39:55  ┆   ┆           ┆           ┆           ┆           │\n",
       "│ r3        ┆ h_179    ┆ c_1       ┆ 2016-09-2 ┆ … ┆ 09:00:00  ┆ 2016-10-2 ┆ 2         ┆ 33600     │\n",
       "│           ┆          ┆           ┆ 4         ┆   ┆           ┆ 2         ┆           ┆           │\n",
       "│           ┆          ┆           ┆ 10:03:17  ┆   ┆           ┆           ┆           ┆           │\n",
       "└───────────┴──────────┴───────────┴───────────┴───┴───────────┴───────────┴───────────┴───────────┘"
      ]
     },
     "execution_count": 38,
     "metadata": {},
     "output_type": "execute_result"
    }
   ],
   "source": [
    "pl_reserve_tb.head(3)"
   ]
  },
  {
   "cell_type": "code",
   "execution_count": 39,
   "metadata": {
    "colab": {
     "base_uri": "https://localhost:8080/",
     "height": 149
    },
    "id": "SFynFSEhh0LI",
    "outputId": "8cac3700-5ae4-49b8-d952-1d03170ddf4a",
    "tags": []
   },
   "outputs": [
    {
     "data": {
      "text/html": [
       "<div><style>\n",
       ".dataframe > thead > tr > th,\n",
       ".dataframe > tbody > tr > td {\n",
       "  text-align: right;\n",
       "  white-space: pre-wrap;\n",
       "}\n",
       "</style>\n",
       "<small>shape: (3, 11)</small><table border=\"1\" class=\"dataframe\"><thead><tr><th>reserve_id</th><th>hotel_id</th><th>customer_id</th><th>reserve_datetime</th><th>checkin_date</th><th>checkin_time</th><th>checkout_date</th><th>people_num</th><th>total_price</th><th>total_price_2x</th><th>total_price_3x</th></tr><tr><td>str</td><td>str</td><td>str</td><td>str</td><td>str</td><td>str</td><td>str</td><td>i64</td><td>i64</td><td>i64</td><td>i64</td></tr></thead><tbody><tr><td>&quot;r1&quot;</td><td>&quot;h_75&quot;</td><td>&quot;c_1&quot;</td><td>&quot;2016-03-06 13:…</td><td>&quot;2016-03-26&quot;</td><td>&quot;10:00:00&quot;</td><td>&quot;2016-03-29&quot;</td><td>4</td><td>97200</td><td>194400</td><td>291600</td></tr><tr><td>&quot;r2&quot;</td><td>&quot;h_219&quot;</td><td>&quot;c_1&quot;</td><td>&quot;2016-07-16 23:…</td><td>&quot;2016-07-20&quot;</td><td>&quot;11:30:00&quot;</td><td>&quot;2016-07-21&quot;</td><td>2</td><td>20600</td><td>41200</td><td>61800</td></tr><tr><td>&quot;r3&quot;</td><td>&quot;h_179&quot;</td><td>&quot;c_1&quot;</td><td>&quot;2016-09-24 10:…</td><td>&quot;2016-10-19&quot;</td><td>&quot;09:00:00&quot;</td><td>&quot;2016-10-22&quot;</td><td>2</td><td>33600</td><td>67200</td><td>100800</td></tr></tbody></table></div>"
      ],
      "text/plain": [
       "shape: (3, 11)\n",
       "┌───────────┬──────────┬───────────┬───────────┬───┬───────────┬───────────┬───────────┬───────────┐\n",
       "│ reserve_i ┆ hotel_id ┆ customer_ ┆ reserve_d ┆ … ┆ people_nu ┆ total_pri ┆ total_pri ┆ total_pri │\n",
       "│ d         ┆ ---      ┆ id        ┆ atetime   ┆   ┆ m         ┆ ce        ┆ ce_2x     ┆ ce_3x     │\n",
       "│ ---       ┆ str      ┆ ---       ┆ ---       ┆   ┆ ---       ┆ ---       ┆ ---       ┆ ---       │\n",
       "│ str       ┆          ┆ str       ┆ str       ┆   ┆ i64       ┆ i64       ┆ i64       ┆ i64       │\n",
       "╞═══════════╪══════════╪═══════════╪═══════════╪═══╪═══════════╪═══════════╪═══════════╪═══════════╡\n",
       "│ r1        ┆ h_75     ┆ c_1       ┆ 2016-03-0 ┆ … ┆ 4         ┆ 97200     ┆ 194400    ┆ 291600    │\n",
       "│           ┆          ┆           ┆ 6         ┆   ┆           ┆           ┆           ┆           │\n",
       "│           ┆          ┆           ┆ 13:09:42  ┆   ┆           ┆           ┆           ┆           │\n",
       "│ r2        ┆ h_219    ┆ c_1       ┆ 2016-07-1 ┆ … ┆ 2         ┆ 20600     ┆ 41200     ┆ 61800     │\n",
       "│           ┆          ┆           ┆ 6         ┆   ┆           ┆           ┆           ┆           │\n",
       "│           ┆          ┆           ┆ 23:39:55  ┆   ┆           ┆           ┆           ┆           │\n",
       "│ r3        ┆ h_179    ┆ c_1       ┆ 2016-09-2 ┆ … ┆ 2         ┆ 33600     ┆ 67200     ┆ 100800    │\n",
       "│           ┆          ┆           ┆ 4         ┆   ┆           ┆           ┆           ┆           │\n",
       "│           ┆          ┆           ┆ 10:03:17  ┆   ┆           ┆           ┆           ┆           │\n",
       "└───────────┴──────────┴───────────┴───────────┴───┴───────────┴───────────┴───────────┴───────────┘"
      ]
     },
     "execution_count": 39,
     "metadata": {},
     "output_type": "execute_result"
    }
   ],
   "source": [
    "tmp = pl_reserve_tb\n",
    "\n",
    "# 新しいシリーズの作成を伴う操作\n",
    "new_seires = (tmp.get_column(\"total_price\") * 2).alias(\"total_price_2x\")\n",
    "tmp.with_columns(new_seires)\n",
    "\n",
    "# エクスプレッションによる操作(こちらの方がおすすめ)\n",
    "new_column_2x = (pl.col(\"total_price\") * 2).alias(\"total_price_2x\")\n",
    "tmp.with_columns(new_column_2x)\n",
    "\n",
    "# .with_columns()に列のリストを渡すと、一度に複数の列を追加\n",
    "new_column_3x = (pl.col(\"total_price\") * 3).alias(\"total_price_3x\")\n",
    "tmp.with_columns([new_column_2x, new_column_3x]).head(3)"
   ]
  },
  {
   "cell_type": "markdown",
   "metadata": {
    "id": "XlSFpw-thzne"
   },
   "source": [
    "## pandas"
   ]
  },
  {
   "cell_type": "code",
   "execution_count": 40,
   "metadata": {
    "colab": {
     "base_uri": "https://localhost:8080/",
     "height": 143
    },
    "id": "tNXU2qvLhYSb",
    "outputId": "1c9076ca-fe15-4d25-8d4a-4c4d120a5e9e",
    "tags": []
   },
   "outputs": [
    {
     "data": {
      "text/html": [
       "<div>\n",
       "<style scoped>\n",
       "    .dataframe tbody tr th:only-of-type {\n",
       "        vertical-align: middle;\n",
       "    }\n",
       "\n",
       "    .dataframe tbody tr th {\n",
       "        vertical-align: top;\n",
       "    }\n",
       "\n",
       "    .dataframe thead th {\n",
       "        text-align: right;\n",
       "    }\n",
       "</style>\n",
       "<table border=\"1\" class=\"dataframe\">\n",
       "  <thead>\n",
       "    <tr style=\"text-align: right;\">\n",
       "      <th></th>\n",
       "      <th>reserve_id</th>\n",
       "      <th>hotel_id</th>\n",
       "      <th>customer_id</th>\n",
       "      <th>reserve_datetime</th>\n",
       "      <th>checkin_date</th>\n",
       "      <th>checkin_time</th>\n",
       "      <th>checkout_date</th>\n",
       "      <th>people_num</th>\n",
       "      <th>total_price</th>\n",
       "      <th>total_price_2x</th>\n",
       "      <th>total_price_3x</th>\n",
       "    </tr>\n",
       "  </thead>\n",
       "  <tbody>\n",
       "    <tr>\n",
       "      <th>0</th>\n",
       "      <td>r1</td>\n",
       "      <td>h_75</td>\n",
       "      <td>c_1</td>\n",
       "      <td>2016-03-06 13:09:42</td>\n",
       "      <td>2016-03-26</td>\n",
       "      <td>10:00:00</td>\n",
       "      <td>2016-03-29</td>\n",
       "      <td>4</td>\n",
       "      <td>97200</td>\n",
       "      <td>194400</td>\n",
       "      <td>291600</td>\n",
       "    </tr>\n",
       "    <tr>\n",
       "      <th>1</th>\n",
       "      <td>r2</td>\n",
       "      <td>h_219</td>\n",
       "      <td>c_1</td>\n",
       "      <td>2016-07-16 23:39:55</td>\n",
       "      <td>2016-07-20</td>\n",
       "      <td>11:30:00</td>\n",
       "      <td>2016-07-21</td>\n",
       "      <td>2</td>\n",
       "      <td>20600</td>\n",
       "      <td>41200</td>\n",
       "      <td>61800</td>\n",
       "    </tr>\n",
       "    <tr>\n",
       "      <th>2</th>\n",
       "      <td>r3</td>\n",
       "      <td>h_179</td>\n",
       "      <td>c_1</td>\n",
       "      <td>2016-09-24 10:03:17</td>\n",
       "      <td>2016-10-19</td>\n",
       "      <td>09:00:00</td>\n",
       "      <td>2016-10-22</td>\n",
       "      <td>2</td>\n",
       "      <td>33600</td>\n",
       "      <td>67200</td>\n",
       "      <td>100800</td>\n",
       "    </tr>\n",
       "  </tbody>\n",
       "</table>\n",
       "</div>"
      ],
      "text/plain": [
       "  reserve_id hotel_id customer_id     reserve_datetime checkin_date  \\\n",
       "0         r1     h_75         c_1  2016-03-06 13:09:42   2016-03-26   \n",
       "1         r2    h_219         c_1  2016-07-16 23:39:55   2016-07-20   \n",
       "2         r3    h_179         c_1  2016-09-24 10:03:17   2016-10-19   \n",
       "\n",
       "  checkin_time checkout_date  people_num  total_price  total_price_2x  \\\n",
       "0     10:00:00    2016-03-29           4        97200          194400   \n",
       "1     11:30:00    2016-07-21           2        20600           41200   \n",
       "2     09:00:00    2016-10-22           2        33600           67200   \n",
       "\n",
       "   total_price_3x  \n",
       "0          291600  \n",
       "1           61800  \n",
       "2          100800  "
      ]
     },
     "execution_count": 40,
     "metadata": {},
     "output_type": "execute_result"
    }
   ],
   "source": [
    "tmp = pd_reserve_tb\n",
    "\n",
    "tmp['total_price_2x'] = tmp['total_price']*2\n",
    "tmp['total_price_3x'] = tmp['total_price']*3\n",
    "tmp.head(3)"
   ]
  },
  {
   "cell_type": "markdown",
   "metadata": {
    "id": "OjQ9J799BU8C"
   },
   "source": [
    "# 結合"
   ]
  },
  {
   "cell_type": "markdown",
   "metadata": {
    "id": "2MJWw1C1FWOj"
   },
   "source": [
    "## polars"
   ]
  },
  {
   "cell_type": "code",
   "execution_count": 41,
   "metadata": {
    "colab": {
     "base_uri": "https://localhost:8080/",
     "height": 149
    },
    "id": "tmFyeNvmIT8M",
    "outputId": "c38096a7-a706-4d78-ebf2-55c4376e8950",
    "tags": []
   },
   "outputs": [
    {
     "data": {
      "text/html": [
       "<div><style>\n",
       ".dataframe > thead > tr > th,\n",
       ".dataframe > tbody > tr > td {\n",
       "  text-align: right;\n",
       "  white-space: pre-wrap;\n",
       "}\n",
       "</style>\n",
       "<small>shape: (3, 15)</small><table border=\"1\" class=\"dataframe\"><thead><tr><th>reserve_id</th><th>hotel_id</th><th>customer_id</th><th>reserve_datetime</th><th>checkin_date</th><th>checkin_time</th><th>checkout_date</th><th>people_num</th><th>total_price</th><th>base_price</th><th>big_area_name</th><th>small_area_name</th><th>hotel_latitude</th><th>hotel_longitude</th><th>is_business</th></tr><tr><td>str</td><td>str</td><td>str</td><td>str</td><td>str</td><td>str</td><td>str</td><td>i64</td><td>i64</td><td>i64</td><td>str</td><td>str</td><td>f64</td><td>f64</td><td>bool</td></tr></thead><tbody><tr><td>&quot;r7&quot;</td><td>&quot;h_256&quot;</td><td>&quot;c_1&quot;</td><td>&quot;2017-12-29 10:…</td><td>&quot;2018-01-25&quot;</td><td>&quot;10:30:00&quot;</td><td>&quot;2018-01-28&quot;</td><td>1</td><td>103500</td><td>34500</td><td>&quot;C&quot;</td><td>&quot;C-1&quot;</td><td>38.237294</td><td>140.696131</td><td>true</td></tr><tr><td>&quot;r11&quot;</td><td>&quot;h_183&quot;</td><td>&quot;c_2&quot;</td><td>&quot;2016-11-19 12:…</td><td>&quot;2016-12-08&quot;</td><td>&quot;11:00:00&quot;</td><td>&quot;2016-12-11&quot;</td><td>1</td><td>29700</td><td>9900</td><td>&quot;G&quot;</td><td>&quot;G-4&quot;</td><td>33.595248</td><td>130.633567</td><td>true</td></tr><tr><td>&quot;r13&quot;</td><td>&quot;h_223&quot;</td><td>&quot;c_2&quot;</td><td>&quot;2017-10-19 03:…</td><td>&quot;2017-10-21&quot;</td><td>&quot;09:30:00&quot;</td><td>&quot;2017-10-23&quot;</td><td>1</td><td>137000</td><td>68500</td><td>&quot;C&quot;</td><td>&quot;C-2&quot;</td><td>38.329097</td><td>140.698165</td><td>true</td></tr></tbody></table></div>"
      ],
      "text/plain": [
       "shape: (3, 15)\n",
       "┌───────────┬──────────┬───────────┬───────────┬───┬───────────┬───────────┬───────────┬───────────┐\n",
       "│ reserve_i ┆ hotel_id ┆ customer_ ┆ reserve_d ┆ … ┆ small_are ┆ hotel_lat ┆ hotel_lon ┆ is_busine │\n",
       "│ d         ┆ ---      ┆ id        ┆ atetime   ┆   ┆ a_name    ┆ itude     ┆ gitude    ┆ ss        │\n",
       "│ ---       ┆ str      ┆ ---       ┆ ---       ┆   ┆ ---       ┆ ---       ┆ ---       ┆ ---       │\n",
       "│ str       ┆          ┆ str       ┆ str       ┆   ┆ str       ┆ f64       ┆ f64       ┆ bool      │\n",
       "╞═══════════╪══════════╪═══════════╪═══════════╪═══╪═══════════╪═══════════╪═══════════╪═══════════╡\n",
       "│ r7        ┆ h_256    ┆ c_1       ┆ 2017-12-2 ┆ … ┆ C-1       ┆ 38.237294 ┆ 140.69613 ┆ true      │\n",
       "│           ┆          ┆           ┆ 9         ┆   ┆           ┆           ┆ 1         ┆           │\n",
       "│           ┆          ┆           ┆ 10:38:36  ┆   ┆           ┆           ┆           ┆           │\n",
       "│ r11       ┆ h_183    ┆ c_2       ┆ 2016-11-1 ┆ … ┆ G-4       ┆ 33.595248 ┆ 130.63356 ┆ true      │\n",
       "│           ┆          ┆           ┆ 9         ┆   ┆           ┆           ┆ 7         ┆           │\n",
       "│           ┆          ┆           ┆ 12:49:10  ┆   ┆           ┆           ┆           ┆           │\n",
       "│ r13       ┆ h_223    ┆ c_2       ┆ 2017-10-1 ┆ … ┆ C-2       ┆ 38.329097 ┆ 140.69816 ┆ true      │\n",
       "│           ┆          ┆           ┆ 9         ┆   ┆           ┆           ┆ 5         ┆           │\n",
       "│           ┆          ┆           ┆ 03:03:30  ┆   ┆           ┆           ┆           ┆           │\n",
       "└───────────┴──────────┴───────────┴───────────┴───┴───────────┴───────────┴───────────┴───────────┘"
      ]
     },
     "execution_count": 41,
     "metadata": {},
     "output_type": "execute_result"
    }
   ],
   "source": [
    "tmp_left = pl_reserve_tb.filter(pl.col('people_num')==1)\n",
    "tmp_right =  pl_hotel_tb.filter(pl.col('is_business')==True)\n",
    "\n",
    "tmp_left.join(tmp_right, on = 'hotel_id', how='inner').head(3)"
   ]
  },
  {
   "cell_type": "markdown",
   "metadata": {
    "id": "59J7QckBFWOk"
   },
   "source": [
    "## pandas"
   ]
  },
  {
   "cell_type": "code",
   "execution_count": 42,
   "metadata": {
    "colab": {
     "base_uri": "https://localhost:8080/",
     "height": 143
    },
    "id": "qJBctpXLBTxg",
    "outputId": "d7487af4-2c76-45f0-bb9a-ebc59c3d7816",
    "tags": []
   },
   "outputs": [
    {
     "data": {
      "text/html": [
       "<div>\n",
       "<style scoped>\n",
       "    .dataframe tbody tr th:only-of-type {\n",
       "        vertical-align: middle;\n",
       "    }\n",
       "\n",
       "    .dataframe tbody tr th {\n",
       "        vertical-align: top;\n",
       "    }\n",
       "\n",
       "    .dataframe thead th {\n",
       "        text-align: right;\n",
       "    }\n",
       "</style>\n",
       "<table border=\"1\" class=\"dataframe\">\n",
       "  <thead>\n",
       "    <tr style=\"text-align: right;\">\n",
       "      <th></th>\n",
       "      <th>reserve_id</th>\n",
       "      <th>hotel_id</th>\n",
       "      <th>customer_id</th>\n",
       "      <th>reserve_datetime</th>\n",
       "      <th>checkin_date</th>\n",
       "      <th>checkin_time</th>\n",
       "      <th>checkout_date</th>\n",
       "      <th>people_num</th>\n",
       "      <th>total_price</th>\n",
       "      <th>total_price_2x</th>\n",
       "      <th>total_price_3x</th>\n",
       "      <th>base_price</th>\n",
       "      <th>big_area_name</th>\n",
       "      <th>small_area_name</th>\n",
       "      <th>hotel_latitude</th>\n",
       "      <th>hotel_longitude</th>\n",
       "      <th>is_business</th>\n",
       "    </tr>\n",
       "  </thead>\n",
       "  <tbody>\n",
       "    <tr>\n",
       "      <th>0</th>\n",
       "      <td>r7</td>\n",
       "      <td>h_256</td>\n",
       "      <td>c_1</td>\n",
       "      <td>2017-12-29 10:38:36</td>\n",
       "      <td>2018-01-25</td>\n",
       "      <td>10:30:00</td>\n",
       "      <td>2018-01-28</td>\n",
       "      <td>1</td>\n",
       "      <td>103500</td>\n",
       "      <td>207000</td>\n",
       "      <td>310500</td>\n",
       "      <td>34500</td>\n",
       "      <td>C</td>\n",
       "      <td>C-1</td>\n",
       "      <td>38.237294</td>\n",
       "      <td>140.696131</td>\n",
       "      <td>True</td>\n",
       "    </tr>\n",
       "    <tr>\n",
       "      <th>1</th>\n",
       "      <td>r997</td>\n",
       "      <td>h_256</td>\n",
       "      <td>c_244</td>\n",
       "      <td>2016-10-15 22:47:40</td>\n",
       "      <td>2016-10-31</td>\n",
       "      <td>10:30:00</td>\n",
       "      <td>2016-11-02</td>\n",
       "      <td>1</td>\n",
       "      <td>69000</td>\n",
       "      <td>138000</td>\n",
       "      <td>207000</td>\n",
       "      <td>34500</td>\n",
       "      <td>C</td>\n",
       "      <td>C-1</td>\n",
       "      <td>38.237294</td>\n",
       "      <td>140.696131</td>\n",
       "      <td>True</td>\n",
       "    </tr>\n",
       "    <tr>\n",
       "      <th>2</th>\n",
       "      <td>r2602</td>\n",
       "      <td>h_256</td>\n",
       "      <td>c_650</td>\n",
       "      <td>2016-05-10 00:42:56</td>\n",
       "      <td>2016-05-12</td>\n",
       "      <td>11:00:00</td>\n",
       "      <td>2016-05-14</td>\n",
       "      <td>1</td>\n",
       "      <td>69000</td>\n",
       "      <td>138000</td>\n",
       "      <td>207000</td>\n",
       "      <td>34500</td>\n",
       "      <td>C</td>\n",
       "      <td>C-1</td>\n",
       "      <td>38.237294</td>\n",
       "      <td>140.696131</td>\n",
       "      <td>True</td>\n",
       "    </tr>\n",
       "  </tbody>\n",
       "</table>\n",
       "</div>"
      ],
      "text/plain": [
       "  reserve_id hotel_id customer_id     reserve_datetime checkin_date  \\\n",
       "0         r7    h_256         c_1  2017-12-29 10:38:36   2018-01-25   \n",
       "1       r997    h_256       c_244  2016-10-15 22:47:40   2016-10-31   \n",
       "2      r2602    h_256       c_650  2016-05-10 00:42:56   2016-05-12   \n",
       "\n",
       "  checkin_time checkout_date  people_num  total_price  total_price_2x  \\\n",
       "0     10:30:00    2018-01-28           1       103500          207000   \n",
       "1     10:30:00    2016-11-02           1        69000          138000   \n",
       "2     11:00:00    2016-05-14           1        69000          138000   \n",
       "\n",
       "   total_price_3x  base_price big_area_name small_area_name  hotel_latitude  \\\n",
       "0          310500       34500             C             C-1       38.237294   \n",
       "1          207000       34500             C             C-1       38.237294   \n",
       "2          207000       34500             C             C-1       38.237294   \n",
       "\n",
       "   hotel_longitude  is_business  \n",
       "0       140.696131         True  \n",
       "1       140.696131         True  \n",
       "2       140.696131         True  "
      ]
     },
     "execution_count": 42,
     "metadata": {},
     "output_type": "execute_result"
    }
   ],
   "source": [
    "pd.merge(pd_reserve_tb.query('people_num == 1'),\n",
    "         pd_hotel_tb.query('is_business'),\n",
    "         on = 'hotel_id', how = 'inner').head(3)"
   ]
  },
  {
   "cell_type": "markdown",
   "metadata": {
    "id": "baYSuSHCBYfY"
   },
   "source": [
    "# Groupby・aggregation"
   ]
  },
  {
   "cell_type": "markdown",
   "metadata": {
    "id": "fjYoGE8sFWqz"
   },
   "source": [
    "## polars"
   ]
  },
  {
   "cell_type": "code",
   "execution_count": 43,
   "metadata": {
    "colab": {
     "base_uri": "https://localhost:8080/",
     "height": 185
    },
    "id": "X7eWSJPaQPv9",
    "outputId": "1e183a38-5bf2-469f-d6da-34c7b6a160ec",
    "tags": []
   },
   "outputs": [
    {
     "name": "stdout",
     "output_type": "stream",
     "text": [
      "CPU times: user 17.8 ms, sys: 3.03 ms, total: 20.8 ms\n",
      "Wall time: 6.6 ms\n"
     ]
    },
    {
     "name": "stderr",
     "output_type": "stream",
     "text": [
      "<timed exec>:2: DeprecationWarning: `groupby` is deprecated. It has been renamed to `group_by`.\n"
     ]
    },
    {
     "data": {
      "text/html": [
       "<div><style>\n",
       ".dataframe > thead > tr > th,\n",
       ".dataframe > tbody > tr > td {\n",
       "  text-align: right;\n",
       "  white-space: pre-wrap;\n",
       "}\n",
       "</style>\n",
       "<small>shape: (3, 3)</small><table border=\"1\" class=\"dataframe\"><thead><tr><th>hotel_id</th><th>rsv_cnt</th><th>cus_cnt</th></tr><tr><td>str</td><td>u32</td><td>u32</td></tr></thead><tbody><tr><td>&quot;h_1&quot;</td><td>10</td><td>10</td></tr><tr><td>&quot;h_10&quot;</td><td>3</td><td>3</td></tr><tr><td>&quot;h_100&quot;</td><td>20</td><td>19</td></tr></tbody></table></div>"
      ],
      "text/plain": [
       "shape: (3, 3)\n",
       "┌──────────┬─────────┬─────────┐\n",
       "│ hotel_id ┆ rsv_cnt ┆ cus_cnt │\n",
       "│ ---      ┆ ---     ┆ ---     │\n",
       "│ str      ┆ u32     ┆ u32     │\n",
       "╞══════════╪═════════╪═════════╡\n",
       "│ h_1      ┆ 10      ┆ 10      │\n",
       "│ h_10     ┆ 3       ┆ 3       │\n",
       "│ h_100    ┆ 20      ┆ 19      │\n",
       "└──────────┴─────────┴─────────┘"
      ]
     },
     "execution_count": 43,
     "metadata": {},
     "output_type": "execute_result"
    }
   ],
   "source": [
    "%%time\n",
    "\n",
    "result = (\n",
    "    pl_reserve_tb\n",
    "        .groupby(['hotel_id'])\n",
    "        .agg([pl.count('reserve_id').alias('rsv_cnt'), \n",
    "              pl.n_unique('customer_id').alias('cus_cnt'),\n",
    "              ])\n",
    "        .sort('hotel_id')\n",
    "    )\n",
    "\n",
    "result.head(3)"
   ]
  },
  {
   "cell_type": "markdown",
   "metadata": {
    "id": "fclbz10SFWq0"
   },
   "source": [
    "## pandas"
   ]
  },
  {
   "cell_type": "code",
   "execution_count": 44,
   "metadata": {
    "colab": {
     "base_uri": "https://localhost:8080/",
     "height": 179
    },
    "id": "gMPGpAPIBb8v",
    "outputId": "e48d7c04-a819-44a3-f744-58bd63f201ee",
    "tags": []
   },
   "outputs": [
    {
     "name": "stdout",
     "output_type": "stream",
     "text": [
      "CPU times: user 8.67 ms, sys: 199 µs, total: 8.86 ms\n",
      "Wall time: 7.99 ms\n"
     ]
    },
    {
     "data": {
      "text/html": [
       "<div>\n",
       "<style scoped>\n",
       "    .dataframe tbody tr th:only-of-type {\n",
       "        vertical-align: middle;\n",
       "    }\n",
       "\n",
       "    .dataframe tbody tr th {\n",
       "        vertical-align: top;\n",
       "    }\n",
       "\n",
       "    .dataframe thead th {\n",
       "        text-align: right;\n",
       "    }\n",
       "</style>\n",
       "<table border=\"1\" class=\"dataframe\">\n",
       "  <thead>\n",
       "    <tr style=\"text-align: right;\">\n",
       "      <th></th>\n",
       "      <th>hotel_id</th>\n",
       "      <th>rsv_cnt</th>\n",
       "      <th>cus_cnt</th>\n",
       "    </tr>\n",
       "  </thead>\n",
       "  <tbody>\n",
       "    <tr>\n",
       "      <th>0</th>\n",
       "      <td>h_1</td>\n",
       "      <td>10</td>\n",
       "      <td>10</td>\n",
       "    </tr>\n",
       "    <tr>\n",
       "      <th>1</th>\n",
       "      <td>h_10</td>\n",
       "      <td>3</td>\n",
       "      <td>3</td>\n",
       "    </tr>\n",
       "    <tr>\n",
       "      <th>2</th>\n",
       "      <td>h_100</td>\n",
       "      <td>20</td>\n",
       "      <td>19</td>\n",
       "    </tr>\n",
       "  </tbody>\n",
       "</table>\n",
       "</div>"
      ],
      "text/plain": [
       "  hotel_id  rsv_cnt  cus_cnt\n",
       "0      h_1       10       10\n",
       "1     h_10        3        3\n",
       "2    h_100       20       19"
      ]
     },
     "execution_count": 44,
     "metadata": {},
     "output_type": "execute_result"
    }
   ],
   "source": [
    "%%time\n",
    "\n",
    "result = (\n",
    "    pd_reserve_tb\n",
    "        .groupby('hotel_id')\n",
    "        .agg({'reserve_id':'count', 'customer_id':'nunique'})\n",
    "    )\n",
    "\n",
    "result.reset_index(inplace=True)\n",
    "result.columns = ['hotel_id','rsv_cnt','cus_cnt']\n",
    "result.head(3)"
   ]
  },
  {
   "cell_type": "markdown",
   "metadata": {
    "id": "Ixq5MeI9RdA_"
   },
   "source": [
    "# 条件文で値を指定"
   ]
  },
  {
   "cell_type": "markdown",
   "metadata": {
    "id": "qZ7SCnPQ69Hi"
   },
   "source": [
    "## polars"
   ]
  },
  {
   "cell_type": "code",
   "execution_count": 45,
   "metadata": {
    "colab": {
     "base_uri": "https://localhost:8080/",
     "height": 185
    },
    "id": "v4B2E-G9C_GM",
    "outputId": "e7c4a902-c6ba-4ac0-8e74-3563329463e3",
    "tags": []
   },
   "outputs": [
    {
     "name": "stdout",
     "output_type": "stream",
     "text": [
      "CPU times: user 0 ns, sys: 29.8 ms, total: 29.8 ms\n",
      "Wall time: 16.6 ms\n"
     ]
    },
    {
     "name": "stderr",
     "output_type": "stream",
     "text": [
      "<timed exec>:13: DeprecationWarning: `apply` is deprecated. It has been renamed to `map_elements`.\n",
      "<timed exec>:15: DeprecationWarning: `groupby` is deprecated. It has been renamed to `group_by`.\n"
     ]
    },
    {
     "data": {
      "text/html": [
       "<div><style>\n",
       ".dataframe > thead > tr > th,\n",
       ".dataframe > tbody > tr > td {\n",
       "  text-align: right;\n",
       "  white-space: pre-wrap;\n",
       "}\n",
       "</style>\n",
       "<small>shape: (3, 2)</small><table border=\"1\" class=\"dataframe\"><thead><tr><th>price_category</th><th>count</th></tr><tr><td>str</td><td>u32</td></tr></thead><tbody><tr><td>&quot;01_lowprice&quot;</td><td>3489</td></tr><tr><td>&quot;03_hiprice&quot;</td><td>121</td></tr><tr><td>&quot;02_midprice&quot;</td><td>420</td></tr></tbody></table></div>"
      ],
      "text/plain": [
       "shape: (3, 2)\n",
       "┌────────────────┬───────┐\n",
       "│ price_category ┆ count │\n",
       "│ ---            ┆ ---   │\n",
       "│ str            ┆ u32   │\n",
       "╞════════════════╪═══════╡\n",
       "│ 01_lowprice    ┆ 3489  │\n",
       "│ 03_hiprice     ┆ 121   │\n",
       "│ 02_midprice    ┆ 420   │\n",
       "└────────────────┴───────┘"
      ]
     },
     "execution_count": 45,
     "metadata": {},
     "output_type": "execute_result"
    }
   ],
   "source": [
    "%%time\n",
    "\n",
    "def func(x):\n",
    "    if  x < 200000:\n",
    "        return '01_lowprice'\n",
    "    elif x >= 200000 and x < 400000:\n",
    "        return '02_midprice'\n",
    "    elif x >= 400000:\n",
    "        return '03_hiprice'\n",
    "    else:\n",
    "        return '99_missing'\n",
    "\n",
    "tmp = pl_reserve_tb\n",
    "\n",
    "tmp = tmp.with_columns(pl.col('total_price').apply(func).alias('price_category'))\n",
    "\n",
    "tmp.groupby(['price_category']).count()"
   ]
  },
  {
   "cell_type": "code",
   "execution_count": 46,
   "metadata": {
    "colab": {
     "base_uri": "https://localhost:8080/",
     "height": 185
    },
    "id": "LGQ96p1ZEXP7",
    "outputId": "c59b48e6-30cc-4f1d-8464-284e66de17ba",
    "tags": []
   },
   "outputs": [
    {
     "name": "stdout",
     "output_type": "stream",
     "text": [
      "CPU times: user 0 ns, sys: 21.7 ms, total: 21.7 ms\n",
      "Wall time: 9.85 ms\n"
     ]
    },
    {
     "name": "stderr",
     "output_type": "stream",
     "text": [
      "<timed exec>:3: DeprecationWarning: in a future version, string input will be parsed as a column name rather than a string literal. To silence this warning, pass the input as an expression instead: `pl.lit('01_lowprice')`\n",
      "<timed exec>:3: DeprecationWarning: in a future version, string input will be parsed as a column name rather than a string literal. To silence this warning, pass the input as an expression instead: `pl.lit('02_midprice')`\n",
      "<timed exec>:3: DeprecationWarning: in a future version, string input will be parsed as a column name rather than a string literal. To silence this warning, pass the input as an expression instead: `pl.lit('03_hiprice')`\n",
      "<timed exec>:3: DeprecationWarning: in a future version, string input will be parsed as a column name rather than a string literal. To silence this warning, pass the input as an expression instead: `pl.lit('99_missing')`\n",
      "<timed exec>:12: DeprecationWarning: `groupby` is deprecated. It has been renamed to `group_by`.\n"
     ]
    },
    {
     "data": {
      "text/html": [
       "<div><style>\n",
       ".dataframe > thead > tr > th,\n",
       ".dataframe > tbody > tr > td {\n",
       "  text-align: right;\n",
       "  white-space: pre-wrap;\n",
       "}\n",
       "</style>\n",
       "<small>shape: (3, 2)</small><table border=\"1\" class=\"dataframe\"><thead><tr><th>price_category</th><th>count</th></tr><tr><td>str</td><td>u32</td></tr></thead><tbody><tr><td>&quot;01_lowprice&quot;</td><td>3489</td></tr><tr><td>&quot;02_midprice&quot;</td><td>420</td></tr><tr><td>&quot;03_hiprice&quot;</td><td>121</td></tr></tbody></table></div>"
      ],
      "text/plain": [
       "shape: (3, 2)\n",
       "┌────────────────┬───────┐\n",
       "│ price_category ┆ count │\n",
       "│ ---            ┆ ---   │\n",
       "│ str            ┆ u32   │\n",
       "╞════════════════╪═══════╡\n",
       "│ 01_lowprice    ┆ 3489  │\n",
       "│ 02_midprice    ┆ 420   │\n",
       "│ 03_hiprice     ┆ 121   │\n",
       "└────────────────┴───────┘"
      ]
     },
     "execution_count": 46,
     "metadata": {},
     "output_type": "execute_result"
    }
   ],
   "source": [
    "%%time\n",
    "\n",
    "# エクスプレションをつかった方がおすすめ\n",
    "cond = (\n",
    "    pl.when(pl.col(\"total_price\") < 200000).then(\"01_lowprice\")\n",
    "    .when((pl.col(\"total_price\") >= 200000)&(pl.col(\"total_price\") < 400000) ).then(\"02_midprice\")\n",
    "    .when(pl.col(\"total_price\") >= 400000).then(\"03_hiprice\")\n",
    "    .otherwise(\"99_missing\"))\n",
    "\n",
    "tmp = pl_reserve_tb\n",
    "\n",
    "tmp = tmp.with_columns(cond.alias('price_category'))\n",
    "\n",
    "tmp.groupby(['price_category']).count()"
   ]
  },
  {
   "cell_type": "markdown",
   "metadata": {
    "id": "70j38MI369Hi"
   },
   "source": [
    "## pandas"
   ]
  },
  {
   "cell_type": "code",
   "execution_count": 47,
   "metadata": {
    "colab": {
     "base_uri": "https://localhost:8080/",
     "height": 211
    },
    "id": "RsqWBWRcBNS3",
    "outputId": "5c95817a-ef69-469c-87b9-64c08cff9ab0",
    "tags": []
   },
   "outputs": [
    {
     "name": "stdout",
     "output_type": "stream",
     "text": [
      "CPU times: user 7.29 ms, sys: 1.49 ms, total: 8.78 ms\n",
      "Wall time: 7.66 ms\n"
     ]
    },
    {
     "data": {
      "text/html": [
       "<div>\n",
       "<style scoped>\n",
       "    .dataframe tbody tr th:only-of-type {\n",
       "        vertical-align: middle;\n",
       "    }\n",
       "\n",
       "    .dataframe tbody tr th {\n",
       "        vertical-align: top;\n",
       "    }\n",
       "\n",
       "    .dataframe thead th {\n",
       "        text-align: right;\n",
       "    }\n",
       "</style>\n",
       "<table border=\"1\" class=\"dataframe\">\n",
       "  <thead>\n",
       "    <tr style=\"text-align: right;\">\n",
       "      <th></th>\n",
       "      <th>reserve_id</th>\n",
       "    </tr>\n",
       "    <tr>\n",
       "      <th>price_category</th>\n",
       "      <th></th>\n",
       "    </tr>\n",
       "  </thead>\n",
       "  <tbody>\n",
       "    <tr>\n",
       "      <th>01_lowprice</th>\n",
       "      <td>3489</td>\n",
       "    </tr>\n",
       "    <tr>\n",
       "      <th>02_midprice</th>\n",
       "      <td>420</td>\n",
       "    </tr>\n",
       "    <tr>\n",
       "      <th>03_hiprice</th>\n",
       "      <td>121</td>\n",
       "    </tr>\n",
       "  </tbody>\n",
       "</table>\n",
       "</div>"
      ],
      "text/plain": [
       "                reserve_id\n",
       "price_category            \n",
       "01_lowprice           3489\n",
       "02_midprice            420\n",
       "03_hiprice             121"
      ]
     },
     "execution_count": 47,
     "metadata": {},
     "output_type": "execute_result"
    }
   ],
   "source": [
    "%%time\n",
    "\n",
    "def func(x):\n",
    "    if  x < 200000:\n",
    "        return '01_lowprice'\n",
    "    elif x >= 200000 and x < 400000:\n",
    "        return '02_midprice'\n",
    "    elif x >= 400000:\n",
    "        return '03_hiprice'\n",
    "    else:\n",
    "        return '99_missing'\n",
    "\n",
    "tmp = pd_reserve_tb\n",
    "\n",
    "tmp['price_category'] = tmp['total_price'].apply(func)\n",
    "\n",
    "tmp.groupby('price_category').agg({'reserve_id':'count'})"
   ]
  },
  {
   "cell_type": "markdown",
   "metadata": {
    "id": "BEr39qQARabu"
   },
   "source": [
    "# 値の置換"
   ]
  },
  {
   "cell_type": "markdown",
   "metadata": {
    "id": "d_WTHxn26_MJ"
   },
   "source": [
    "## polars"
   ]
  },
  {
   "cell_type": "code",
   "execution_count": 48,
   "metadata": {
    "id": "OnSKzTsxUJKm",
    "tags": []
   },
   "outputs": [],
   "source": [
    "def replace(column: str, mapping: dict):\n",
    "    \"\"\"\n",
    "    Create a polars expression that replaces a columns values.\n",
    "\n",
    "    Parameters\n",
    "    ----------\n",
    "    column : str\n",
    "        Column name on which values should be replaced.\n",
    "    mapping : dict\n",
    "        Can be used to specify different replacement values for different existing values. For example,\n",
    "        ``{'a': 'b', 'y': 'z'}`` replaces the value ‘a’ with ‘b’ and ‘y’ with ‘z’. Values not mentioned in ``mapping``\n",
    "        will stay the same.\n",
    "\n",
    "    Returns\n",
    "    -------\n",
    "    pl.internals.expr.Expr\n",
    "        Expression that contains instructions to replace values in ``column`` according to ``mapping``.\n",
    "\n",
    "    Raises\n",
    "    ------\n",
    "    Exception\n",
    "        * If ``mapping`` is empty.\n",
    "    TypeError\n",
    "        * If ``column`` is not ``str``.\n",
    "        * If ``mapping`` is not ``dict``.\n",
    "    polars.exceptions.PanicException\n",
    "        * When ``mapping`` has keys or values that are not mappable to arrows format. Only catchable via BaseException.\n",
    "          See also https://pola-rs.github.io/polars-book/user-guide/datatypes.html.\n",
    "\n",
    "    Examples\n",
    "    --------\n",
    "    >>> import polars as pl\n",
    "    >>> df = pl.DataFrame({'fruit':['banana', 'apple', 'pie']})\n",
    "    >>> df\n",
    "    shape: (3, 1)\n",
    "    ┌────────┐\n",
    "    │ fruit  │\n",
    "    │ ---    │\n",
    "    │ str    │\n",
    "    ╞════════╡\n",
    "    │ banana │\n",
    "    ├╌╌╌╌╌╌╌╌┤\n",
    "    │ apple  │\n",
    "    ├╌╌╌╌╌╌╌╌┤\n",
    "    │ apple  │\n",
    "    └────────┘\n",
    "    >>> df.with_column(replace(column='fruit', mapping={'apple': 'pomegranate'}))\n",
    "    shape: (3, 1)\n",
    "    ┌─────────────┐\n",
    "    │ fruit       │\n",
    "    │ ---         │\n",
    "    │ str         │\n",
    "    ╞═════════════╡\n",
    "    │ banana      │\n",
    "    ├╌╌╌╌╌╌╌╌╌╌╌╌╌┤\n",
    "    │ pomegranate │\n",
    "    ├╌╌╌╌╌╌╌╌╌╌╌╌╌┤\n",
    "    │ pomegranate │\n",
    "    └─────────────┘\n",
    "\n",
    "    \"\"\"\n",
    "    if not mapping:\n",
    "        raise Exception(\"Mapping can't be empty\")\n",
    "    elif not isinstance(mapping, dict):\n",
    "        TypeError(f\"mapping must be of type dict, but is type: {type(mapping)}\")\n",
    "    if not isinstance(column, str):\n",
    "        raise TypeError(f\"column must be of type str, but is type: {type(column)}\")\n",
    "\n",
    "    branch = pl.when(pl.col(column) == list(mapping.keys())[0]).then(\n",
    "        list(mapping.values())[0]\n",
    "    )\n",
    "\n",
    "    for from_value, to_value in mapping.items():\n",
    "        branch = branch.when(pl.col(column) == from_value).then(to_value)\n",
    "\n",
    "    return branch.otherwise(pl.col(column)).alias(column)"
   ]
  },
  {
   "cell_type": "code",
   "execution_count": 49,
   "metadata": {
    "colab": {
     "base_uri": "https://localhost:8080/",
     "height": 162
    },
    "id": "ezdkclBmTF-4",
    "outputId": "9220ce92-5841-4c2a-d2e6-9653b486091f",
    "tags": []
   },
   "outputs": [
    {
     "name": "stdout",
     "output_type": "stream",
     "text": [
      "CPU times: user 0 ns, sys: 19 ms, total: 19 ms\n",
      "Wall time: 8.34 ms\n"
     ]
    },
    {
     "name": "stderr",
     "output_type": "stream",
     "text": [
      "/tmp/ipykernel_529/2392303910.py:69: DeprecationWarning: in a future version, string input will be parsed as a column name rather than a string literal. To silence this warning, pass the input as an expression instead: `pl.lit('01_男性')`\n",
      "  branch = pl.when(pl.col(column) == list(mapping.keys())[0]).then(\n",
      "/tmp/ipykernel_529/2392303910.py:74: DeprecationWarning: in a future version, string input will be parsed as a column name rather than a string literal. To silence this warning, pass the input as an expression instead: `pl.lit('01_男性')`\n",
      "  branch = branch.when(pl.col(column) == from_value).then(to_value)\n",
      "/tmp/ipykernel_529/2392303910.py:74: DeprecationWarning: in a future version, string input will be parsed as a column name rather than a string literal. To silence this warning, pass the input as an expression instead: `pl.lit('02_女性')`\n",
      "  branch = branch.when(pl.col(column) == from_value).then(to_value)\n",
      "<timed exec>:6: DeprecationWarning: `groupby` is deprecated. It has been renamed to `group_by`.\n"
     ]
    },
    {
     "data": {
      "text/html": [
       "<div><style>\n",
       ".dataframe > thead > tr > th,\n",
       ".dataframe > tbody > tr > td {\n",
       "  text-align: right;\n",
       "  white-space: pre-wrap;\n",
       "}\n",
       "</style>\n",
       "<small>shape: (2, 2)</small><table border=\"1\" class=\"dataframe\"><thead><tr><th>sex_rename</th><th>count</th></tr><tr><td>str</td><td>u32</td></tr></thead><tbody><tr><td>&quot;01_男性&quot;</td><td>518</td></tr><tr><td>&quot;02_女性&quot;</td><td>482</td></tr></tbody></table></div>"
      ],
      "text/plain": [
       "shape: (2, 2)\n",
       "┌────────────┬───────┐\n",
       "│ sex_rename ┆ count │\n",
       "│ ---        ┆ ---   │\n",
       "│ str        ┆ u32   │\n",
       "╞════════════╪═══════╡\n",
       "│ 01_男性    ┆ 518   │\n",
       "│ 02_女性    ┆ 482   │\n",
       "└────────────┴───────┘"
      ]
     },
     "execution_count": 49,
     "metadata": {},
     "output_type": "execute_result"
    }
   ],
   "source": [
    "%%time\n",
    "\n",
    "tmp_dict = {'man':'01_男性','woman':'02_女性'}\n",
    "\n",
    "tmp = pl_customer_tb\n",
    "tmp = tmp.with_columns(replace(column='sex', mapping=tmp_dict).alias('sex_rename'))\n",
    "\n",
    "tmp.groupby('sex_rename').count()"
   ]
  },
  {
   "cell_type": "markdown",
   "metadata": {
    "id": "v9BqKaFg6_MJ"
   },
   "source": [
    "## pandas"
   ]
  },
  {
   "cell_type": "code",
   "execution_count": 50,
   "metadata": {
    "colab": {
     "base_uri": "https://localhost:8080/",
     "height": 179
    },
    "id": "vMit6eSWRWo4",
    "outputId": "16a442d5-8542-49c1-ebec-27ea33e49b09",
    "tags": []
   },
   "outputs": [
    {
     "name": "stdout",
     "output_type": "stream",
     "text": [
      "CPU times: user 5.87 ms, sys: 1.26 ms, total: 7.12 ms\n",
      "Wall time: 5.94 ms\n"
     ]
    },
    {
     "data": {
      "text/html": [
       "<div>\n",
       "<style scoped>\n",
       "    .dataframe tbody tr th:only-of-type {\n",
       "        vertical-align: middle;\n",
       "    }\n",
       "\n",
       "    .dataframe tbody tr th {\n",
       "        vertical-align: top;\n",
       "    }\n",
       "\n",
       "    .dataframe thead th {\n",
       "        text-align: right;\n",
       "    }\n",
       "</style>\n",
       "<table border=\"1\" class=\"dataframe\">\n",
       "  <thead>\n",
       "    <tr style=\"text-align: right;\">\n",
       "      <th></th>\n",
       "      <th>customer_id</th>\n",
       "    </tr>\n",
       "    <tr>\n",
       "      <th>sex_rename</th>\n",
       "      <th></th>\n",
       "    </tr>\n",
       "  </thead>\n",
       "  <tbody>\n",
       "    <tr>\n",
       "      <th>01_男性</th>\n",
       "      <td>518</td>\n",
       "    </tr>\n",
       "    <tr>\n",
       "      <th>02_女性</th>\n",
       "      <td>482</td>\n",
       "    </tr>\n",
       "  </tbody>\n",
       "</table>\n",
       "</div>"
      ],
      "text/plain": [
       "            customer_id\n",
       "sex_rename             \n",
       "01_男性               518\n",
       "02_女性               482"
      ]
     },
     "execution_count": 50,
     "metadata": {},
     "output_type": "execute_result"
    }
   ],
   "source": [
    "%%time\n",
    "\n",
    "tmp_dict = {'man':'01_男性','woman':'02_女性'}\n",
    "\n",
    "tmp = pd_customer_tb\n",
    "tmp['sex_rename'] = tmp['sex'].replace(tmp_dict)\n",
    "\n",
    "tmp.groupby('sex_rename').agg({'customer_id':'count'})"
   ]
  },
  {
   "cell_type": "markdown",
   "metadata": {
    "id": "7_aiNPmaBpYd"
   },
   "source": [
    "# 日時データの取り扱い"
   ]
  },
  {
   "cell_type": "markdown",
   "metadata": {
    "id": "k3uKrVegFXh5"
   },
   "source": [
    "## polars"
   ]
  },
  {
   "cell_type": "code",
   "execution_count": 51,
   "metadata": {
    "colab": {
     "base_uri": "https://localhost:8080/"
    },
    "id": "AZaLPxanwszT",
    "outputId": "32395b78-71db-4c99-d9cb-fc3ef73683cc",
    "tags": []
   },
   "outputs": [
    {
     "name": "stdout",
     "output_type": "stream",
     "text": [
      "reserve date： \n",
      "shape: (4_030,)\n",
      "Series: 'reserve_datetime' [str]\n",
      "[\n",
      "\t\"2016-03-06\"\n",
      "\t\"2016-07-16\"\n",
      "\t\"2016-09-24\"\n",
      "\t\"2017-03-08\"\n",
      "\t\"2017-09-05\"\n",
      "\t\"2017-11-27\"\n",
      "\t\"2017-12-29\"\n",
      "\t\"2018-05-26\"\n",
      "\t\"2016-03-05\"\n",
      "\t\"2016-06-25\"\n",
      "\t\"2016-11-19\"\n",
      "\t\"2017-05-24\"\n",
      "\t…\n",
      "\t\"2017-08-20\"\n",
      "\t\"2017-12-10\"\n",
      "\t\"2018-04-22\"\n",
      "\t\"2016-01-08\"\n",
      "\t\"2016-05-13\"\n",
      "\t\"2016-04-21\"\n",
      "\t\"2016-10-06\"\n",
      "\t\"2017-03-11\"\n",
      "\t\"2017-06-27\"\n",
      "\t\"2017-09-29\"\n",
      "\t\"2018-03-14\"\n",
      "\t\"2016-04-16\"\n",
      "\t\"2016-06-06\"\n",
      "]\n",
      "====================\n",
      "checkin date： \n",
      "shape: (4_030,)\n",
      "Series: 'checkin_date' [str]\n",
      "[\n",
      "\t\"2016-03-26\"\n",
      "\t\"2016-07-20\"\n",
      "\t\"2016-10-19\"\n",
      "\t\"2017-03-29\"\n",
      "\t\"2017-09-22\"\n",
      "\t\"2017-12-04\"\n",
      "\t\"2018-01-25\"\n",
      "\t\"2018-06-08\"\n",
      "\t\"2016-03-25\"\n",
      "\t\"2016-07-14\"\n",
      "\t\"2016-12-08\"\n",
      "\t\"2017-06-20\"\n",
      "\t…\n",
      "\t\"2017-09-06\"\n",
      "\t\"2017-12-20\"\n",
      "\t\"2018-05-21\"\n",
      "\t\"2016-01-09\"\n",
      "\t\"2016-06-06\"\n",
      "\t\"2016-04-22\"\n",
      "\t\"2016-10-07\"\n",
      "\t\"2017-03-27\"\n",
      "\t\"2017-07-10\"\n",
      "\t\"2017-10-09\"\n",
      "\t\"2018-04-02\"\n",
      "\t\"2016-05-10\"\n",
      "\t\"2016-07-06\"\n",
      "]\n",
      "====================\n"
     ]
    }
   ],
   "source": [
    "# 日時型、日付型への変換\n",
    "\n",
    "# to_datetime関数で、datetime64[ns]型に変換\n",
    "pl_reserve_tb.get_column('reserve_datetime').str.strptime(pl.Datetime, format='%Y-%m-%d %H:%M:%S')\n",
    "(pl_reserve_tb['checkin_date'] +' '+ pl_reserve_tb['checkin_time']).str.strptime(pl.Datetime, format='%Y-%m-%d %H:%M:%S')\n",
    "\n",
    "# datetime64[ns]型から日次情報を取得\n",
    "\n",
    "print('reserve date： ')\n",
    "print(pl_reserve_tb.get_column('reserve_datetime').str.strptime(pl.Datetime, format='%Y-%m-%d %H:%M:%S').dt.strftime('%Y-%m-%d'))\n",
    "print('='*20)\n",
    "\n",
    "print('checkin date： ')\n",
    "print((pl_reserve_tb['checkin_date'] +' '+ pl_reserve_tb['checkin_time']).str.strptime(pl.Datetime,format='%Y-%m-%d %H:%M:%S').dt.strftime('%Y-%m-%d'))\n",
    "print('='*20)"
   ]
  },
  {
   "cell_type": "code",
   "execution_count": 52,
   "metadata": {
    "colab": {
     "base_uri": "https://localhost:8080/"
    },
    "id": "rP2jQJVH1TNZ",
    "outputId": "b555d9f7-c9b9-46a4-f2b5-08464356ed0a",
    "tags": []
   },
   "outputs": [
    {
     "name": "stdout",
     "output_type": "stream",
     "text": [
      "年： \n",
      "shape: (4_030, 1)\n",
      "┌──────┐\n",
      "│ y    │\n",
      "│ ---  │\n",
      "│ i32  │\n",
      "╞══════╡\n",
      "│ 2016 │\n",
      "│ 2016 │\n",
      "│ 2016 │\n",
      "│ 2017 │\n",
      "│ …    │\n",
      "│ 2017 │\n",
      "│ 2018 │\n",
      "│ 2016 │\n",
      "│ 2016 │\n",
      "└──────┘\n",
      "====================\n",
      "月： \n",
      "shape: (4_030,)\n",
      "Series: 'reserve_datetime' [u32]\n",
      "[\n",
      "\t3\n",
      "\t7\n",
      "\t9\n",
      "\t3\n",
      "\t9\n",
      "\t11\n",
      "\t12\n",
      "\t5\n",
      "\t3\n",
      "\t6\n",
      "\t11\n",
      "\t5\n",
      "\t…\n",
      "\t8\n",
      "\t12\n",
      "\t4\n",
      "\t1\n",
      "\t5\n",
      "\t4\n",
      "\t10\n",
      "\t3\n",
      "\t6\n",
      "\t9\n",
      "\t3\n",
      "\t4\n",
      "\t6\n",
      "]\n",
      "====================\n",
      "日： \n",
      "shape: (4_030,)\n",
      "Series: 'reserve_datetime' [u32]\n",
      "[\n",
      "\t6\n",
      "\t16\n",
      "\t24\n",
      "\t8\n",
      "\t5\n",
      "\t27\n",
      "\t29\n",
      "\t26\n",
      "\t5\n",
      "\t25\n",
      "\t19\n",
      "\t24\n",
      "\t…\n",
      "\t20\n",
      "\t10\n",
      "\t22\n",
      "\t8\n",
      "\t13\n",
      "\t21\n",
      "\t6\n",
      "\t11\n",
      "\t27\n",
      "\t29\n",
      "\t14\n",
      "\t16\n",
      "\t6\n",
      "]\n",
      "====================\n",
      "時刻： \n",
      "shape: (4_030,)\n",
      "Series: 'reserve_datetime' [u32]\n",
      "[\n",
      "\t13\n",
      "\t23\n",
      "\t10\n",
      "\t3\n",
      "\t19\n",
      "\t18\n",
      "\t10\n",
      "\t8\n",
      "\t13\n",
      "\t9\n",
      "\t12\n",
      "\t10\n",
      "\t…\n",
      "\t17\n",
      "\t19\n",
      "\t20\n",
      "\t20\n",
      "\t9\n",
      "\t21\n",
      "\t18\n",
      "\t11\n",
      "\t23\n",
      "\t5\n",
      "\t5\n",
      "\t15\n",
      "\t8\n",
      "]\n",
      "====================\n",
      "時刻の分： \n",
      "shape: (4_030,)\n",
      "Series: 'reserve_datetime' [u32]\n",
      "[\n",
      "\t9\n",
      "\t39\n",
      "\t3\n",
      "\t20\n",
      "\t50\n",
      "\t47\n",
      "\t38\n",
      "\t42\n",
      "\t31\n",
      "\t12\n",
      "\t49\n",
      "\t6\n",
      "\t…\n",
      "\t56\n",
      "\t39\n",
      "\t41\n",
      "\t30\n",
      "\t8\n",
      "\t50\n",
      "\t1\n",
      "\t56\n",
      "\t0\n",
      "\t24\n",
      "\t1\n",
      "\t20\n",
      "\t16\n",
      "]\n",
      "====================\n",
      "時刻の秒： \n",
      "shape: (4_030,)\n",
      "Series: 'reserve_datetime' [u32]\n",
      "[\n",
      "\t42\n",
      "\t55\n",
      "\t17\n",
      "\t10\n",
      "\t37\n",
      "\t5\n",
      "\t36\n",
      "\t51\n",
      "\t6\n",
      "\t22\n",
      "\t10\n",
      "\t21\n",
      "\t…\n",
      "\t37\n",
      "\t53\n",
      "\t29\n",
      "\t10\n",
      "\t55\n",
      "\t14\n",
      "\t34\n",
      "\t5\n",
      "\t2\n",
      "\t57\n",
      "\t45\n",
      "\t17\n",
      "\t51\n",
      "]\n",
      "====================\n",
      "指定のフォーマットに文字変換後： \n",
      "shape: (4_030,)\n",
      "Series: 'reserve_datetime' [str]\n",
      "[\n",
      "\t\"2016/3/6\"\n",
      "\t\"2016/7/16\"\n",
      "\t\"2016/9/24\"\n",
      "\t\"2017/3/8\"\n",
      "\t\"2017/9/5\"\n",
      "\t\"2017/11/27\"\n",
      "\t\"2017/12/29\"\n",
      "\t\"2018/5/26\"\n",
      "\t\"2016/3/5\"\n",
      "\t\"2016/6/25\"\n",
      "\t\"2016/11/19\"\n",
      "\t\"2017/5/24\"\n",
      "\t…\n",
      "\t\"2017/8/20\"\n",
      "\t\"2017/12/10\"\n",
      "\t\"2018/4/22\"\n",
      "\t\"2016/1/8\"\n",
      "\t\"2016/5/13\"\n",
      "\t\"2016/4/21\"\n",
      "\t\"2016/10/6\"\n",
      "\t\"2017/3/11\"\n",
      "\t\"2017/6/27\"\n",
      "\t\"2017/9/29\"\n",
      "\t\"2018/3/14\"\n",
      "\t\"2016/4/16\"\n",
      "\t\"2016/6/6\"\n",
      "]\n",
      "====================\n"
     ]
    }
   ],
   "source": [
    "# 年/月/日/時刻/分/秒/曜日への変換\n",
    "\n",
    "tmp = pl_reserve_tb\n",
    "\n",
    "# reserve_datetimeをdatetime64[ns]型に変換\n",
    "tmp = tmp.with_columns(pl.col('reserve_datetime').str.strptime(pl.Datetime, format='%Y-%m-%d %H:%M:%S'))\n",
    "\n",
    "# 年を取得\n",
    "print('年： ')\n",
    "# print(tmp.get_column('reserve_datetime').dt.year())\n",
    "print(tmp.with_columns(pl.col('reserve_datetime').dt.year().alias('y')).select('y'))\n",
    "print('='*20)\n",
    "\n",
    "# 月を取得\n",
    "print('月： ')\n",
    "print(tmp.get_column('reserve_datetime').dt.month())\n",
    "print('='*20)\n",
    "\n",
    "# 日を取得\n",
    "print('日： ')\n",
    "print(tmp.get_column('reserve_datetime').dt.day())\n",
    "print('='*20)\n",
    "\n",
    "# # 曜日（0=日曜日、1＝月曜日）を数値で取得\n",
    "# print('曜日： ')\n",
    "# tmp_dict = {0:'月曜',1:'火曜',2:'水曜',3:'木曜',4:'金曜',5:'土曜',6:'日曜'}\n",
    "# print(tmp['reserve_datetime'].dt.dayofweek.replace(tmp_dict))\n",
    "# print('='*20)\n",
    "\n",
    "# 時刻の時を取得\n",
    "print('時刻： ')\n",
    "print(tmp.get_column('reserve_datetime').dt.hour())\n",
    "print('='*20)\n",
    "\n",
    "# 時刻の分を取得\n",
    "print('時刻の分： ')\n",
    "print(tmp.get_column('reserve_datetime').dt.minute())\n",
    "print('='*20)\n",
    "\n",
    "# 時刻の秒を取得\n",
    "print('時刻の秒： ')\n",
    "print(tmp.get_column('reserve_datetime').dt.second())\n",
    "print('='*20)\n",
    "\n",
    "# 指定したフォーマットの文字列に変換\n",
    "print('指定のフォーマットに文字変換後： ')\n",
    "print(tmp.get_column('reserve_datetime').dt.strftime('%Y/%-m/%-d'))\n",
    "print('='*20)"
   ]
  },
  {
   "cell_type": "code",
   "execution_count": 53,
   "metadata": {
    "colab": {
     "base_uri": "https://localhost:8080/",
     "height": 1000
    },
    "id": "eg1m-mW61TJ8",
    "outputId": "72300d19-762c-4946-9b56-ece54752c58d",
    "tags": []
   },
   "outputs": [
    {
     "name": "stdout",
     "output_type": "stream",
     "text": [
      "年の差分を計算（月以下の日時要素は考慮しない）： \n",
      "shape: (4_030,)\n",
      "Series: 'reserve_datetime' [i32]\n",
      "[\n",
      "\t0\n",
      "\t0\n",
      "\t0\n",
      "\t0\n",
      "\t0\n",
      "\t0\n",
      "\t-1\n",
      "\t0\n",
      "\t0\n",
      "\t0\n",
      "\t0\n",
      "\t0\n",
      "\t…\n",
      "\t0\n",
      "\t0\n",
      "\t0\n",
      "\t0\n",
      "\t0\n",
      "\t0\n",
      "\t0\n",
      "\t0\n",
      "\t0\n",
      "\t0\n",
      "\t0\n",
      "\t0\n",
      "\t0\n",
      "]\n",
      "====================\n",
      "月の差分を取得（日以下の日時要素は考慮しない）： \n",
      "shape: (4_030,)\n",
      "Series: 'reserve_datetime' [i64]\n",
      "[\n",
      "\t0\n",
      "\t0\n",
      "\t-1\n",
      "\t0\n",
      "\t0\n",
      "\t-1\n",
      "\t-1\n",
      "\t-1\n",
      "\t0\n",
      "\t-1\n",
      "\t-1\n",
      "\t-1\n",
      "\t…\n",
      "\t-1\n",
      "\t0\n",
      "\t-1\n",
      "\t0\n",
      "\t-1\n",
      "\t0\n",
      "\t0\n",
      "\t0\n",
      "\t-1\n",
      "\t-1\n",
      "\t-1\n",
      "\t-1\n",
      "\t-1\n",
      "]\n",
      "====================\n"
     ]
    },
    {
     "data": {
      "text/plain": [
       "\"\\n<工事中>\\n\\n# 日単位で差分を計算\\nprint('日単位で差分を計算： ')\\nprint((tmp['reserve_datetime'] - tmp['checkin_datetime']))\\nprint('='*20)\\n\\n# # 時単位で差分を計算\\n# print('時単位で差分を計算： ')\\n# print((tmp['reserve_datetime'] - tmp['checkin_datetime']).astype('timedelta64[h]'))\\n# print('='*20)\\n\\n# # 分単位で差分を計算\\n# print('分単位で差分を計算： ')\\n# print((tmp['reserve_datetime'] - tmp['checkin_datetime']).astype('timedelta64[m]'))\\n# print('='*20)\\n\\n# # 秒単位で差分を計算\\n# print('秒単位で差分を計算： ')\\n# print((tmp['reserve_datetime'] - tmp['checkin_datetime']).astype('timedelta64[s]'))\\n# print('='*20)\\n\\n\""
      ]
     },
     "execution_count": 53,
     "metadata": {},
     "output_type": "execute_result"
    }
   ],
   "source": [
    "# 日時差を取得\n",
    "\n",
    "tmp = pl_reserve_tb\n",
    "\n",
    "# reserve_datetimeをdatetime64[ns]型に変換\n",
    "tmp = tmp.with_columns(pl.col('reserve_datetime').str.strptime(pl.Datetime, format='%Y-%m-%d %H:%M:%S'))\n",
    "\n",
    "# checkin_datetimeをdatetime64[ns]型に変換\n",
    "tmp = tmp.with_columns((pl_reserve_tb['checkin_date'] +' '+ pl_reserve_tb['checkin_time']).str.strptime(pl.Datetime, format='%Y-%m-%d %H:%M:%S').alias('checkin_datetime'))\n",
    "\n",
    "# 年の差分を計算（月以下の日時要素は考慮しない）\n",
    "print('年の差分を計算（月以下の日時要素は考慮しない）： ')\n",
    "print(tmp['reserve_datetime'].dt.year() - tmp['checkin_datetime'].dt.year())\n",
    "print('='*20)\n",
    "\n",
    "# # 月の差分を取得（日以下の日時要素は考慮しない）\n",
    "print('月の差分を取得（日以下の日時要素は考慮しない）： ')\n",
    "print((tmp['reserve_datetime'].dt.year() * 12 +tmp['reserve_datetime'].dt.month()) - (tmp['checkin_datetime'].dt.year() * 12 +tmp['checkin_datetime'].dt.month()))\n",
    "print('='*20)\n",
    "\n",
    "\"\"\"\n",
    "<工事中>\n",
    "\n",
    "# 日単位で差分を計算\n",
    "print('日単位で差分を計算： ')\n",
    "print((tmp['reserve_datetime'] - tmp['checkin_datetime']))\n",
    "print('='*20)\n",
    "\n",
    "# # 時単位で差分を計算\n",
    "# print('時単位で差分を計算： ')\n",
    "# print((tmp['reserve_datetime'] - tmp['checkin_datetime']).astype('timedelta64[h]'))\n",
    "# print('='*20)\n",
    "\n",
    "# # 分単位で差分を計算\n",
    "# print('分単位で差分を計算： ')\n",
    "# print((tmp['reserve_datetime'] - tmp['checkin_datetime']).astype('timedelta64[m]'))\n",
    "# print('='*20)\n",
    "\n",
    "# # 秒単位で差分を計算\n",
    "# print('秒単位で差分を計算： ')\n",
    "# print((tmp['reserve_datetime'] - tmp['checkin_datetime']).astype('timedelta64[s]'))\n",
    "# print('='*20)\n",
    "\n",
    "\"\"\""
   ]
  },
  {
   "cell_type": "code",
   "execution_count": 54,
   "metadata": {
    "colab": {
     "base_uri": "https://localhost:8080/",
     "height": 54
    },
    "id": "nf9uy2J_1THM",
    "outputId": "00f0de99-0de4-46fe-f331-85b27390ab8a",
    "tags": []
   },
   "outputs": [
    {
     "data": {
      "text/plain": [
       "\"\\n<工事中>\\n\\nimport datetime\\nfrom dateutil.relativedelta import relativedelta\\n\\n# 日時型の増減\\n\\ntmp = pd_reserve_tb\\n\\n# reserve_datetimeをdatetime64[ns]型に変換\\ntmp['reserve_datetime'] = pd.to_datetime(tmp['reserve_datetime'], format='%Y-%m-%d %H:%M:%S')\\n\\n# 日時を加算(+1m20day)\\n(tmp['reserve_datetime'].map(lambda x: x + relativedelta(months=1)) + datetime.timedelta(days=20)).dt.date\""
      ]
     },
     "execution_count": 54,
     "metadata": {},
     "output_type": "execute_result"
    }
   ],
   "source": [
    "\"\"\"\n",
    "<工事中>\n",
    "\n",
    "import datetime\n",
    "from dateutil.relativedelta import relativedelta\n",
    "\n",
    "# 日時型の増減\n",
    "\n",
    "tmp = pd_reserve_tb\n",
    "\n",
    "# reserve_datetimeをdatetime64[ns]型に変換\n",
    "tmp['reserve_datetime'] = pd.to_datetime(tmp['reserve_datetime'], format='%Y-%m-%d %H:%M:%S')\n",
    "\n",
    "# 日時を加算(+1m20day)\n",
    "(tmp['reserve_datetime'].map(lambda x: x + relativedelta(months=1)) + datetime.timedelta(days=20)).dt.date\"\"\""
   ]
  },
  {
   "cell_type": "markdown",
   "metadata": {
    "id": "PnhkKFwwFXh5"
   },
   "source": [
    "## pandas"
   ]
  },
  {
   "cell_type": "markdown",
   "metadata": {
    "id": "zFG49fBvjVz8"
   },
   "source": [
    "\n",
    "\n",
    "*   pandasにはdatetime64[ns]型とdatetime64[D]型がある（[xx]のxxは扱う最小単位を表す）\n",
    "*   日時要素を取り出すときはdatetime64[ns]型に変換後に日次要素を取得する方が便利"
   ]
  },
  {
   "cell_type": "code",
   "execution_count": 55,
   "metadata": {
    "colab": {
     "base_uri": "https://localhost:8080/"
    },
    "id": "UKJj7_f0h3Od",
    "outputId": "544e466f-fa47-4620-ded5-d3acf91c20cd",
    "tags": []
   },
   "outputs": [
    {
     "name": "stdout",
     "output_type": "stream",
     "text": [
      "reserve date： \n",
      "0       2016-03-06\n",
      "1       2016-07-16\n",
      "2       2016-09-24\n",
      "3       2017-03-08\n",
      "4       2017-09-05\n",
      "           ...    \n",
      "4025    2017-06-27\n",
      "4026    2017-09-29\n",
      "4027    2018-03-14\n",
      "4028    2016-04-16\n",
      "4029    2016-06-06\n",
      "Name: reserve_datetime, Length: 4030, dtype: object\n",
      "====================\n",
      "checkin date： \n",
      "0       2016-03-26\n",
      "1       2016-07-20\n",
      "2       2016-10-19\n",
      "3       2017-03-29\n",
      "4       2017-09-22\n",
      "           ...    \n",
      "4025    2017-07-10\n",
      "4026    2017-10-09\n",
      "4027    2018-04-02\n",
      "4028    2016-05-10\n",
      "4029    2016-07-06\n",
      "Length: 4030, dtype: object\n",
      "====================\n"
     ]
    }
   ],
   "source": [
    "# 日時型、日付型への変換\n",
    "\n",
    "# to_datetime関数で、datetime64[ns]型に変換\n",
    "pd.to_datetime(pd_reserve_tb['reserve_datetime'], format='%Y-%m-%d %H:%M:%S')\n",
    "pd.to_datetime(pd_reserve_tb['checkin_date'] +' '+ pd_reserve_tb['checkin_time'], format='%Y-%m-%d %H:%M:%S')\n",
    "\n",
    "# datetime64[ns]型から日次情報を取得\n",
    "\n",
    "print('reserve date： ')\n",
    "print(pd.to_datetime(pd_reserve_tb['reserve_datetime'],\n",
    "               format='%Y-%m-%d %H:%M:%S').dt.date)\n",
    "print('='*20)\n",
    "\n",
    "print('checkin date： ')\n",
    "print(pd.to_datetime(pd_reserve_tb['checkin_date'] +' '+ pd_reserve_tb['checkin_time'], format='%Y-%m-%d %H:%M:%S').dt.date)\n",
    "print('='*20)"
   ]
  },
  {
   "cell_type": "markdown",
   "metadata": {
    "id": "yQtWS-hqrdy1"
   },
   "source": [
    "\n",
    "\n",
    "*   上記のフォーマット文字で二桁表示のところは全て律儀に、左側ゼロ埋めで二桁で表示されます。例えば 4月を表す場合に %m とすると 04 となります。\n",
    "*    もし 04 ではなく 4 としたい場合は、%-m のようにハイフンを付けます。\n",
    "*    https://python.keicode.com/lang/format-datetime.php\n",
    "\n"
   ]
  },
  {
   "cell_type": "code",
   "execution_count": 56,
   "metadata": {
    "colab": {
     "base_uri": "https://localhost:8080/"
    },
    "id": "Qcs3HLI7mTbZ",
    "outputId": "7df97100-7d9a-421e-bacc-ca575319ae1c",
    "tags": []
   },
   "outputs": [
    {
     "name": "stdout",
     "output_type": "stream",
     "text": [
      "年： \n",
      "0       2016\n",
      "1       2016\n",
      "2       2016\n",
      "3       2017\n",
      "4       2017\n",
      "        ... \n",
      "4025    2017\n",
      "4026    2017\n",
      "4027    2018\n",
      "4028    2016\n",
      "4029    2016\n",
      "Name: reserve_datetime, Length: 4030, dtype: int32\n",
      "====================\n",
      "月： \n",
      "0       3\n",
      "1       7\n",
      "2       9\n",
      "3       3\n",
      "4       9\n",
      "       ..\n",
      "4025    6\n",
      "4026    9\n",
      "4027    3\n",
      "4028    4\n",
      "4029    6\n",
      "Name: reserve_datetime, Length: 4030, dtype: int32\n",
      "====================\n",
      "日： \n",
      "0        6\n",
      "1       16\n",
      "2       24\n",
      "3        8\n",
      "4        5\n",
      "        ..\n",
      "4025    27\n",
      "4026    29\n",
      "4027    14\n",
      "4028    16\n",
      "4029     6\n",
      "Name: reserve_datetime, Length: 4030, dtype: int32\n",
      "====================\n",
      "曜日： \n",
      "0       日曜\n",
      "1       土曜\n",
      "2       土曜\n",
      "3       水曜\n",
      "4       火曜\n",
      "        ..\n",
      "4025    火曜\n",
      "4026    金曜\n",
      "4027    水曜\n",
      "4028    土曜\n",
      "4029    月曜\n",
      "Name: reserve_datetime, Length: 4030, dtype: object\n",
      "====================\n",
      "時刻： \n",
      "0       13\n",
      "1       23\n",
      "2       10\n",
      "3        3\n",
      "4       19\n",
      "        ..\n",
      "4025    23\n",
      "4026     5\n",
      "4027     5\n",
      "4028    15\n",
      "4029     8\n",
      "Name: reserve_datetime, Length: 4030, dtype: int32\n",
      "====================\n",
      "時刻の分： \n",
      "0        9\n",
      "1       39\n",
      "2        3\n",
      "3       20\n",
      "4       50\n",
      "        ..\n",
      "4025     0\n",
      "4026    24\n",
      "4027     1\n",
      "4028    20\n",
      "4029    16\n",
      "Name: reserve_datetime, Length: 4030, dtype: int32\n",
      "====================\n",
      "時刻の秒： \n",
      "0       42\n",
      "1       55\n",
      "2       17\n",
      "3       10\n",
      "4       37\n",
      "        ..\n",
      "4025     2\n",
      "4026    57\n",
      "4027    45\n",
      "4028    17\n",
      "4029    51\n",
      "Name: reserve_datetime, Length: 4030, dtype: int32\n",
      "====================\n",
      "指定のフォーマットに文字変換後： \n",
      "0        2016/3/6\n",
      "1       2016/7/16\n",
      "2       2016/9/24\n",
      "3        2017/3/8\n",
      "4        2017/9/5\n",
      "          ...    \n",
      "4025    2017/6/27\n",
      "4026    2017/9/29\n",
      "4027    2018/3/14\n",
      "4028    2016/4/16\n",
      "4029     2016/6/6\n",
      "Name: reserve_datetime, Length: 4030, dtype: object\n",
      "====================\n"
     ]
    }
   ],
   "source": [
    "# 年/月/日/時刻/分/秒/曜日への変換\n",
    "\n",
    "tmp = pd_reserve_tb\n",
    "\n",
    "# reserve_datetimeをdatetime64[ns]型に変換\n",
    "tmp['reserve_datetime'] = pd.to_datetime(pd_reserve_tb['reserve_datetime'], format='%Y-%m-%d %H:%M:%S')\n",
    "\n",
    "# 年を取得\n",
    "print('年： ')\n",
    "print(tmp['reserve_datetime'].dt.year)\n",
    "print('='*20)\n",
    "\n",
    "# 月を取得\n",
    "print('月： ')\n",
    "print(tmp['reserve_datetime'].dt.month)\n",
    "print('='*20)\n",
    "\n",
    "# 日を取得\n",
    "print('日： ')\n",
    "print(tmp['reserve_datetime'].dt.day)\n",
    "print('='*20)\n",
    "\n",
    "# 曜日（0=日曜日、1＝月曜日）を数値で取得\n",
    "print('曜日： ')\n",
    "tmp_dict = {0:'月曜',1:'火曜',2:'水曜',3:'木曜',4:'金曜',5:'土曜',6:'日曜'}\n",
    "print(tmp['reserve_datetime'].dt.dayofweek.replace(tmp_dict))\n",
    "print('='*20)\n",
    "\n",
    "# 時刻の時を取得\n",
    "print('時刻： ')\n",
    "print(tmp['reserve_datetime'].dt.hour)\n",
    "print('='*20)\n",
    "\n",
    "# 時刻の分を取得\n",
    "print('時刻の分： ')\n",
    "print(tmp['reserve_datetime'].dt.minute)\n",
    "print('='*20)\n",
    "\n",
    "# 時刻の秒を取得\n",
    "print('時刻の秒： ')\n",
    "print(tmp['reserve_datetime'].dt.second)\n",
    "print('='*20)\n",
    "\n",
    "# 指定したフォーマットの文字列に変換\n",
    "print('指定のフォーマットに文字変換後： ')\n",
    "print(tmp['reserve_datetime'].dt.strftime('%Y/%-m/%-d'))\n",
    "print('='*20)"
   ]
  },
  {
   "cell_type": "code",
   "execution_count": 57,
   "metadata": {
    "colab": {
     "base_uri": "https://localhost:8080/"
    },
    "id": "aAB149sqf9MF",
    "outputId": "dbae5066-24db-4ec7-dec9-460879b965aa",
    "tags": []
   },
   "outputs": [
    {
     "name": "stdout",
     "output_type": "stream",
     "text": [
      "年の差分を計算（月以下の日時要素は考慮しない）： \n",
      "0       0\n",
      "1       0\n",
      "2       0\n",
      "3       0\n",
      "4       0\n",
      "       ..\n",
      "4025    0\n",
      "4026    0\n",
      "4027    0\n",
      "4028    0\n",
      "4029    0\n",
      "Length: 4030, dtype: int32\n",
      "====================\n",
      "月の差分を取得（日以下の日時要素は考慮しない）： \n",
      "0       0\n",
      "1       0\n",
      "2      -1\n",
      "3       0\n",
      "4       0\n",
      "       ..\n",
      "4025   -1\n",
      "4026   -1\n",
      "4027   -1\n",
      "4028   -1\n",
      "4029   -1\n",
      "Length: 4030, dtype: int32\n",
      "====================\n",
      "日単位で差分を計算： \n",
      "0      -20\n",
      "1       -4\n",
      "2      -25\n",
      "3      -22\n",
      "4      -17\n",
      "        ..\n",
      "4025   -13\n",
      "4026   -11\n",
      "4027   -20\n",
      "4028   -24\n",
      "4029   -31\n",
      "Length: 4030, dtype: int64\n",
      "====================\n"
     ]
    },
    {
     "data": {
      "text/plain": [
       "\"\\n<工事中>\\n# 時単位で差分を計算\\nprint('時単位で差分を計算： ')\\n# print((tmp['reserve_datetime'] - tmp['checkin_datetime']).astype('timedelta64[h]'))\\nprint((tmp['reserve_datetime'] - tmp['checkin_datetime']).dt.months)\\nprint('='*20)\\n\\n# 分単位で差分を計算\\nprint('分単位で差分を計算： ')\\nprint((tmp['reserve_datetime'] - tmp['checkin_datetime']).astype('timedelta64[m]'))\\nprint('='*20)\\n\\n# 秒単位で差分を計算\\nprint('秒単位で差分を計算： ')\\nprint((tmp['reserve_datetime'] - tmp['checkin_datetime']).astype('timedelta64[s]'))\\nprint('='*20)\\n\\n\""
      ]
     },
     "execution_count": 57,
     "metadata": {},
     "output_type": "execute_result"
    }
   ],
   "source": [
    "# 日時差を取得\n",
    "\n",
    "tmp = pd_reserve_tb\n",
    "\n",
    "# reserve_datetimeをdatetime64[ns]型に変換\n",
    "tmp['reserve_datetime'] = pd.to_datetime(tmp['reserve_datetime'], format='%Y-%m-%d %H:%M:%S')\n",
    "\n",
    "# checkin_datetimeをdatetime64[ns]型に変換\n",
    "tmp['checkin_datetime'] = pd.to_datetime(tmp['checkin_date'] +' '+ tmp['checkin_time'], format='%Y-%m-%d %H:%M:%S')\n",
    "\n",
    "# 年の差分を計算（月以下の日時要素は考慮しない）\n",
    "print('年の差分を計算（月以下の日時要素は考慮しない）： ')\n",
    "print(tmp['reserve_datetime'].dt.year - tmp['checkin_datetime'].dt.year)\n",
    "print('='*20)\n",
    "\n",
    "# 月の差分を取得（日以下の日時要素は考慮しない）\n",
    "print('月の差分を取得（日以下の日時要素は考慮しない）： ')\n",
    "print((tmp['reserve_datetime'].dt.year * 12 +tmp['reserve_datetime'].dt.month) - (tmp['checkin_datetime'].dt.year * 12 +tmp['checkin_datetime'].dt.month))\n",
    "print('='*20)\n",
    "\n",
    "# 日単位で差分を計算\n",
    "print('日単位で差分を計算： ')\n",
    "# print((tmp['reserve_datetime'] - tmp['checkin_datetime']).astype('timedelta64[D]'))\n",
    "print((tmp['reserve_datetime'] - tmp['checkin_datetime']).dt.days)\n",
    "print('='*20)\n",
    "\n",
    "\"\"\"\n",
    "<工事中>\n",
    "# 時単位で差分を計算\n",
    "print('時単位で差分を計算： ')\n",
    "# print((tmp['reserve_datetime'] - tmp['checkin_datetime']).astype('timedelta64[h]'))\n",
    "print((tmp['reserve_datetime'] - tmp['checkin_datetime']).dt.months)\n",
    "print('='*20)\n",
    "\n",
    "# 分単位で差分を計算\n",
    "print('分単位で差分を計算： ')\n",
    "print((tmp['reserve_datetime'] - tmp['checkin_datetime']).astype('timedelta64[m]'))\n",
    "print('='*20)\n",
    "\n",
    "# 秒単位で差分を計算\n",
    "print('秒単位で差分を計算： ')\n",
    "print((tmp['reserve_datetime'] - tmp['checkin_datetime']).astype('timedelta64[s]'))\n",
    "print('='*20)\n",
    "\n",
    "\"\"\""
   ]
  },
  {
   "cell_type": "code",
   "execution_count": 58,
   "metadata": {
    "colab": {
     "base_uri": "https://localhost:8080/"
    },
    "id": "YzwMdQQuhQ57",
    "outputId": "89349e3f-7b30-419f-a0ed-d5a2c5a714f9",
    "tags": []
   },
   "outputs": [
    {
     "data": {
      "text/plain": [
       "0       2016-04-26\n",
       "1       2016-09-05\n",
       "2       2016-11-13\n",
       "3       2017-04-28\n",
       "4       2017-10-25\n",
       "           ...    \n",
       "4025    2017-08-16\n",
       "4026    2017-11-18\n",
       "4027    2018-05-04\n",
       "4028    2016-06-05\n",
       "4029    2016-07-26\n",
       "Name: reserve_datetime, Length: 4030, dtype: object"
      ]
     },
     "execution_count": 58,
     "metadata": {},
     "output_type": "execute_result"
    }
   ],
   "source": [
    "import datetime\n",
    "from dateutil.relativedelta import relativedelta\n",
    "\n",
    "# 日時型の増減\n",
    "\n",
    "tmp = pd_reserve_tb\n",
    "\n",
    "# reserve_datetimeをdatetime64[ns]型に変換\n",
    "tmp['reserve_datetime'] = pd.to_datetime(tmp['reserve_datetime'], format='%Y-%m-%d %H:%M:%S')\n",
    "\n",
    "# 日時を加算(+1m20day)\n",
    "(tmp['reserve_datetime'].map(lambda x: x + relativedelta(months=1)) + datetime.timedelta(days=20)).dt.date"
   ]
  },
  {
   "cell_type": "markdown",
   "metadata": {
    "id": "b4jf_nfKRQeF"
   },
   "source": [
    "# pivot"
   ]
  },
  {
   "cell_type": "markdown",
   "metadata": {
    "id": "S-yGrf4jFXGq"
   },
   "source": [
    "## polars"
   ]
  },
  {
   "cell_type": "markdown",
   "metadata": {
    "id": "GIXU_WnK7RXz"
   },
   "source": [
    "*    DataFrame.pivot()でピボットテーブルを作成します。引数はvalue=・index=・columns=・aggregate_fn=の順に渡します。pandasのDataFrame.pivot_table()に相当します。\n",
    "*    なお、ピボットテーブルを戻す場合、（pandasでいう）.stack()は存在しませんが、.melt()が存在します。"
   ]
  },
  {
   "cell_type": "code",
   "execution_count": 59,
   "metadata": {
    "colab": {
     "base_uri": "https://localhost:8080/",
     "height": 149
    },
    "id": "lDdMkImW5deo",
    "outputId": "b4726bc5-450b-41ce-e50e-38b971910f5f",
    "tags": []
   },
   "outputs": [
    {
     "data": {
      "text/html": [
       "<div><style>\n",
       ".dataframe > thead > tr > th,\n",
       ".dataframe > tbody > tr > td {\n",
       "  text-align: right;\n",
       "  white-space: pre-wrap;\n",
       "}\n",
       "</style>\n",
       "<small>shape: (3, 5)</small><table border=\"1\" class=\"dataframe\"><thead><tr><th>customer_id</th><th>4</th><th>2</th><th>3</th><th>1</th></tr><tr><td>str</td><td>u32</td><td>u32</td><td>u32</td><td>u32</td></tr></thead><tbody><tr><td>&quot;c_1&quot;</td><td>2</td><td>2</td><td>2</td><td>2</td></tr><tr><td>&quot;c_2&quot;</td><td>3</td><td>2</td><td>1</td><td>2</td></tr><tr><td>&quot;c_3&quot;</td><td>2</td><td>2</td><td>2</td><td>2</td></tr></tbody></table></div>"
      ],
      "text/plain": [
       "shape: (3, 5)\n",
       "┌─────────────┬─────┬─────┬─────┬─────┐\n",
       "│ customer_id ┆ 4   ┆ 2   ┆ 3   ┆ 1   │\n",
       "│ ---         ┆ --- ┆ --- ┆ --- ┆ --- │\n",
       "│ str         ┆ u32 ┆ u32 ┆ u32 ┆ u32 │\n",
       "╞═════════════╪═════╪═════╪═════╪═════╡\n",
       "│ c_1         ┆ 2   ┆ 2   ┆ 2   ┆ 2   │\n",
       "│ c_2         ┆ 3   ┆ 2   ┆ 1   ┆ 2   │\n",
       "│ c_3         ┆ 2   ┆ 2   ┆ 2   ┆ 2   │\n",
       "└─────────────┴─────┴─────┴─────┴─────┘"
      ]
     },
     "execution_count": 59,
     "metadata": {},
     "output_type": "execute_result"
    }
   ],
   "source": [
    "# <工事中>\n",
    "\n",
    "# 顧客ID/宿泊人数毎に予約数をカウント\n",
    "pl_reserve_tb.pivot(index='customer_id', columns='people_num', \n",
    "                    values='reserve_id',\n",
    "                    aggregate_function='count'\n",
    "                    # aggregate_fn=lambda x: len(x)\n",
    "                    ).fill_null(0).head(3)"
   ]
  },
  {
   "cell_type": "markdown",
   "metadata": {
    "id": "cKpGfR03FXGq"
   },
   "source": [
    "## pandas"
   ]
  },
  {
   "cell_type": "code",
   "execution_count": 60,
   "metadata": {
    "colab": {
     "base_uri": "https://localhost:8080/",
     "height": 174
    },
    "id": "vYWcsJhB376X",
    "outputId": "20e857ed-dc65-466f-912e-92223c8bef5a",
    "tags": []
   },
   "outputs": [
    {
     "data": {
      "text/html": [
       "<div>\n",
       "<style scoped>\n",
       "    .dataframe tbody tr th:only-of-type {\n",
       "        vertical-align: middle;\n",
       "    }\n",
       "\n",
       "    .dataframe tbody tr th {\n",
       "        vertical-align: top;\n",
       "    }\n",
       "\n",
       "    .dataframe thead th {\n",
       "        text-align: right;\n",
       "    }\n",
       "</style>\n",
       "<table border=\"1\" class=\"dataframe\">\n",
       "  <thead>\n",
       "    <tr style=\"text-align: right;\">\n",
       "      <th>people_num</th>\n",
       "      <th>1</th>\n",
       "      <th>2</th>\n",
       "      <th>3</th>\n",
       "      <th>4</th>\n",
       "    </tr>\n",
       "    <tr>\n",
       "      <th>customer_id</th>\n",
       "      <th></th>\n",
       "      <th></th>\n",
       "      <th></th>\n",
       "      <th></th>\n",
       "    </tr>\n",
       "  </thead>\n",
       "  <tbody>\n",
       "    <tr>\n",
       "      <th>c_1</th>\n",
       "      <td>2</td>\n",
       "      <td>2</td>\n",
       "      <td>2</td>\n",
       "      <td>2</td>\n",
       "    </tr>\n",
       "    <tr>\n",
       "      <th>c_10</th>\n",
       "      <td>0</td>\n",
       "      <td>2</td>\n",
       "      <td>2</td>\n",
       "      <td>2</td>\n",
       "    </tr>\n",
       "    <tr>\n",
       "      <th>c_100</th>\n",
       "      <td>2</td>\n",
       "      <td>1</td>\n",
       "      <td>2</td>\n",
       "      <td>0</td>\n",
       "    </tr>\n",
       "  </tbody>\n",
       "</table>\n",
       "</div>"
      ],
      "text/plain": [
       "people_num   1  2  3  4\n",
       "customer_id            \n",
       "c_1          2  2  2  2\n",
       "c_10         0  2  2  2\n",
       "c_100        2  1  2  0"
      ]
     },
     "execution_count": 60,
     "metadata": {},
     "output_type": "execute_result"
    }
   ],
   "source": [
    "# 顧客ID/宿泊人数毎に予約数をカウント\n",
    "pd.pivot_table(pd_reserve_tb, index='customer_id', columns='people_num', \n",
    "               values='reserve_id',\n",
    "               aggfunc=lambda x: len(x), fill_value=0\n",
    "               ).head(3)"
   ]
  },
  {
   "cell_type": "markdown",
   "metadata": {
    "id": "vuIK38TimfQ5"
   },
   "source": [
    "# ランダムサンプリング"
   ]
  },
  {
   "cell_type": "markdown",
   "metadata": {
    "id": "CvJ2e9G5Zpou"
   },
   "source": [
    "## polars"
   ]
  },
  {
   "cell_type": "code",
   "execution_count": 61,
   "metadata": {
    "colab": {
     "base_uri": "https://localhost:8080/"
    },
    "id": "RnMvMc3xZrsn",
    "outputId": "f3e09e51-25b7-4bbc-d207-f9f416d572e0",
    "tags": []
   },
   "outputs": [
    {
     "name": "stdout",
     "output_type": "stream",
     "text": [
      "(4030, 9)\n"
     ]
    }
   ],
   "source": [
    "pl_reserve_tb.sample(100)\n",
    "\n",
    "print(pl_reserve_tb.shape)"
   ]
  },
  {
   "cell_type": "markdown",
   "metadata": {
    "id": "no1Tj5xZ9XAd"
   },
   "source": [
    "## pandas"
   ]
  },
  {
   "cell_type": "code",
   "execution_count": 62,
   "metadata": {
    "colab": {
     "base_uri": "https://localhost:8080/"
    },
    "id": "IdIzEL_U9XAp",
    "outputId": "118438b1-2a2d-4cfe-c586-a6783c4a27dc",
    "tags": []
   },
   "outputs": [
    {
     "name": "stdout",
     "output_type": "stream",
     "text": [
      "(4030, 13)\n"
     ]
    }
   ],
   "source": [
    "pd_reserve_tb.sample(100)\n",
    "\n",
    "print(pd_reserve_tb.shape)"
   ]
  },
  {
   "cell_type": "code",
   "execution_count": null,
   "metadata": {},
   "outputs": [],
   "source": []
  }
 ],
 "metadata": {
  "colab": {
   "authorship_tag": "ABX9TyPRAppCqLrPDxn2cw6DoDlj",
   "include_colab_link": true,
   "provenance": [],
   "toc_visible": true
  },
  "kernelspec": {
   "display_name": "Python 3 (ipykernel)",
   "language": "python",
   "name": "python3"
  },
  "language_info": {
   "codemirror_mode": {
    "name": "ipython",
    "version": 3
   },
   "file_extension": ".py",
   "mimetype": "text/x-python",
   "name": "python",
   "nbconvert_exporter": "python",
   "pygments_lexer": "ipython3",
   "version": "3.8.18"
  }
 },
 "nbformat": 4,
 "nbformat_minor": 4
}
