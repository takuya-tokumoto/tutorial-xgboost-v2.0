{
 "cells": [
  {
   "cell_type": "markdown",
   "id": "407a052c-238b-4add-b6fe-fb0cbbe0e45c",
   "metadata": {},
   "source": [
    "# データ準備"
   ]
  },
  {
   "cell_type": "code",
   "execution_count": 1,
   "id": "ffadcc05-6537-45a4-ba19-517bf44293d8",
   "metadata": {
    "tags": []
   },
   "outputs": [],
   "source": [
    "import xgboost as xgb\n",
    "import numpy as np\n",
    "from sklearn.model_selection import train_test_split\n",
    "from sklearn.datasets import make_regression"
   ]
  },
  {
   "cell_type": "code",
   "execution_count": 2,
   "id": "d8b4b680-14ab-42ae-a8e6-227b08827f88",
   "metadata": {
    "tags": []
   },
   "outputs": [],
   "source": [
    "\n",
    "X, y, coef = make_regression(\n",
    "    n_samples=1000, n_features=10, n_informative=10,\n",
    "    bias=1, n_targets=5, shuffle=True, coef=True, random_state=42\n",
    ")"
   ]
  },
  {
   "cell_type": "code",
   "execution_count": 3,
   "id": "6808948f-350b-47d1-a03c-451d097daca8",
   "metadata": {
    "tags": []
   },
   "outputs": [
    {
     "name": "stdout",
     "output_type": "stream",
     "text": [
      "(1000, 10)\n",
      "(1000, 5)\n",
      "(10, 5)\n"
     ]
    }
   ],
   "source": [
    "print(X.shape)\n",
    "print(y.shape)\n",
    "print(coef.shape)"
   ]
  },
  {
   "cell_type": "code",
   "execution_count": 4,
   "id": "bdaf61ca-8725-482e-82c0-2f48c76f9716",
   "metadata": {
    "tags": []
   },
   "outputs": [],
   "source": [
    "def add_dummy_feature(X):\n",
    "    # np.column_stack((np.ones(x.shape[0]) x))\n",
    "    X_dummyFeature = np.column_stack((np.ones(X.shape[0]), X))\n",
    "    return X_dummyFeature\n",
    "\n",
    "def trainTestSplit(X, y):\n",
    "    return train_test_split(X,y, test_size=.2,random_state=42 )\n",
    "\n",
    "def preprocess(X, y):\n",
    "    X_withdummyfeature = add_dummy_feature(X)\n",
    "    X_train, X_test, y_train, y_test = trainTestSplit(X_withdummyfeature, y)\n",
    "    return (X_train, X_test, y_train, y_test)"
   ]
  },
  {
   "cell_type": "code",
   "execution_count": 5,
   "id": "c372e3fe-6cc2-4206-be82-75f24a962505",
   "metadata": {
    "tags": []
   },
   "outputs": [],
   "source": [
    "X_train, X_test, y_train, y_test = preprocess(X, y)"
   ]
  },
  {
   "cell_type": "markdown",
   "id": "9d0a44b0-b395-4290-9979-91eda9ea71aa",
   "metadata": {},
   "source": [
    "# 学習・評価"
   ]
  },
  {
   "cell_type": "code",
   "execution_count": 6,
   "id": "a4368079-20ca-4e82-9fe0-912512badde3",
   "metadata": {
    "tags": []
   },
   "outputs": [],
   "source": [
    "def rmse_model(X_train, y_train, X_test, y_test, strategy: str) -> None:\n",
    "\n",
    "    reg = xgb.XGBRegressor(\n",
    "        tree_method=\"hist\",\n",
    "        n_estimators=10,\n",
    "        n_jobs=16,\n",
    "        max_depth=8,\n",
    "        multi_strategy=strategy,\n",
    "        subsample=0.6,\n",
    "    )\n",
    "    reg.fit(X_train, y_train, eval_set=[(X_test, y_test)])\n",
    "    \n",
    "    y_pred = reg.predict(X_test)\n",
    "    \n",
    "    # Calculating RMSE for the predictions\n",
    "    # rmse_value = np.sqrt(np.mean((y_pred - y_test) ** 2))\n",
    "    # print(f\"RMSE: {rmse_value:.4f}\")\n",
    "    \n",
    "    rmse_values = np.sqrt(np.mean((y_pred - y_test) ** 2, axis=0))\n",
    "    \n",
    "    return y_pred, rmse_values"
   ]
  },
  {
   "cell_type": "markdown",
   "id": "514a16be-ae2a-436b-b8ee-4e2853d259b3",
   "metadata": {
    "tags": []
   },
   "source": [
    "## one_output_per_treeモード"
   ]
  },
  {
   "cell_type": "code",
   "execution_count": 7,
   "id": "31f1ba21-5469-4b36-ac61-7bf3f0eae97c",
   "metadata": {
    "tags": []
   },
   "outputs": [
    {
     "name": "stdout",
     "output_type": "stream",
     "text": [
      "[0]\tvalidation_0-rmse:142.39924\n",
      "[1]\tvalidation_0-rmse:125.13344\n",
      "[2]\tvalidation_0-rmse:113.81898\n",
      "[3]\tvalidation_0-rmse:104.44637\n",
      "[4]\tvalidation_0-rmse:97.31021\n",
      "[5]\tvalidation_0-rmse:91.56373\n",
      "[6]\tvalidation_0-rmse:87.15631\n",
      "[7]\tvalidation_0-rmse:84.14150\n",
      "[8]\tvalidation_0-rmse:81.83047\n",
      "[9]\tvalidation_0-rmse:79.94199\n",
      "CPU times: user 687 ms, sys: 1.8 s, total: 2.49 s\n",
      "Wall time: 1.51 s\n"
     ]
    }
   ],
   "source": [
    "%%time\n",
    "\n",
    "y_pred_one_output, rmse_one_output = (\n",
    "    rmse_model(X_train, y_train, X_test, y_test, 'one_output_per_tree')\n",
    ")"
   ]
  },
  {
   "cell_type": "code",
   "execution_count": 8,
   "id": "8b0d4085-fb58-40e3-84fc-b5ae05224570",
   "metadata": {
    "tags": []
   },
   "outputs": [
    {
     "data": {
      "text/plain": [
       "array([[  39.61588  ,  -86.344864 ,  189.01514  ,   66.54641  ,\n",
       "         204.35556  ],\n",
       "       [-189.94342  ,   49.701653 ,   -4.8221784,    3.07233  ,\n",
       "         -32.576298 ],\n",
       "       [   4.4479485,  -17.94181  ,  -27.173563 , -111.497055 ,\n",
       "           8.070973 ]], dtype=float32)"
      ]
     },
     "execution_count": 8,
     "metadata": {},
     "output_type": "execute_result"
    }
   ],
   "source": [
    "y_pred_one_output[:3]"
   ]
  },
  {
   "cell_type": "code",
   "execution_count": 9,
   "id": "dc053cb5-1f19-47e5-8a62-94d12d5c746c",
   "metadata": {
    "tags": []
   },
   "outputs": [
    {
     "data": {
      "text/plain": [
       "array([ 94.13737619,  45.89503974,  87.60233596,  48.79260519,\n",
       "       104.54912595])"
      ]
     },
     "execution_count": 9,
     "metadata": {},
     "output_type": "execute_result"
    }
   ],
   "source": [
    "# RMSE\n",
    "\n",
    "rmse_one_output"
   ]
  },
  {
   "cell_type": "markdown",
   "id": "02dfc8d1-8c64-465e-9242-e6b9251cb0d0",
   "metadata": {},
   "source": [
    "##  multi-outputモード：v2.0で追加された機能"
   ]
  },
  {
   "cell_type": "code",
   "execution_count": 10,
   "id": "5088dcaa-8474-4fe3-99ad-d1859da847b2",
   "metadata": {
    "tags": []
   },
   "outputs": [
    {
     "name": "stdout",
     "output_type": "stream",
     "text": [
      "[0]\tvalidation_0-rmse:145.68274\n",
      "[1]\tvalidation_0-rmse:131.97485\n",
      "[2]\tvalidation_0-rmse:119.99593\n",
      "[3]\tvalidation_0-rmse:112.19433\n",
      "[4]\tvalidation_0-rmse:105.89406\n",
      "[5]\tvalidation_0-rmse:99.73904\n",
      "[6]\tvalidation_0-rmse:95.55826\n",
      "[7]\tvalidation_0-rmse:92.93062\n",
      "[8]\tvalidation_0-rmse:90.29302\n",
      "[9]\tvalidation_0-rmse:88.30450\n",
      "CPU times: user 965 ms, sys: 986 ms, total: 1.95 s\n",
      "Wall time: 1.08 s\n"
     ]
    }
   ],
   "source": [
    "%%time\n",
    "\n",
    "y_pred_multi_output, rmse_multi_output = (\n",
    "    rmse_model(X_train, y_train, X_test, y_test, 'multi_output_tree')\n",
    ")"
   ]
  },
  {
   "cell_type": "code",
   "execution_count": 11,
   "id": "c6ae0b11-5ee3-49c2-b9c4-43ed6647257e",
   "metadata": {
    "tags": []
   },
   "outputs": [
    {
     "data": {
      "text/plain": [
       "array([[ 125.61726 ,  -38.236664,   59.608208,   30.832848,  140.96844 ],\n",
       "       [ -99.362465,   23.78672 ,  -27.81465 ,   21.297115,  -51.148952],\n",
       "       [ -26.781939,  -48.608788,  -54.31098 , -126.385284,   31.205887]],\n",
       "      dtype=float32)"
      ]
     },
     "execution_count": 11,
     "metadata": {},
     "output_type": "execute_result"
    }
   ],
   "source": [
    "y_pred_multi_output[:3]"
   ]
  },
  {
   "cell_type": "code",
   "execution_count": 12,
   "id": "4f87f710-8da0-4720-9835-95e23bc26342",
   "metadata": {
    "tags": []
   },
   "outputs": [
    {
     "data": {
      "text/plain": [
       "array([100.42834274,  54.99396456,  93.91773181,  60.69883529,\n",
       "       115.64320304])"
      ]
     },
     "execution_count": 12,
     "metadata": {},
     "output_type": "execute_result"
    }
   ],
   "source": [
    "# RMSE\n",
    "\n",
    "rmse_multi_output"
   ]
  }
 ],
 "metadata": {
  "kernelspec": {
   "display_name": "Python 3",
   "language": "python",
   "name": "python3"
  },
  "language_info": {
   "codemirror_mode": {
    "name": "ipython",
    "version": 3
   },
   "file_extension": ".py",
   "mimetype": "text/x-python",
   "name": "python",
   "nbconvert_exporter": "python",
   "pygments_lexer": "ipython3",
   "version": "3.8.18"
  }
 },
 "nbformat": 4,
 "nbformat_minor": 5
}
